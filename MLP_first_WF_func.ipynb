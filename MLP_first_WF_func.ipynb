{
 "cells": [
  {
   "cell_type": "code",
   "execution_count": 2,
   "id": "6d7a48a8",
   "metadata": {},
   "outputs": [
    {
     "name": "stderr",
     "output_type": "stream",
     "text": [
      "/Users/matteogiori/trycloneinsider/TradingBot/.venv313/lib/python3.13/site-packages/backtesting/_plotting.py:55: UserWarning: Jupyter Notebook detected. Setting Bokeh output to notebook. This may not work in Jupyter clients without JavaScript support, such as old IDEs. Reset with `backtesting.set_bokeh_output(notebook=False)`.\n",
      "  warnings.warn('Jupyter Notebook detected. '\n"
     ]
    },
    {
     "data": {
      "text/html": [
       "    <style>\n",
       "        .bk-notebook-logo {\n",
       "            display: block;\n",
       "            width: 20px;\n",
       "            height: 20px;\n",
       "            background-image: url(data:image/png;base64,iVBORw0KGgoAAAANSUhEUgAAABQAAAAUCAYAAACNiR0NAAAABHNCSVQICAgIfAhkiAAAAAlwSFlzAAALEgAACxIB0t1+/AAAABx0RVh0U29mdHdhcmUAQWRvYmUgRmlyZXdvcmtzIENTNui8sowAAAOkSURBVDiNjZRtaJVlGMd/1/08zzln5zjP1LWcU9N0NkN8m2CYjpgQYQXqSs0I84OLIC0hkEKoPtiH3gmKoiJDU7QpLgoLjLIQCpEsNJ1vqUOdO7ppbuec5+V+rj4ctwzd8IIbbi6u+8f1539dt3A78eXC7QizUF7gyV1fD1Yqg4JWz84yffhm0qkFqBogB9rM8tZdtwVsPUhWhGcFJngGeWrPzHm5oaMmkfEg1usvLFyc8jLRqDOMru7AyC8saQr7GG7f5fvDeH7Ej8CM66nIF+8yngt6HWaKh7k49Soy9nXurCi1o3qUbS3zWfrYeQDTB/Qj6kX6Ybhw4B+bOYoLKCC9H3Nu/leUTZ1JdRWkkn2ldcCamzrcf47KKXdAJllSlxAOkRgyHsGC/zRday5Qld9DyoM4/q/rUoy/CXh3jzOu3bHUVZeU+DEn8FInkPBFlu3+nW3Nw0mk6vCDiWg8CeJaxEwuHS3+z5RgY+YBR6V1Z1nxSOfoaPa4LASWxxdNp+VWTk7+4vzaou8v8PN+xo+KY2xsw6une2frhw05CTYOmQvsEhjhWjn0bmXPjpE1+kplmmkP3suftwTubK9Vq22qKmrBhpY4jvd5afdRA3wGjFAgcnTK2s4hY0/GPNIb0nErGMCRxWOOX64Z8RAC4oCXdklmEvcL8o0BfkNK4lUg9HTl+oPlQxdNo3Mg4Nv175e/1LDGzZen30MEjRUtmXSfiTVu1kK8W4txyV6BMKlbgk3lMwYCiusNy9fVfvvwMxv8Ynl6vxoByANLTWplvuj/nF9m2+PDtt1eiHPBr1oIfhCChQMBw6Aw0UulqTKZdfVvfG7VcfIqLG9bcldL/+pdWTLxLUy8Qq38heUIjh4XlzZxzQm19lLFlr8vdQ97rjZVOLf8nclzckbcD4wxXMidpX30sFd37Fv/GtwwhzhxGVAprjbg0gCAEeIgwCZyTV2Z1REEW8O4py0wsjeloKoMr6iCY6dP92H6Vw/oTyICIthibxjm/DfN9lVz8IqtqKYLUXfoKVMVQVVJOElGjrnnUt9T9wbgp8AyYKaGlqingHZU/uG2NTZSVqwHQTWkx9hxjkpWDaCg6Ckj5qebgBVbT3V3NNXMSiWSDdGV3hrtzla7J+duwPOToIg42ChPQOQjspnSlp1V+Gjdged7+8UN5CRAV7a5EdFNwCjEaBR27b3W890TE7g24NAP/mMDXRWrGoFPQI9ls/MWO2dWFAar/xcOIImbbpA3zgAAAABJRU5ErkJggg==);\n",
       "        }\n",
       "    </style>\n",
       "    <div>\n",
       "        <a href=\"https://bokeh.org\" target=\"_blank\" class=\"bk-notebook-logo\"></a>\n",
       "        <span id=\"c112a204-9738-4ea4-b792-75d381874713\">Loading BokehJS ...</span>\n",
       "    </div>\n"
      ]
     },
     "metadata": {},
     "output_type": "display_data"
    },
    {
     "data": {
      "application/javascript": "'use strict';\n(function(root) {\n  function now() {\n    return new Date();\n  }\n\n  const force = true;\n\n  if (typeof root._bokeh_onload_callbacks === \"undefined\" || force === true) {\n    root._bokeh_onload_callbacks = [];\n    root._bokeh_is_loading = undefined;\n  }\n\nconst JS_MIME_TYPE = 'application/javascript';\n  const HTML_MIME_TYPE = 'text/html';\n  const EXEC_MIME_TYPE = 'application/vnd.bokehjs_exec.v0+json';\n  const CLASS_NAME = 'output_bokeh rendered_html';\n\n  /**\n   * Render data to the DOM node\n   */\n  function render(props, node) {\n    const script = document.createElement(\"script\");\n    node.appendChild(script);\n  }\n\n  /**\n   * Handle when an output is cleared or removed\n   */\n  function handleClearOutput(event, handle) {\n    function drop(id) {\n      const view = Bokeh.index.get_by_id(id)\n      if (view != null) {\n        view.model.document.clear()\n        Bokeh.index.delete(view)\n      }\n    }\n\n    const cell = handle.cell;\n\n    const id = cell.output_area._bokeh_element_id;\n    const server_id = cell.output_area._bokeh_server_id;\n\n    // Clean up Bokeh references\n    if (id != null) {\n      drop(id)\n    }\n\n    if (server_id !== undefined) {\n      // Clean up Bokeh references\n      const cmd_clean = \"from bokeh.io.state import curstate; print(curstate().uuid_to_server['\" + server_id + \"'].get_sessions()[0].document.roots[0]._id)\";\n      cell.notebook.kernel.execute(cmd_clean, {\n        iopub: {\n          output: function(msg) {\n            const id = msg.content.text.trim()\n            drop(id)\n          }\n        }\n      });\n      // Destroy server and session\n      const cmd_destroy = \"import bokeh.io.notebook as ion; ion.destroy_server('\" + server_id + \"')\";\n      cell.notebook.kernel.execute(cmd_destroy);\n    }\n  }\n\n  /**\n   * Handle when a new output is added\n   */\n  function handleAddOutput(event, handle) {\n    const output_area = handle.output_area;\n    const output = handle.output;\n\n    // limit handleAddOutput to display_data with EXEC_MIME_TYPE content only\n    if ((output.output_type != \"display_data\") || (!Object.prototype.hasOwnProperty.call(output.data, EXEC_MIME_TYPE))) {\n      return\n    }\n\n    const toinsert = output_area.element.find(\".\" + CLASS_NAME.split(' ')[0]);\n\n    if (output.metadata[EXEC_MIME_TYPE][\"id\"] !== undefined) {\n      toinsert[toinsert.length - 1].firstChild.textContent = output.data[JS_MIME_TYPE];\n      // store reference to embed id on output_area\n      output_area._bokeh_element_id = output.metadata[EXEC_MIME_TYPE][\"id\"];\n    }\n    if (output.metadata[EXEC_MIME_TYPE][\"server_id\"] !== undefined) {\n      const bk_div = document.createElement(\"div\");\n      bk_div.innerHTML = output.data[HTML_MIME_TYPE];\n      const script_attrs = bk_div.children[0].attributes;\n      for (let i = 0; i < script_attrs.length; i++) {\n        toinsert[toinsert.length - 1].firstChild.setAttribute(script_attrs[i].name, script_attrs[i].value);\n        toinsert[toinsert.length - 1].firstChild.textContent = bk_div.children[0].textContent\n      }\n      // store reference to server id on output_area\n      output_area._bokeh_server_id = output.metadata[EXEC_MIME_TYPE][\"server_id\"];\n    }\n  }\n\n  function register_renderer(events, OutputArea) {\n\n    function append_mime(data, metadata, element) {\n      // create a DOM node to render to\n      const toinsert = this.create_output_subarea(\n        metadata,\n        CLASS_NAME,\n        EXEC_MIME_TYPE\n      );\n      this.keyboard_manager.register_events(toinsert);\n      // Render to node\n      const props = {data: data, metadata: metadata[EXEC_MIME_TYPE]};\n      render(props, toinsert[toinsert.length - 1]);\n      element.append(toinsert);\n      return toinsert\n    }\n\n    /* Handle when an output is cleared or removed */\n    events.on('clear_output.CodeCell', handleClearOutput);\n    events.on('delete.Cell', handleClearOutput);\n\n    /* Handle when a new output is added */\n    events.on('output_added.OutputArea', handleAddOutput);\n\n    /**\n     * Register the mime type and append_mime function with output_area\n     */\n    OutputArea.prototype.register_mime_type(EXEC_MIME_TYPE, append_mime, {\n      /* Is output safe? */\n      safe: true,\n      /* Index of renderer in `output_area.display_order` */\n      index: 0\n    });\n  }\n\n  // register the mime type if in Jupyter Notebook environment and previously unregistered\n  if (root.Jupyter !== undefined) {\n    const events = require('base/js/events');\n    const OutputArea = require('notebook/js/outputarea').OutputArea;\n\n    if (OutputArea.prototype.mime_types().indexOf(EXEC_MIME_TYPE) == -1) {\n      register_renderer(events, OutputArea);\n    }\n  }\n  if (typeof (root._bokeh_timeout) === \"undefined\" || force === true) {\n    root._bokeh_timeout = Date.now() + 5000;\n    root._bokeh_failed_load = false;\n  }\n\n  const NB_LOAD_WARNING = {'data': {'text/html':\n     \"<div style='background-color: #fdd'>\\n\"+\n     \"<p>\\n\"+\n     \"BokehJS does not appear to have successfully loaded. If loading BokehJS from CDN, this \\n\"+\n     \"may be due to a slow or bad network connection. Possible fixes:\\n\"+\n     \"</p>\\n\"+\n     \"<ul>\\n\"+\n     \"<li>re-rerun `output_notebook()` to attempt to load from CDN again, or</li>\\n\"+\n     \"<li>use INLINE resources instead, as so:</li>\\n\"+\n     \"</ul>\\n\"+\n     \"<code>\\n\"+\n     \"from bokeh.resources import INLINE\\n\"+\n     \"output_notebook(resources=INLINE)\\n\"+\n     \"</code>\\n\"+\n     \"</div>\"}};\n\n  function display_loaded(error = null) {\n    const el = document.getElementById(\"c112a204-9738-4ea4-b792-75d381874713\");\n    if (el != null) {\n      const html = (() => {\n        if (typeof root.Bokeh === \"undefined\") {\n          if (error == null) {\n            return \"BokehJS is loading ...\";\n          } else {\n            return \"BokehJS failed to load.\";\n          }\n        } else {\n          const prefix = `BokehJS ${root.Bokeh.version}`;\n          if (error == null) {\n            return `${prefix} successfully loaded.`;\n          } else {\n            return `${prefix} <b>encountered errors</b> while loading and may not function as expected.`;\n          }\n        }\n      })();\n      el.innerHTML = html;\n\n      if (error != null) {\n        const wrapper = document.createElement(\"div\");\n        wrapper.style.overflow = \"auto\";\n        wrapper.style.height = \"5em\";\n        wrapper.style.resize = \"vertical\";\n        const content = document.createElement(\"div\");\n        content.style.fontFamily = \"monospace\";\n        content.style.whiteSpace = \"pre-wrap\";\n        content.style.backgroundColor = \"rgb(255, 221, 221)\";\n        content.textContent = error.stack ?? error.toString();\n        wrapper.append(content);\n        el.append(wrapper);\n      }\n    } else if (Date.now() < root._bokeh_timeout) {\n      setTimeout(() => display_loaded(error), 100);\n    }\n  }\n\n  function run_callbacks() {\n    try {\n      root._bokeh_onload_callbacks.forEach(function(callback) {\n        if (callback != null)\n          callback();\n      });\n    } finally {\n      delete root._bokeh_onload_callbacks\n    }\n    console.debug(\"Bokeh: all callbacks have finished\");\n  }\n\n  function load_libs(css_urls, js_urls, callback) {\n    if (css_urls == null) css_urls = [];\n    if (js_urls == null) js_urls = [];\n\n    root._bokeh_onload_callbacks.push(callback);\n    if (root._bokeh_is_loading > 0) {\n      console.debug(\"Bokeh: BokehJS is being loaded, scheduling callback at\", now());\n      return null;\n    }\n    if (js_urls == null || js_urls.length === 0) {\n      run_callbacks();\n      return null;\n    }\n    console.debug(\"Bokeh: BokehJS not loaded, scheduling load and callback at\", now());\n    root._bokeh_is_loading = css_urls.length + js_urls.length;\n\n    function on_load() {\n      root._bokeh_is_loading--;\n      if (root._bokeh_is_loading === 0) {\n        console.debug(\"Bokeh: all BokehJS libraries/stylesheets loaded\");\n        run_callbacks()\n      }\n    }\n\n    function on_error(url) {\n      console.error(\"failed to load \" + url);\n    }\n\n    for (let i = 0; i < css_urls.length; i++) {\n      const url = css_urls[i];\n      const element = document.createElement(\"link\");\n      element.onload = on_load;\n      element.onerror = on_error.bind(null, url);\n      element.rel = \"stylesheet\";\n      element.type = \"text/css\";\n      element.href = url;\n      console.debug(\"Bokeh: injecting link tag for BokehJS stylesheet: \", url);\n      document.body.appendChild(element);\n    }\n\n    for (let i = 0; i < js_urls.length; i++) {\n      const url = js_urls[i];\n      const element = document.createElement('script');\n      element.onload = on_load;\n      element.onerror = on_error.bind(null, url);\n      element.async = false;\n      element.src = url;\n      console.debug(\"Bokeh: injecting script tag for BokehJS library: \", url);\n      document.head.appendChild(element);\n    }\n  };\n\n  function inject_raw_css(css) {\n    const element = document.createElement(\"style\");\n    element.appendChild(document.createTextNode(css));\n    document.body.appendChild(element);\n  }\n\n  const js_urls = [\"https://cdn.bokeh.org/bokeh/release/bokeh-3.7.3.min.js\", \"https://cdn.bokeh.org/bokeh/release/bokeh-gl-3.7.3.min.js\", \"https://cdn.bokeh.org/bokeh/release/bokeh-widgets-3.7.3.min.js\", \"https://cdn.bokeh.org/bokeh/release/bokeh-tables-3.7.3.min.js\", \"https://cdn.bokeh.org/bokeh/release/bokeh-mathjax-3.7.3.min.js\"];\n  const css_urls = [];\n\n  const inline_js = [    function(Bokeh) {\n      Bokeh.set_log_level(\"info\");\n    },\nfunction(Bokeh) {\n    }\n  ];\n\n  function run_inline_js() {\n    if (root.Bokeh !== undefined || force === true) {\n      try {\n            for (let i = 0; i < inline_js.length; i++) {\n      inline_js[i].call(root, root.Bokeh);\n    }\n\n      } catch (error) {display_loaded(error);throw error;\n      }if (force === true) {\n        display_loaded();\n      }} else if (Date.now() < root._bokeh_timeout) {\n      setTimeout(run_inline_js, 100);\n    } else if (!root._bokeh_failed_load) {\n      console.log(\"Bokeh: BokehJS failed to load within specified timeout.\");\n      root._bokeh_failed_load = true;\n    } else if (force !== true) {\n      const cell = $(document.getElementById(\"c112a204-9738-4ea4-b792-75d381874713\")).parents('.cell').data().cell;\n      cell.output_area.append_execute_result(NB_LOAD_WARNING)\n    }\n  }\n\n  if (root._bokeh_is_loading === 0) {\n    console.debug(\"Bokeh: BokehJS loaded, going straight to plotting\");\n    run_inline_js();\n  } else {\n    load_libs(css_urls, js_urls, function() {\n      console.debug(\"Bokeh: BokehJS plotting callback run at\", now());\n      run_inline_js();\n    });\n  }\n}(window));",
      "application/vnd.bokehjs_load.v0+json": ""
     },
     "metadata": {},
     "output_type": "display_data"
    }
   ],
   "source": [
    "import os\n",
    "import time\n",
    "import math\n",
    "import numpy as np\n",
    "from IPython.utils import io\n",
    "import pandas as pd\n",
    "from tqdm import tqdm\n",
    "from dataclasses import dataclass\n",
    "from typing import List, Union \n",
    "import matplotlib.pyplot as plt\n",
    "import matplotlib\n",
    "from backtesting import Backtest, Strategy\n",
    "from backtesting.lib import crossover\n",
    "import ta\n",
    "import torch\n",
    "import torch.nn as nn"
   ]
  },
  {
   "cell_type": "code",
   "execution_count": 3,
   "id": "404e2af5",
   "metadata": {},
   "outputs": [
    {
     "name": "stdout",
     "output_type": "stream",
     "text": [
      "                       Open    High      Low    Close  Volume\n",
      "time                                                         \n",
      "2018-01-02 14:30:00  156.50  157.88  156.170  157.840  875636\n",
      "2018-01-02 15:30:00  157.85  158.15  157.630  158.000  424637\n",
      "2018-01-02 16:30:00  158.01  158.06  157.895  157.990  161584\n",
      "2018-01-02 17:30:00  157.98  158.10  157.900  158.080  131613\n",
      "2018-01-02 18:30:00  158.08  158.33  158.070  158.265  251044\n"
     ]
    }
   ],
   "source": [
    "from PERMUTATIONS import get_permutation\n",
    "from strategy import ARSIstrat"
   ]
  },
  {
   "cell_type": "code",
   "execution_count": 4,
   "id": "33d74751",
   "metadata": {},
   "outputs": [],
   "source": [
    "def load_data(csv_path: str, start='2018-01-01', end_excl='2024-01-01'):\n",
    "    df = pd.read_csv(csv_path)\n",
    "    df['time'] = pd.to_datetime(df['time'].astype(int), unit='s')\n",
    "    df.set_index('time', inplace=True)\n",
    "    df.sort_index(inplace=True)\n",
    "    df = df.loc[(df.index >= start) & (df.index < end_excl)].copy()\n",
    "    df = df.rename(columns={'open': 'Open', 'high': 'High', 'low': 'Low', 'close': 'Close', 'volume': 'Volume'})\n",
    "    return df"
   ]
  },
  {
   "cell_type": "code",
   "execution_count": 5,
   "id": "e14fb5bb",
   "metadata": {},
   "outputs": [],
   "source": [
    "def make_strat(p):\n",
    "    class Tuned(ARSIstrat):\n",
    "        sl_pct = float(p['sl_pct'])\n",
    "        n_fast = int(p['n_fast'])\n",
    "        n_slow = int(p['n_slow'])\n",
    "        n_vslow = int(p['n_vslow'])\n",
    "        sig_len = int(p['sig_len'])\n",
    "    return Tuned"
   ]
  },
  {
   "cell_type": "code",
   "execution_count": 6,
   "id": "6257ddbc",
   "metadata": {},
   "outputs": [],
   "source": [
    "def run_bt(data: pd.DataFrame, params: dict, spread: float = 0.0001):\n",
    "    Strat = make_strat(params)\n",
    "    bt = Backtest(data, Strat, cash=1_000_000, commission=0.0, spread=spread, finalize_trades=True)\n",
    "    \n",
    "    with io.capture_output():\n",
    "        stats = bt.run()\n",
    "    \n",
    "\n",
    "    sharpe = float(stats.get('Sharpe Ratio', 0.0))\n",
    "    # turnover proxy\n",
    "    trades = int(getattr(stats, '_trades', pd.DataFrame()).shape[0]) if hasattr(stats, '_trades') else 0\n",
    "    days = max(1, (data.index[-1] - data.index[0]).days)\n",
    "    tpd = trades / days\n",
    "    score = sharpe - 0.02 * tpd\n",
    "    return score, tpd, stats"
   ]
  },
  {
   "cell_type": "code",
   "execution_count": 7,
   "id": "1fd0faf2",
   "metadata": {},
   "outputs": [],
   "source": [
    "SPACE = {\n",
    "    'sl_pct': (0.001, 0.02, 'float'),  # 0.1% .. 2%\n",
    "    'n_fast': (5, 25, 'int'),\n",
    "    'n_slow': (10, 55, 'int'),\n",
    "    'n_vslow': (30, 120, 'int'),\n",
    "    'sig_len': (5, 30, 'int'),\n",
    "}\n",
    "ORDER = list(SPACE.keys())\n",
    "\n",
    "\n",
    "def encode(params_dict):\n",
    "    z = []\n",
    "    for k in ORDER:\n",
    "        lo, hi, typ = SPACE[k]\n",
    "        v = float(params_dict[k])\n",
    "        v = (v - lo) / (hi - lo)\n",
    "        z.append(np.clip(v, 0, 1))\n",
    "    return np.array(z, dtype=np.float32)\n",
    "\n",
    "\n",
    "def decode(z):\n",
    "    out = {}\n",
    "    for i, k in enumerate(ORDER):\n",
    "        lo, hi, typ = SPACE[k]\n",
    "        v = lo + float(np.clip(z[i], 0, 1)) * (hi - lo)\n",
    "        if typ == 'int':\n",
    "            v = int(round(v))\n",
    "            v = int(min(max(v, int(lo)), int(hi)))\n",
    "        else:\n",
    "            v = float(v)\n",
    "        out[k] = v\n",
    "    return out\n",
    "\n",
    "\n",
    "def sample_params(n):\n",
    "    Ps = []\n",
    "    for _ in range(n):\n",
    "        d = {}\n",
    "        for k, (lo, hi, typ) in SPACE.items():\n",
    "            if typ == 'int':\n",
    "                d[k] = int(np.random.randint(int(lo), int(hi) + 1))\n",
    "            else:\n",
    "                d[k] = float(np.random.uniform(lo, hi))\n",
    "        Ps.append(d)\n",
    "    return Ps"
   ]
  },
  {
   "cell_type": "code",
   "execution_count": 8,
   "id": "4d10fc33",
   "metadata": {},
   "outputs": [],
   "source": [
    "class Surrogate(nn.Module):\n",
    "    def __init__(self, d, p_dropout=0.15):\n",
    "        super().__init__()\n",
    "        self.net = nn.Sequential(\n",
    "            nn.Linear(d, 64), nn.ReLU(),\n",
    "            nn.Linear(64, 64), nn.ReLU(),\n",
    "            nn.Dropout(p_dropout),\n",
    "            nn.Linear(64, 1)\n",
    "        )\n",
    "\n",
    "    def forward(self, x):\n",
    "        return self.net(x).squeeze(-1)\n",
    "\n",
    "\n",
    "def fit_surrogate(X, y, steps=2000, lr=1e-3, wd=1e-3, val_frac=0.2, patience=200):\n",
    "    from copy import deepcopy\n",
    "    X = np.array(X, dtype=np.float32); y = np.array(y, dtype=np.float32)\n",
    "    n = len(X)\n",
    "    if n < 10:\n",
    "        raise ValueError(\"Need at least 10 samples to fit surrogate\")\n",
    "    idx = np.random.permutation(n)\n",
    "    k = int(n * (1 - val_frac))\n",
    "    tr, va = idx[:k], idx[k:]\n",
    "    Xt = torch.tensor(X[tr]); yt = torch.tensor(y[tr])\n",
    "    Xv = torch.tensor(X[va]); yv = torch.tensor(y[va])\n",
    "\n",
    "    model = Surrogate(X.shape[1])\n",
    "    opt = torch.optim.Adam(model.parameters(), lr=lr, weight_decay=wd)\n",
    "    loss = nn.MSELoss()\n",
    "\n",
    "    best = (1e9, None)\n",
    "    bad = 0\n",
    "    for _ in range(steps):\n",
    "        model.train(); opt.zero_grad()\n",
    "        pred = model(Xt); l = loss(pred, yt); l.backward(); opt.step()\n",
    "        model.eval()\n",
    "        with torch.no_grad():\n",
    "            v = loss(model(Xv), yv).item()\n",
    "            if v < best[0]:\n",
    "                best = (v, deepcopy(model.state_dict())); bad = 0\n",
    "            else:\n",
    "                bad += 1\n",
    "            if bad > patience:\n",
    "                break\n",
    "    model.load_state_dict(best[1])\n",
    "    model.eval()\n",
    "    return model\n",
    "\n",
    "\n",
    "def argmax_on_surrogate(model, starts, iters=400, lr=0.05):\n",
    "    best_z, best_pred = None, -1e9\n",
    "    for z0 in starts:\n",
    "        z = torch.tensor(z0.copy(), dtype=torch.float32, requires_grad=True)\n",
    "        opt = torch.optim.Adam([z], lr=lr)\n",
    "        for _ in range(iters):\n",
    "            opt.zero_grad()\n",
    "            z_c = torch.clamp(z, 0.0, 1.0)\n",
    "            pred = model(z_c)\n",
    "            loss = -pred\n",
    "            loss.backward(); opt.step()\n",
    "        with torch.no_grad():\n",
    "            z_c = torch.clamp(z, 0.0, 1.0)\n",
    "            pred = model(z_c).item()\n",
    "            if pred > best_pred:\n",
    "                best_pred, best_z = pred, z_c.detach().numpy()\n",
    "    return best_z, best_pred"
   ]
  },
  {
   "cell_type": "code",
   "execution_count": 9,
   "id": "b4bfd83c",
   "metadata": {},
   "outputs": [],
   "source": [
    "SPLITS = [\n",
    "    ('2018-01-01', '2020-12-31', '2021-01-01', '2021-06-30'),\n",
    "    ('2018-07-01', '2021-06-30', '2021-07-01', '2021-12-31'),\n",
    "    ('2019-01-01', '2021-12-31', '2022-01-01', '2022-06-30'),\n",
    "    ('2019-07-01', '2022-06-30', '2022-07-01', '2022-12-31'),\n",
    "]\n",
    "\n",
    "\n",
    "def slice_df(df, s, e):\n",
    "    return df.loc[s:e]\n",
    "\n",
    "\n",
    "def robust_validation_score(df_full, p):\n",
    "    sharpes, tpds = [] , []\n",
    "    for (tr_s, tr_e, val_s, val_e) in SPLITS:\n",
    "        train = slice_df(df_full, tr_s, tr_e)\n",
    "        if len(train) > 0:\n",
    "            train = train.iloc[:-5]  # embargo 5 bars\n",
    "        valid = slice_df(df_full, val_s, val_e)\n",
    "        # friction jitter\n",
    "        for sp in [0.00008, 0.0001, 0.00012]:\n",
    "            s, t, _ = run_bt(valid, p, spread=sp)\n",
    "            sharpes.append(s)\n",
    "            tpds.append(t)\n",
    "    sharpes = np.array(sharpes, float)\n",
    "    tpds = np.array(tpds, float)\n",
    "    q25 = float(np.quantile(sharpes, 0.25))\n",
    "    std = float(np.std(sharpes))\n",
    "    tpd = float(np.median(tpds))\n",
    "    return q25 - 0.5 * std - 0.02 * tpd"
   ]
  },
  {
   "cell_type": "code",
   "execution_count": 10,
   "id": "98771663",
   "metadata": {},
   "outputs": [
    {
     "name": "stdout",
     "output_type": "stream",
     "text": [
      "                        Open    High     Low    Close   Volume\n",
      "time                                                          \n",
      "2018-02-01 14:30:00  168.120  169.30  168.10  168.860   778080\n",
      "2018-02-01 15:30:00  168.890  169.56  168.77  169.000   369077\n",
      "2018-02-01 16:30:00  169.030  169.56  169.01  169.350   308644\n",
      "2018-02-01 17:30:00  169.350  169.72  169.33  169.610   233919\n",
      "2018-02-01 18:30:00  169.610  169.62  168.15  168.500   536976\n",
      "2018-02-01 19:30:00  168.530  168.84  168.16  168.180   472291\n",
      "2018-02-01 20:30:00  168.180  168.28  167.43  167.970   881835\n",
      "2018-02-02 14:30:00  167.350  167.69  165.47  166.550  1440870\n",
      "2018-02-02 15:30:00  166.550  166.98  166.29  166.455   468137\n",
      "2018-02-02 16:30:00  166.445  166.80  165.88  166.800   338315\n",
      "2018-02-02 17:30:00  166.800  166.85  165.71  166.030   444612\n",
      "2018-02-02 18:30:00  166.050  166.17  165.32  165.410   700824\n",
      "2018-02-02 19:30:00  165.420  165.96  164.69  165.170  1402530\n",
      "2018-02-02 20:30:00  165.180  165.32  164.48  164.560  1224748\n"
     ]
    }
   ],
   "source": [
    "np.random.seed(42)\n",
    "\n",
    "csv_path = 'BATS_QQQ, 60_a45be.csv'\n",
    "full_df = load_data(csv_path, start='2018-01-01', end_excl='2024-01-01')\n",
    "\n",
    "# Define periods\n",
    "df_train = full_df.loc['2018-01-01':'2021-12-31']\n",
    "df_test = full_df.loc['2023-01-01':'2023-12-31']\n",
    "\n",
    "print(df_train.loc['2018-02-01':'2018-02-03'])"
   ]
  },
  {
   "cell_type": "code",
   "execution_count": 11,
   "id": "378a1aa2",
   "metadata": {},
   "outputs": [],
   "source": [
    "def run_model_for_params(ohlc: pd.DataFrame,K : int):\n",
    "    \n",
    "    # 1) \n",
    "    N_INIT = 60\n",
    "    pool = sample_params(N_INIT)\n",
    "    X, y = [], []\n",
    "    t0 = time.perf_counter()\n",
    "    for p in pool:\n",
    "        s_train, _, _ = run_bt(ohlc, p)\n",
    "        X.append(encode(p)); y.append(s_train)\n",
    "    #print(f\"Initial evals: {len(y)} done in {time.perf_counter()-t0:.1f}s. Best train={max(y):.3f}\")\n",
    "\n",
    "    # 2)\n",
    "    N_ROUNDS = 3\n",
    "    TOP_K = 8\n",
    "    N_STARTS = 16\n",
    "    for r in range(N_ROUNDS):\n",
    "        surr = fit_surrogate(X, y, steps=1500, lr=1e-3, wd=1e-3, val_frac=0.2, patience=150)\n",
    "        starts = [np.random.rand(len(ORDER)) for _ in range(N_STARTS - 4)]\n",
    "        # seed from best-so-far\n",
    "        top_idx = np.argsort(y)[-4:]\n",
    "        starts += [X[i] for i in top_idx]\n",
    "        cand = []\n",
    "        for z0 in starts:\n",
    "            z_star, _ = argmax_on_surrogate(surr, [z0], iters=250, lr=0.05)\n",
    "            cand.append(z_star)\n",
    "        # dedupe\n",
    "        uniq = []\n",
    "        for z in cand:\n",
    "            if all(np.linalg.norm(z - u) > 0.05 for u in uniq):\n",
    "                uniq.append(z)\n",
    "        preds = surr(torch.tensor(np.array(uniq), dtype=torch.float32)).detach().numpy()\n",
    "        order = np.argsort(preds)[::-1][:TOP_K]\n",
    "        added = 0\n",
    "        for idx in order:\n",
    "            p = decode(uniq[idx])\n",
    "            s_train, _, _ = run_bt(df_train, p)\n",
    "            X.append(encode(p)); y.append(s_train)\n",
    "            added += 1\n",
    "        #print(f\"Round {r+1}: added {added}, best train={max(y):.3f}\")\n",
    "\n",
    "    # 3)\n",
    "    candidates = [decode(x) for x in X]\n",
    "    val_scores = []\n",
    "    for p in candidates:\n",
    "        vs = robust_validation_score(full_df, p)\n",
    "        val_scores.append(vs)\n",
    "    idxs = np.argsort(val_scores)[::-1]\n",
    "    K_FINAL = K\n",
    "    finalists = [candidates[i] for i in idxs[:K_FINAL]]\n",
    "    scores = [val_scores[i] for i in idxs[:K_FINAL]]\n",
    "    #print(\"Top finalists by robust validation:\")\n",
    "    #for i, p in enumerate(finalists, 1):\n",
    "        #print(f\"{i}. {p} | robust_score={val_scores[idxs[i-1]]:.3f}\")\n",
    "    return finalists, scores\n",
    "\n",
    "        "
   ]
  },
  {
   "cell_type": "code",
   "execution_count": 12,
   "id": "bebb4840",
   "metadata": {},
   "outputs": [],
   "source": [
    "def winner_SR(ohlc: pd.DataFrame):\n",
    "    _, best_SR = run_model_for_params(ohlc,1)\n",
    "    return best_SR"
   ]
  },
  {
   "cell_type": "code",
   "execution_count": 13,
   "id": "a687676c",
   "metadata": {},
   "outputs": [],
   "source": [
    "def signal_from_stats(ohlc : pd.DataFrame, params : dict, spread : float = 0.0001, include_exit_bar = False):\n",
    "    \"\"\"\n",
    "    Return a per-bar signal Series aligned to stats['_equity_curve'].index.\n",
    "    -1 = short, 0 = flat, 1 = long.\n",
    "\n",
    "    include_exit_bar:\n",
    "        False (default): flat on the bar where exit executes (typical next-open execution).\n",
    "        True: mark position as active through the exit bar (if you model close-on-close exits).\n",
    "    \"\"\"\n",
    "\n",
    "    _, _ , stats = run_bt(ohlc,params)\n",
    "    ec = stats['_equity_curve']           # index = backtest bars\n",
    "    N = len(ec.index)\n",
    "\n",
    "    # net units held per bar (handles pyramiding/overlaps if you allowed them)\n",
    "    net_units = np.zeros(N, dtype=float)\n",
    "\n",
    "    trades = stats['_trades']             # columns include EntryBar, ExitBar, Size, ...\n",
    "    for _, tr in trades.iterrows():\n",
    "        start = int(tr.EntryBar)\n",
    "        if pd.isna(tr.ExitBar):\n",
    "            end = N\n",
    "        else:\n",
    "            end = int(tr.ExitBar) + (1 if include_exit_bar else 0)\n",
    "\n",
    "        net_units[start:end] += tr.Size   # sum overlapping trades; shorts are negative\n",
    "\n",
    "    sig = np.sign(net_units).astype(int)  # -> -1/0/1\n",
    "    return pd.Series(sig, index=ec.index, name='signal')"
   ]
  },
  {
   "cell_type": "code",
   "execution_count": 14,
   "id": "db399ba3",
   "metadata": {},
   "outputs": [],
   "source": [
    "def _order_ok(p):\n",
    "    return (\n",
    "        (p.n_slow  - p.n_fast  >= 3) and\n",
    "        (p.n_vslow - p.n_slow  >= 7) and\n",
    "        (p.n_fast  < p.n_slow  < p.n_vslow)   and\n",
    "        (p.sig_len > 0) and (p.sl_pct > 0)\n",
    "    )"
   ]
  },
  {
   "cell_type": "code",
   "execution_count": null,
   "id": "4a5711a6",
   "metadata": {},
   "outputs": [],
   "source": [
    "def walkforward_ARSI(ohlc_full: pd.DataFrame, train_lookback: int = 7 * 365 * 4, train_step: int = 7*30):\n",
    "\n",
    "    n = len(ohlc_full)\n",
    "    wf_signal = np.full(n, np.nan)\n",
    "    tmp_signal = None\n",
    "    \n",
    "    next_train = train_lookback\n",
    "\n",
    "    SL_GRID = [round(x, 3) for x in np.arange(0.001, 0.020 + 0.0005, 0.001)]\n",
    "\n",
    "    param_space = dict(\n",
    "        n_fast  = list(range(5, 26, 1)),\n",
    "        n_slow  = list(range(10, 56, 1)),\n",
    "        n_vslow = list(range(30, 121, 1)),\n",
    "        sig_len = list(range(5, 31, 1)),\n",
    "        sl_pct  = SL_GRID,)                       \n",
    "\n",
    "\n",
    "    for i in range(next_train, n):\n",
    "        if i == next_train:\n",
    "            \n",
    "            ohlc = ohlc_full.iloc[i-train_lookback:i]\n",
    "            BTF = Backtest(ohlc, ARSIstrat, cash=1_000_000, commission=0.0, spread=0.0001, finalize_trades=True)\n",
    "             \n",
    "            with io.capture_output():\n",
    "                s, _ = BTF.optimize(\n",
    "                    **param_space,\n",
    "                    maximize='Sharpe Ratio',\n",
    "                    return_heatmap=True,\n",
    "                    constraint=_order_ok,\n",
    "                    method='sambo',\n",
    "                    max_tries=2500,\n",
    "                    random_state=42\n",
    "                    )\n",
    "            best = s._strategy\n",
    "            best_params = {\n",
    "                'n_fast' : int(best.n_fast),\n",
    "                'n_slow' : int(best.n_slow),\n",
    "                'n_vslow' : int(best.n_vslow),\n",
    "                'sig_len' : int(best.sig_len),\n",
    "                'sl_pct' : int(best.sl_pct)\n",
    "                }\n",
    "            \n",
    "            tmp_signal = signal_from_stats(ohlc_full,best_params)\n",
    "            \n",
    "\n",
    "            \n",
    "\n",
    "            #bl1, bl2 , _ = OPTI_MACO(ohlc.iloc[i-train_lookback:i])\n",
    "            #tmp_signal, _ = MA_CROSSOVER(ohlc, bl1, bl2)\n",
    "\n",
    "\n",
    "            next_train += train_step\n",
    "        \n",
    "        wf_signal[i] = tmp_signal.iloc[i]\n",
    "    \n",
    "    return wf_signal"
   ]
  },
  {
   "cell_type": "code",
   "execution_count": 16,
   "id": "aa0963aa",
   "metadata": {},
   "outputs": [
    {
     "ename": "KeyboardInterrupt",
     "evalue": "",
     "output_type": "error",
     "traceback": [
      "\u001b[31m---------------------------------------------------------------------------\u001b[39m",
      "\u001b[31mKeyboardInterrupt\u001b[39m                         Traceback (most recent call last)",
      "\u001b[36mCell\u001b[39m\u001b[36m \u001b[39m\u001b[32mIn[16]\u001b[39m\u001b[32m, line 1\u001b[39m\n\u001b[32m----> \u001b[39m\u001b[32m1\u001b[39m best_finalists, best_SRs = \u001b[43mrun_model_for_params\u001b[49m\u001b[43m(\u001b[49m\u001b[43mdf_train\u001b[49m\u001b[43m,\u001b[49m\u001b[43m \u001b[49m\u001b[32;43m25\u001b[39;49m\u001b[43m)\u001b[49m\n",
      "\u001b[36mCell\u001b[39m\u001b[36m \u001b[39m\u001b[32mIn[11]\u001b[39m\u001b[32m, line 9\u001b[39m, in \u001b[36mrun_model_for_params\u001b[39m\u001b[34m(ohlc, K)\u001b[39m\n\u001b[32m      7\u001b[39m t0 = time.perf_counter()\n\u001b[32m      8\u001b[39m \u001b[38;5;28;01mfor\u001b[39;00m p \u001b[38;5;129;01min\u001b[39;00m pool:\n\u001b[32m----> \u001b[39m\u001b[32m9\u001b[39m     s_train, _, _ = \u001b[43mrun_bt\u001b[49m\u001b[43m(\u001b[49m\u001b[43mohlc\u001b[49m\u001b[43m,\u001b[49m\u001b[43m \u001b[49m\u001b[43mp\u001b[49m\u001b[43m)\u001b[49m\n\u001b[32m     10\u001b[39m     X.append(encode(p)); y.append(s_train)\n\u001b[32m     11\u001b[39m \u001b[38;5;66;03m#print(f\"Initial evals: {len(y)} done in {time.perf_counter()-t0:.1f}s. Best train={max(y):.3f}\")\u001b[39;00m\n\u001b[32m     12\u001b[39m \n\u001b[32m     13\u001b[39m \u001b[38;5;66;03m# 2)\u001b[39;00m\n",
      "\u001b[36mCell\u001b[39m\u001b[36m \u001b[39m\u001b[32mIn[6]\u001b[39m\u001b[32m, line 6\u001b[39m, in \u001b[36mrun_bt\u001b[39m\u001b[34m(data, params, spread)\u001b[39m\n\u001b[32m      3\u001b[39m bt = Backtest(data, Strat, cash=\u001b[32m1_000_000\u001b[39m, commission=\u001b[32m0.0\u001b[39m, spread=spread, finalize_trades=\u001b[38;5;28;01mTrue\u001b[39;00m)\n\u001b[32m      5\u001b[39m \u001b[38;5;28;01mwith\u001b[39;00m io.capture_output():\n\u001b[32m----> \u001b[39m\u001b[32m6\u001b[39m     stats = \u001b[43mbt\u001b[49m\u001b[43m.\u001b[49m\u001b[43mrun\u001b[49m\u001b[43m(\u001b[49m\u001b[43m)\u001b[49m\n\u001b[32m      9\u001b[39m sharpe = \u001b[38;5;28mfloat\u001b[39m(stats.get(\u001b[33m'\u001b[39m\u001b[33mSharpe Ratio\u001b[39m\u001b[33m'\u001b[39m, \u001b[32m0.0\u001b[39m))\n\u001b[32m     10\u001b[39m \u001b[38;5;66;03m# turnover proxy\u001b[39;00m\n",
      "\u001b[36mFile \u001b[39m\u001b[32m~/trycloneinsider/TradingBot/.venv313/lib/python3.13/site-packages/backtesting/backtesting.py:1361\u001b[39m, in \u001b[36mBacktest.run\u001b[39m\u001b[34m(self, **kwargs)\u001b[39m\n\u001b[32m   1358\u001b[39m     data._set_length(\u001b[38;5;28mlen\u001b[39m(\u001b[38;5;28mself\u001b[39m._data))\n\u001b[32m   1360\u001b[39m     equity = pd.Series(broker._equity).bfill().fillna(broker._cash).values\n\u001b[32m-> \u001b[39m\u001b[32m1361\u001b[39m     \u001b[38;5;28mself\u001b[39m._results = \u001b[43mcompute_stats\u001b[49m\u001b[43m(\u001b[49m\n\u001b[32m   1362\u001b[39m \u001b[43m        \u001b[49m\u001b[43mtrades\u001b[49m\u001b[43m=\u001b[49m\u001b[43mbroker\u001b[49m\u001b[43m.\u001b[49m\u001b[43mclosed_trades\u001b[49m\u001b[43m,\u001b[49m\n\u001b[32m   1363\u001b[39m \u001b[43m        \u001b[49m\u001b[43mequity\u001b[49m\u001b[43m=\u001b[49m\u001b[43mequity\u001b[49m\u001b[43m,\u001b[49m\n\u001b[32m   1364\u001b[39m \u001b[43m        \u001b[49m\u001b[43mohlc_data\u001b[49m\u001b[43m=\u001b[49m\u001b[38;5;28;43mself\u001b[39;49m\u001b[43m.\u001b[49m\u001b[43m_data\u001b[49m\u001b[43m,\u001b[49m\n\u001b[32m   1365\u001b[39m \u001b[43m        \u001b[49m\u001b[43mrisk_free_rate\u001b[49m\u001b[43m=\u001b[49m\u001b[32;43m0.0\u001b[39;49m\u001b[43m,\u001b[49m\n\u001b[32m   1366\u001b[39m \u001b[43m        \u001b[49m\u001b[43mstrategy_instance\u001b[49m\u001b[43m=\u001b[49m\u001b[43mstrategy\u001b[49m\u001b[43m,\u001b[49m\n\u001b[32m   1367\u001b[39m \u001b[43m    \u001b[49m\u001b[43m)\u001b[49m\n\u001b[32m   1369\u001b[39m \u001b[38;5;28;01mreturn\u001b[39;00m \u001b[38;5;28mself\u001b[39m._results\n",
      "\u001b[36mFile \u001b[39m\u001b[32m~/trycloneinsider/TradingBot/.venv313/lib/python3.13/site-packages/backtesting/_stats.py:48\u001b[39m, in \u001b[36mcompute_stats\u001b[39m\u001b[34m(trades, equity, ohlc_data, strategy_instance, risk_free_rate)\u001b[39m\n\u001b[32m     46\u001b[39m index = ohlc_data.index\n\u001b[32m     47\u001b[39m dd = \u001b[32m1\u001b[39m - equity / np.maximum.accumulate(equity)\n\u001b[32m---> \u001b[39m\u001b[32m48\u001b[39m dd_dur, dd_peaks = \u001b[43mcompute_drawdown_duration_peaks\u001b[49m\u001b[43m(\u001b[49m\u001b[43mpd\u001b[49m\u001b[43m.\u001b[49m\u001b[43mSeries\u001b[49m\u001b[43m(\u001b[49m\u001b[43mdd\u001b[49m\u001b[43m,\u001b[49m\u001b[43m \u001b[49m\u001b[43mindex\u001b[49m\u001b[43m=\u001b[49m\u001b[43mindex\u001b[49m\u001b[43m)\u001b[49m\u001b[43m)\u001b[49m\n\u001b[32m     50\u001b[39m equity_df = pd.DataFrame({\n\u001b[32m     51\u001b[39m     \u001b[33m'\u001b[39m\u001b[33mEquity\u001b[39m\u001b[33m'\u001b[39m: equity,\n\u001b[32m     52\u001b[39m     \u001b[33m'\u001b[39m\u001b[33mDrawdownPct\u001b[39m\u001b[33m'\u001b[39m: dd,\n\u001b[32m     53\u001b[39m     \u001b[33m'\u001b[39m\u001b[33mDrawdownDuration\u001b[39m\u001b[33m'\u001b[39m: dd_dur},\n\u001b[32m     54\u001b[39m     index=index)\n\u001b[32m     56\u001b[39m \u001b[38;5;28;01mif\u001b[39;00m \u001b[38;5;28misinstance\u001b[39m(trades, pd.DataFrame):\n",
      "\u001b[36mFile \u001b[39m\u001b[32m~/trycloneinsider/TradingBot/.venv313/lib/python3.13/site-packages/backtesting/_stats.py:25\u001b[39m, in \u001b[36mcompute_drawdown_duration_peaks\u001b[39m\u001b[34m(dd)\u001b[39m\n\u001b[32m     22\u001b[39m     \u001b[38;5;28;01mreturn\u001b[39;00m (dd.replace(\u001b[32m0\u001b[39m, np.nan),) * \u001b[32m2\u001b[39m\n\u001b[32m     24\u001b[39m df[\u001b[33m'\u001b[39m\u001b[33mduration\u001b[39m\u001b[33m'\u001b[39m] = df[\u001b[33m'\u001b[39m\u001b[33miloc\u001b[39m\u001b[33m'\u001b[39m].map(dd.index.\u001b[34m__getitem__\u001b[39m) - df[\u001b[33m'\u001b[39m\u001b[33mprev\u001b[39m\u001b[33m'\u001b[39m].map(dd.index.\u001b[34m__getitem__\u001b[39m)\n\u001b[32m---> \u001b[39m\u001b[32m25\u001b[39m df[\u001b[33m'\u001b[39m\u001b[33mpeak_dd\u001b[39m\u001b[33m'\u001b[39m] = \u001b[43mdf\u001b[49m\u001b[43m.\u001b[49m\u001b[43mapply\u001b[49m\u001b[43m(\u001b[49m\u001b[38;5;28;43;01mlambda\u001b[39;49;00m\u001b[43m \u001b[49m\u001b[43mrow\u001b[49m\u001b[43m:\u001b[49m\u001b[43m \u001b[49m\u001b[43mdd\u001b[49m\u001b[43m.\u001b[49m\u001b[43miloc\u001b[49m\u001b[43m[\u001b[49m\u001b[43mrow\u001b[49m\u001b[43m[\u001b[49m\u001b[33;43m'\u001b[39;49m\u001b[33;43mprev\u001b[39;49m\u001b[33;43m'\u001b[39;49m\u001b[43m]\u001b[49m\u001b[43m:\u001b[49m\u001b[43mrow\u001b[49m\u001b[43m[\u001b[49m\u001b[33;43m'\u001b[39;49m\u001b[33;43miloc\u001b[39;49m\u001b[33;43m'\u001b[39;49m\u001b[43m]\u001b[49m\u001b[43m \u001b[49m\u001b[43m+\u001b[49m\u001b[43m \u001b[49m\u001b[32;43m1\u001b[39;49m\u001b[43m]\u001b[49m\u001b[43m.\u001b[49m\u001b[43mmax\u001b[49m\u001b[43m(\u001b[49m\u001b[43m)\u001b[49m\u001b[43m,\u001b[49m\u001b[43m \u001b[49m\u001b[43maxis\u001b[49m\u001b[43m=\u001b[49m\u001b[32;43m1\u001b[39;49m\u001b[43m)\u001b[49m\n\u001b[32m     26\u001b[39m df = df.reindex(dd.index)\n\u001b[32m     27\u001b[39m \u001b[38;5;28;01mreturn\u001b[39;00m df[\u001b[33m'\u001b[39m\u001b[33mduration\u001b[39m\u001b[33m'\u001b[39m], df[\u001b[33m'\u001b[39m\u001b[33mpeak_dd\u001b[39m\u001b[33m'\u001b[39m]\n",
      "\u001b[36mFile \u001b[39m\u001b[32m~/trycloneinsider/TradingBot/.venv313/lib/python3.13/site-packages/pandas/core/frame.py:10381\u001b[39m, in \u001b[36mDataFrame.apply\u001b[39m\u001b[34m(self, func, axis, raw, result_type, args, by_row, engine, engine_kwargs, **kwargs)\u001b[39m\n\u001b[32m  10367\u001b[39m \u001b[38;5;28;01mfrom\u001b[39;00m\u001b[38;5;250m \u001b[39m\u001b[34;01mpandas\u001b[39;00m\u001b[34;01m.\u001b[39;00m\u001b[34;01mcore\u001b[39;00m\u001b[34;01m.\u001b[39;00m\u001b[34;01mapply\u001b[39;00m\u001b[38;5;250m \u001b[39m\u001b[38;5;28;01mimport\u001b[39;00m frame_apply\n\u001b[32m  10369\u001b[39m op = frame_apply(\n\u001b[32m  10370\u001b[39m     \u001b[38;5;28mself\u001b[39m,\n\u001b[32m  10371\u001b[39m     func=func,\n\u001b[32m   (...)\u001b[39m\u001b[32m  10379\u001b[39m     kwargs=kwargs,\n\u001b[32m  10380\u001b[39m )\n\u001b[32m> \u001b[39m\u001b[32m10381\u001b[39m \u001b[38;5;28;01mreturn\u001b[39;00m \u001b[43mop\u001b[49m\u001b[43m.\u001b[49m\u001b[43mapply\u001b[49m\u001b[43m(\u001b[49m\u001b[43m)\u001b[49m.__finalize__(\u001b[38;5;28mself\u001b[39m, method=\u001b[33m\"\u001b[39m\u001b[33mapply\u001b[39m\u001b[33m\"\u001b[39m)\n",
      "\u001b[36mFile \u001b[39m\u001b[32m~/trycloneinsider/TradingBot/.venv313/lib/python3.13/site-packages/pandas/core/apply.py:916\u001b[39m, in \u001b[36mFrameApply.apply\u001b[39m\u001b[34m(self)\u001b[39m\n\u001b[32m    913\u001b[39m \u001b[38;5;28;01melif\u001b[39;00m \u001b[38;5;28mself\u001b[39m.raw:\n\u001b[32m    914\u001b[39m     \u001b[38;5;28;01mreturn\u001b[39;00m \u001b[38;5;28mself\u001b[39m.apply_raw(engine=\u001b[38;5;28mself\u001b[39m.engine, engine_kwargs=\u001b[38;5;28mself\u001b[39m.engine_kwargs)\n\u001b[32m--> \u001b[39m\u001b[32m916\u001b[39m \u001b[38;5;28;01mreturn\u001b[39;00m \u001b[38;5;28;43mself\u001b[39;49m\u001b[43m.\u001b[49m\u001b[43mapply_standard\u001b[49m\u001b[43m(\u001b[49m\u001b[43m)\u001b[49m\n",
      "\u001b[36mFile \u001b[39m\u001b[32m~/trycloneinsider/TradingBot/.venv313/lib/python3.13/site-packages/pandas/core/apply.py:1068\u001b[39m, in \u001b[36mFrameApply.apply_standard\u001b[39m\u001b[34m(self)\u001b[39m\n\u001b[32m   1065\u001b[39m     results, res_index = \u001b[38;5;28mself\u001b[39m.apply_series_numba()\n\u001b[32m   1067\u001b[39m \u001b[38;5;66;03m# wrap results\u001b[39;00m\n\u001b[32m-> \u001b[39m\u001b[32m1068\u001b[39m \u001b[38;5;28;01mreturn\u001b[39;00m \u001b[38;5;28;43mself\u001b[39;49m\u001b[43m.\u001b[49m\u001b[43mwrap_results\u001b[49m\u001b[43m(\u001b[49m\u001b[43mresults\u001b[49m\u001b[43m,\u001b[49m\u001b[43m \u001b[49m\u001b[43mres_index\u001b[49m\u001b[43m)\u001b[49m\n",
      "\u001b[36mFile \u001b[39m\u001b[32m~/trycloneinsider/TradingBot/.venv313/lib/python3.13/site-packages/pandas/core/apply.py:1118\u001b[39m, in \u001b[36mFrameApply.wrap_results\u001b[39m\u001b[34m(self, results, res_index)\u001b[39m\n\u001b[32m   1116\u001b[39m     result = constructor_sliced(results, dtype=np.float64)\n\u001b[32m   1117\u001b[39m \u001b[38;5;28;01melse\u001b[39;00m:\n\u001b[32m-> \u001b[39m\u001b[32m1118\u001b[39m     result = \u001b[43mconstructor_sliced\u001b[49m\u001b[43m(\u001b[49m\u001b[43mresults\u001b[49m\u001b[43m)\u001b[49m\n\u001b[32m   1119\u001b[39m result.index = res_index\n\u001b[32m   1121\u001b[39m \u001b[38;5;28;01mreturn\u001b[39;00m result\n",
      "\u001b[36mFile \u001b[39m\u001b[32m~/trycloneinsider/TradingBot/.venv313/lib/python3.13/site-packages/pandas/core/series.py:537\u001b[39m, in \u001b[36mSeries.__init__\u001b[39m\u001b[34m(self, data, index, dtype, name, copy, fastpath)\u001b[39m\n\u001b[32m    535\u001b[39m         data = data._mgr\n\u001b[32m    536\u001b[39m \u001b[38;5;28;01melif\u001b[39;00m \u001b[38;5;28misinstance\u001b[39m(data, Mapping):\n\u001b[32m--> \u001b[39m\u001b[32m537\u001b[39m     data, index = \u001b[38;5;28;43mself\u001b[39;49m\u001b[43m.\u001b[49m\u001b[43m_init_dict\u001b[49m\u001b[43m(\u001b[49m\u001b[43mdata\u001b[49m\u001b[43m,\u001b[49m\u001b[43m \u001b[49m\u001b[43mindex\u001b[49m\u001b[43m,\u001b[49m\u001b[43m \u001b[49m\u001b[43mdtype\u001b[49m\u001b[43m)\u001b[49m\n\u001b[32m    538\u001b[39m     dtype = \u001b[38;5;28;01mNone\u001b[39;00m\n\u001b[32m    539\u001b[39m     copy = \u001b[38;5;28;01mFalse\u001b[39;00m\n",
      "\u001b[36mFile \u001b[39m\u001b[32m~/trycloneinsider/TradingBot/.venv313/lib/python3.13/site-packages/pandas/core/series.py:651\u001b[39m, in \u001b[36mSeries._init_dict\u001b[39m\u001b[34m(self, data, index, dtype)\u001b[39m\n\u001b[32m    648\u001b[39m     keys, values = default_index(\u001b[32m0\u001b[39m), []\n\u001b[32m    650\u001b[39m \u001b[38;5;66;03m# Input is now list-like, so rely on \"standard\" construction:\u001b[39;00m\n\u001b[32m--> \u001b[39m\u001b[32m651\u001b[39m s = \u001b[43mSeries\u001b[49m\u001b[43m(\u001b[49m\u001b[43mvalues\u001b[49m\u001b[43m,\u001b[49m\u001b[43m \u001b[49m\u001b[43mindex\u001b[49m\u001b[43m=\u001b[49m\u001b[43mkeys\u001b[49m\u001b[43m,\u001b[49m\u001b[43m \u001b[49m\u001b[43mdtype\u001b[49m\u001b[43m=\u001b[49m\u001b[43mdtype\u001b[49m\u001b[43m)\u001b[49m\n\u001b[32m    653\u001b[39m \u001b[38;5;66;03m# Now we just make sure the order is respected, if any\u001b[39;00m\n\u001b[32m    654\u001b[39m \u001b[38;5;28;01mif\u001b[39;00m data \u001b[38;5;129;01mand\u001b[39;00m index \u001b[38;5;129;01mis\u001b[39;00m \u001b[38;5;129;01mnot\u001b[39;00m \u001b[38;5;28;01mNone\u001b[39;00m:\n",
      "\u001b[36mFile \u001b[39m\u001b[32m~/trycloneinsider/TradingBot/.venv313/lib/python3.13/site-packages/pandas/core/series.py:490\u001b[39m, in \u001b[36mSeries.__init__\u001b[39m\u001b[34m(self, data, index, dtype, name, copy, fastpath)\u001b[39m\n\u001b[32m    487\u001b[39m name = ibase.maybe_extract_name(name, data, \u001b[38;5;28mtype\u001b[39m(\u001b[38;5;28mself\u001b[39m))\n\u001b[32m    489\u001b[39m \u001b[38;5;28;01mif\u001b[39;00m index \u001b[38;5;129;01mis\u001b[39;00m \u001b[38;5;129;01mnot\u001b[39;00m \u001b[38;5;28;01mNone\u001b[39;00m:\n\u001b[32m--> \u001b[39m\u001b[32m490\u001b[39m     index = \u001b[43mensure_index\u001b[49m\u001b[43m(\u001b[49m\u001b[43mindex\u001b[49m\u001b[43m)\u001b[49m\n\u001b[32m    492\u001b[39m \u001b[38;5;28;01mif\u001b[39;00m dtype \u001b[38;5;129;01mis\u001b[39;00m \u001b[38;5;129;01mnot\u001b[39;00m \u001b[38;5;28;01mNone\u001b[39;00m:\n\u001b[32m    493\u001b[39m     dtype = \u001b[38;5;28mself\u001b[39m._validate_dtype(dtype)\n",
      "\u001b[36mFile \u001b[39m\u001b[32m~/trycloneinsider/TradingBot/.venv313/lib/python3.13/site-packages/pandas/core/indexes/base.py:7715\u001b[39m, in \u001b[36mensure_index\u001b[39m\u001b[34m(index_like, copy)\u001b[39m\n\u001b[32m   7713\u001b[39m         \u001b[38;5;28;01mreturn\u001b[39;00m Index(index_like, copy=copy, tupleize_cols=\u001b[38;5;28;01mFalse\u001b[39;00m)\n\u001b[32m   7714\u001b[39m \u001b[38;5;28;01melse\u001b[39;00m:\n\u001b[32m-> \u001b[39m\u001b[32m7715\u001b[39m     \u001b[38;5;28;01mreturn\u001b[39;00m \u001b[43mIndex\u001b[49m\u001b[43m(\u001b[49m\u001b[43mindex_like\u001b[49m\u001b[43m,\u001b[49m\u001b[43m \u001b[49m\u001b[43mcopy\u001b[49m\u001b[43m=\u001b[49m\u001b[43mcopy\u001b[49m\u001b[43m)\u001b[49m\n",
      "\u001b[36mFile \u001b[39m\u001b[32m~/trycloneinsider/TradingBot/.venv313/lib/python3.13/site-packages/pandas/core/indexes/base.py:566\u001b[39m, in \u001b[36mIndex.__new__\u001b[39m\u001b[34m(cls, data, dtype, copy, name, tupleize_cols)\u001b[39m\n\u001b[32m    563\u001b[39m         data = com.asarray_tuplesafe(data, dtype=_dtype_obj)\n\u001b[32m    565\u001b[39m \u001b[38;5;28;01mtry\u001b[39;00m:\n\u001b[32m--> \u001b[39m\u001b[32m566\u001b[39m     arr = \u001b[43msanitize_array\u001b[49m\u001b[43m(\u001b[49m\u001b[43mdata\u001b[49m\u001b[43m,\u001b[49m\u001b[43m \u001b[49m\u001b[38;5;28;43;01mNone\u001b[39;49;00m\u001b[43m,\u001b[49m\u001b[43m \u001b[49m\u001b[43mdtype\u001b[49m\u001b[43m=\u001b[49m\u001b[43mdtype\u001b[49m\u001b[43m,\u001b[49m\u001b[43m \u001b[49m\u001b[43mcopy\u001b[49m\u001b[43m=\u001b[49m\u001b[43mcopy\u001b[49m\u001b[43m)\u001b[49m\n\u001b[32m    567\u001b[39m \u001b[38;5;28;01mexcept\u001b[39;00m \u001b[38;5;167;01mValueError\u001b[39;00m \u001b[38;5;28;01mas\u001b[39;00m err:\n\u001b[32m    568\u001b[39m     \u001b[38;5;28;01mif\u001b[39;00m \u001b[33m\"\u001b[39m\u001b[33mindex must be specified when data is not list-like\u001b[39m\u001b[33m\"\u001b[39m \u001b[38;5;129;01min\u001b[39;00m \u001b[38;5;28mstr\u001b[39m(err):\n",
      "\u001b[36mFile \u001b[39m\u001b[32m~/trycloneinsider/TradingBot/.venv313/lib/python3.13/site-packages/pandas/core/construction.py:641\u001b[39m, in \u001b[36msanitize_array\u001b[39m\u001b[34m(data, index, dtype, copy, allow_2d)\u001b[39m\n\u001b[32m    639\u001b[39m _sanitize_non_ordered(data)\n\u001b[32m    640\u001b[39m \u001b[38;5;66;03m# materialize e.g. generators, convert e.g. tuples, abc.ValueView\u001b[39;00m\n\u001b[32m--> \u001b[39m\u001b[32m641\u001b[39m data = \u001b[38;5;28;43mlist\u001b[39;49m\u001b[43m(\u001b[49m\u001b[43mdata\u001b[49m\u001b[43m)\u001b[49m\n\u001b[32m    643\u001b[39m \u001b[38;5;28;01mif\u001b[39;00m \u001b[38;5;28mlen\u001b[39m(data) == \u001b[32m0\u001b[39m \u001b[38;5;129;01mand\u001b[39;00m dtype \u001b[38;5;129;01mis\u001b[39;00m \u001b[38;5;28;01mNone\u001b[39;00m:\n\u001b[32m    644\u001b[39m     \u001b[38;5;66;03m# We default to float64, matching numpy\u001b[39;00m\n\u001b[32m    645\u001b[39m     subarr = np.array([], dtype=np.float64)\n",
      "\u001b[31mKeyboardInterrupt\u001b[39m: "
     ]
    }
   ],
   "source": [
    "best_finalists, best_SRs = run_model_for_params(df_train, 25)"
   ]
  },
  {
   "cell_type": "code",
   "execution_count": null,
   "id": "e2059f78",
   "metadata": {},
   "outputs": [
    {
     "name": "stdout",
     "output_type": "stream",
     "text": [
      "[{'sl_pct': 0.004858163237571716, 'n_fast': 17, 'n_slow': 41, 'n_vslow': 100, 'sig_len': 23}, {'sl_pct': 0.004397631511092186, 'n_fast': 12, 'n_slow': 16, 'n_vslow': 96, 'sig_len': 21}, {'sl_pct': 0.0017682381980121135, 'n_fast': 19, 'n_slow': 24, 'n_vslow': 119, 'sig_len': 14}, {'sl_pct': 0.004972360804677009, 'n_fast': 14, 'n_slow': 44, 'n_vslow': 36, 'sig_len': 20}, {'sl_pct': 0.00406320433318615, 'n_fast': 6, 'n_slow': 51, 'n_vslow': 74, 'sig_len': 29}, {'sl_pct': 0.004128461137413979, 'n_fast': 13, 'n_slow': 46, 'n_vslow': 80, 'sig_len': 14}, {'sl_pct': 0.0026813575997948645, 'n_fast': 12, 'n_slow': 30, 'n_vslow': 109, 'sig_len': 17}, {'sl_pct': 0.003964354246854782, 'n_fast': 23, 'n_slow': 32, 'n_vslow': 104, 'sig_len': 15}, {'sl_pct': 0.007162555426359176, 'n_fast': 11, 'n_slow': 42, 'n_vslow': 30, 'sig_len': 29}, {'sl_pct': 0.0042399582862854, 'n_fast': 11, 'n_slow': 27, 'n_vslow': 33, 'sig_len': 29}, {'sl_pct': 0.004342579841613769, 'n_fast': 8, 'n_slow': 42, 'n_vslow': 43, 'sig_len': 25}, {'sl_pct': 0.008116262286901474, 'n_fast': 19, 'n_slow': 52, 'n_vslow': 101, 'sig_len': 25}, {'sl_pct': 0.006504781901836395, 'n_fast': 10, 'n_slow': 10, 'n_vslow': 67, 'sig_len': 30}, {'sl_pct': 0.006155631810426712, 'n_fast': 25, 'n_slow': 33, 'n_vslow': 55, 'sig_len': 29}, {'sl_pct': 0.0030043909549713134, 'n_fast': 16, 'n_slow': 53, 'n_vslow': 113, 'sig_len': 15}, {'sl_pct': 0.001886647630482912, 'n_fast': 20, 'n_slow': 24, 'n_vslow': 91, 'sig_len': 19}, {'sl_pct': 0.004775598049163818, 'n_fast': 15, 'n_slow': 26, 'n_vslow': 37, 'sig_len': 7}, {'sl_pct': 0.0016533818766474723, 'n_fast': 18, 'n_slow': 26, 'n_vslow': 65, 'sig_len': 22}, {'sl_pct': 0.00559905007481575, 'n_fast': 8, 'n_slow': 20, 'n_vslow': 85, 'sig_len': 21}, {'sl_pct': 0.004070945456624031, 'n_fast': 10, 'n_slow': 49, 'n_vslow': 113, 'sig_len': 7}, {'sl_pct': 0.008073372691869736, 'n_fast': 7, 'n_slow': 34, 'n_vslow': 47, 'sig_len': 18}, {'sl_pct': 0.0013151687551289798, 'n_fast': 7, 'n_slow': 28, 'n_vslow': 49, 'sig_len': 11}, {'sl_pct': 0.00741468808054924, 'n_fast': 19, 'n_slow': 41, 'n_vslow': 117, 'sig_len': 13}, {'sl_pct': 0.014836110651493071, 'n_fast': 9, 'n_slow': 43, 'n_vslow': 99, 'sig_len': 26}, {'sl_pct': 0.006853155106306076, 'n_fast': 20, 'n_slow': 21, 'n_vslow': 88, 'sig_len': 23}]\n",
      "[0.6074807158937355, 0.011410083125403972, -0.20873972994311005, -0.3367759962358928, -0.34234254473065895, -0.4121660084952864, -0.5303127936617757, -0.5634543241333324, -0.5668959724536655, -0.6557572398889485, -0.6689510259537645, -0.6986987082552274, -0.7326956757813374, -0.7518237172595231, -0.7567973862658484, -0.7805837191053991, -0.8406622753925566, -0.858339409708112, -0.9295856583787607, -0.9882777948967129, -0.9890329074682411, -1.0272791744348009, -1.048884821142863, -1.0851419569781653, -1.1140937254932692]\n",
      "[1.508101028245401, 1.5226544118016947, 0.9324784144265472, 1.2973726520678577, 1.4091140839616085, 1.5324229860245537, 1.1770354803710197, 1.4360721016910372, 1.2226233810744436, 1.4499621096059496, 1.582935518724423, 1.4168638795873643, 1.2733672981935107, 1.471205211620353, 1.2585308843521668, 0.8429491350144666, 1.2767775431728172, 0.6944356607682017, 1.3800008683866676, 1.42284189851071, 1.2054356760625744, 1.0023736692479135, 1.238559798976945, 1.3699361769486966, 1.447493495878309]\n"
     ]
    }
   ],
   "source": [
    "print(best_finalists)\n",
    "print(best_SRs)\n",
    "notrobustSR = []\n",
    "for t in best_finalists:\n",
    "    MBNRSR, _ , _ = run_bt(df_train,t)\n",
    "    notrobustSR.append(MBNRSR)\n",
    "print(notrobustSR)"
   ]
  },
  {
   "cell_type": "code",
   "execution_count": null,
   "id": "76f025ab",
   "metadata": {},
   "outputs": [
    {
     "name": "stdout",
     "output_type": "stream",
     "text": [
      "In-sample Robust Sarpe Ratio :  0.6074807158937355 ,  Best n_fast :  17 ,  Best n_slow :  41 ,  Best n_vslow :  100 ,  Best stop loss   0.004858163237571716 ,  Best Signal lenght :  23\n"
     ]
    },
    {
     "data": {
      "image/png": "[encoded data removed]",
      "text/plain": [
       "<Figure size 640x480 with 1 Axes>"
      ]
     },
     "metadata": {},
     "output_type": "display_data"
    },
    {
     "data": {
      "image/png": "[encoded data removed]",
      "text/plain": [
       "<Figure size 640x480 with 1 Axes>"
      ]
     },
     "metadata": {},
     "output_type": "display_data"
    },
    {
     "data": {
      "image/png": "[encoded data removed]",
      "text/plain": [
       "<Figure size 640x480 with 1 Axes>"
      ]
     },
     "metadata": {},
     "output_type": "display_data"
    },
    {
     "data": {
      "image/png": "[encoded data removed]",
      "text/plain": [
       "<Figure size 640x480 with 1 Axes>"
      ]
     },
     "metadata": {},
     "output_type": "display_data"
    },
    {
     "data": {
      "image/png": "[encoded data removed]",
      "text/plain": [
       "<Figure size 640x480 with 1 Axes>"
      ]
     },
     "metadata": {},
     "output_type": "display_data"
    }
   ],
   "source": [
    "SR_OPTI_0 = best_SRs[0]\n",
    "PARAM_OPTI_0 = best_finalists[0]\n",
    "SL_0 = PARAM_OPTI_0['sl_pct']\n",
    "N_Fast = PARAM_OPTI_0['n_fast']\n",
    "N_Slow = PARAM_OPTI_0['n_slow']\n",
    "N_VSlow = PARAM_OPTI_0['n_vslow']\n",
    "S_Lenght = PARAM_OPTI_0['sig_len']\n",
    "print(\"In-sample Robust Sarpe Ratio : \", SR_OPTI_0, \",  Best n_fast : \", N_Fast, \",  Best n_slow : \", N_Slow, \",  Best n_vslow : \", N_VSlow, \",  Best stop loss  \", SL_0, \",  Best Signal lenght : \", S_Lenght)\n",
    "\n",
    "SL_PCT = []\n",
    "N_FAST = []\n",
    "N_SLOW = []\n",
    "N_VSLOW = []\n",
    "S_LENGHT = []\n",
    "\n",
    "for tau in best_finalists :\n",
    "    SL_PCT.append(tau['sl_pct'])\n",
    "    N_FAST.append(tau['n_fast'])\n",
    "    N_SLOW.append(tau['n_slow'])\n",
    "    N_VSLOW.append(tau['n_vslow'])\n",
    "    S_LENGHT.append(tau['sig_len'])\n",
    "\n",
    "pd.Series(SL_PCT).hist(color='blue', label='SL_PCT')\n",
    "plt.xlabel(\"SL_PCT\")\n",
    "plt.grid(False)\n",
    "plt.legend()\n",
    "plt.show()\n",
    "\n",
    "pd.Series(N_FAST).hist(color='red', label='N_FAST')\n",
    "plt.xlabel(\"N_FAST\")\n",
    "plt.grid(False)\n",
    "plt.legend()\n",
    "plt.show()\n",
    "\n",
    "pd.Series(N_SLOW).hist(color='green', label='N_SLOW')\n",
    "plt.xlabel(\"N_SLOW\")\n",
    "plt.grid(False)\n",
    "plt.legend()\n",
    "plt.show()\n",
    "\n",
    "pd.Series(N_VSLOW).hist(color='yellow', label='N_VSLOW')\n",
    "plt.xlabel(\"N_VSLOW\")\n",
    "plt.grid(False)\n",
    "plt.legend()\n",
    "plt.show()\n",
    "\n",
    "pd.Series(S_LENGHT).hist(color='orange', label='S_LENGHT')\n",
    "plt.xlabel(\"S_LENGHT\")\n",
    "plt.grid(False)\n",
    "plt.legend()\n",
    "plt.show()\n"
   ]
  },
  {
   "cell_type": "code",
   "execution_count": null,
   "id": "72eb3d71",
   "metadata": {},
   "outputs": [
    {
     "data": {
      "application/vnd.jupyter.widget-view+json": {
       "model_id": "c8210447a8444e88b602cbecf5b52c83",
       "version_major": 2,
       "version_minor": 0
      },
      "text/plain": [
       "Backtest.run:   0%|          | 0/6842 [00:00<?, ?bar/s]"
      ]
     },
     "metadata": {},
     "output_type": "display_data"
    },
    {
     "name": "stdout",
     "output_type": "stream",
     "text": [
      "Le rendement de la strategie avec un signal mais sans spread est : 2.2917633831592243\n",
      "Le rendement avec Backtesting et donc spread nous donne 2.426459901503824\n"
     ]
    },
    {
     "data": {
      "image/png": "[encoded data removed]",
      "text/plain": [
       "<Figure size 640x480 with 1 Axes>"
      ]
     },
     "metadata": {},
     "output_type": "display_data"
    }
   ],
   "source": [
    "SIG = signal_from_stats(df_train,PARAM_OPTI_0)\n",
    "\n",
    "strat_with_best_params = make_strat(PARAM_OPTI_0)\n",
    "understand = Backtest(df_train, strat_with_best_params, cash=1_000_000, commission=0.0, finalize_trades=True)\n",
    "statistics = understand.run()\n",
    "\n",
    "\n",
    "\n",
    "df_ud = df_train.copy()\n",
    "df_ud['returns'] = np.log(df_ud['Close']).diff().shift(-1) \n",
    "df_ud['system_returns'] = df_ud['returns']*SIG\n",
    "print(f\"Le rendement de la strategie avec un signal mais sans spread est : {np.exp(df_ud['system_returns']).cumprod().iloc[-2]}\")\n",
    "print(f\"Le rendement avec Backtesting et donc spread nous donne {statistics['Return [%]']/100}\")\n",
    "plt.plot(np.exp(df_ud['system_returns']).cumprod(), label = 'Rendement')\n",
    "plt.legend(loc=2)\n",
    "plt.show()"
   ]
  },
  {
   "cell_type": "code",
   "execution_count": null,
   "id": "562961b4",
   "metadata": {},
   "outputs": [
    {
     "name": "stdout",
     "output_type": "stream",
     "text": [
      "In-Sample MCPT\n"
     ]
    },
    {
     "name": "stderr",
     "output_type": "stream",
     "text": [
      "  0%|          | 5/1000 [03:15<10:42:21, 38.74s/it]"
     ]
    }
   ],
   "source": [
    "n_permutations = 1000\n",
    "perm_better_count1 = 1\n",
    "perm_better_counts = np.ones(25)\n",
    "permuted_SRs = []\n",
    "permuted_25best_SR = []\n",
    "p_vals_25best = []\n",
    "print(\"In-Sample MCPT\")\n",
    "\n",
    "local_df_train = df_train.copy()\n",
    "local_SR_OPTI_0 = SR_OPTI_0\n",
    "local_finalists = best_finalists.copy()\n",
    "\n",
    "for perm_i in tqdm(range(1, n_permutations+1)):\n",
    "\n",
    "    train_perm = get_permutation(local_df_train)\n",
    "\n",
    "    RVSs = []\n",
    "    for l in local_finalists :\n",
    "        RVSs.append(run_bt(train_perm, l)[0])\n",
    "    \n",
    "    for i in range(25) :\n",
    "        if RVSs[i] >= notrobustSR[i] :\n",
    "            perm_better_counts[i] += 1\n",
    "\n",
    "\n",
    "    best_perm_SR = float(winner_SR(train_perm)[0])\n",
    "\n",
    "    \n",
    "    if best_perm_SR >= local_SR_OPTI_0:\n",
    "        perm_better_count1 += 1\n",
    "\n",
    "    permuted_SRs.append(best_perm_SR)\n",
    "\n",
    "insample_mcpt_pval = perm_better_count1 / n_permutations\n",
    "\n",
    "insample_mcpt_pval_25_best = []\n",
    "\n",
    "for t in range(25) :\n",
    "    a = float(perm_better_counts[t] / n_permutations)\n",
    "    insample_mcpt_pval_25_best.append(a)\n",
    "\n",
    "\n",
    "print(f\"Les 25 meilleurs set de param on donner des p-val : {insample_mcpt_pval_25_best}\")\n",
    "print(f\"In-sample MCPT P-Value: {insample_mcpt_pval}\")\n",
    "plt.style.use('dark_background')\n",
    "pd.Series(permuted_SRs).hist(color='blue', label='Permutations')\n",
    "plt.axvline(local_SR_OPTI_0, color='red', label='Real')\n",
    "plt.xlabel(\"Profit Factor\")\n",
    "plt.title(f\"In-sample MCPT. P-Value: {insample_mcpt_pval}\")\n",
    "plt.grid(False)\n",
    "plt.legend()\n",
    "plt.show()"
   ]
  },
  {
   "cell_type": "code",
   "execution_count": null,
   "id": "9068a62c",
   "metadata": {},
   "outputs": [],
   "source": []
  }
 ],
 "metadata": {
  "kernelspec": {
   "display_name": ".venv313 (3.13.6)",
   "language": "python",
   "name": "python3"
  },
  "language_info": {
   "codemirror_mode": {
    "name": "ipython",
    "version": 3
   },
   "file_extension": ".py",
   "mimetype": "text/x-python",
   "name": "python",
   "nbconvert_exporter": "python",
   "pygments_lexer": "ipython3",
   "version": "3.13.6"
  }
 },
 "nbformat": 4,
 "nbformat_minor": 5
}
