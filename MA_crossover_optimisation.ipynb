{
 "cells": [
  {
   "cell_type": "code",
   "execution_count": 1,
   "id": "164db47f",
   "metadata": {},
   "outputs": [],
   "source": [
    "import yfinance as yf\n",
    "import numpy as np\n",
    "import pandas as pd\n",
    "import pandas_datareader as pdr\n",
    "import matplotlib.pyplot as plt\n",
    "import matplotlib"
   ]
  },
  {
   "cell_type": "code",
   "execution_count": 2,
   "id": "39e0b89a",
   "metadata": {},
   "outputs": [],
   "source": [
    "def MA_CROSSOVER(df : pd.DataFrame, lookback_1 : int, lookback_2 : int) :\n",
    "\n",
    "    df = df.copy()\n",
    " \n",
    "    df['SMA'] = df['Close'].rolling(lookback_1 - 1).mean().shift(1)\n",
    "    df['LMA'] = df['Close'].rolling(lookback_2 - 1).mean().shift(1)\n",
    "\n",
    "    Signal = pd.Series(np.full(len(df),np.nan), index = df.index)\n",
    "    Signal.loc[df['SMA'] > df['LMA']] = 1\n",
    "    Signal.loc[df['SMA'] < df['LMA']] = -1\n",
    "    Signal = Signal.ffill()  \n",
    "\n",
    "    ##\n",
    "    counter = 0\n",
    "    entry = Signal.diff()\n",
    "    for val in entry : \n",
    "        if abs(val) == 2 :\n",
    "            counter += 1\n",
    "    if (lookback_1 == 73 ) and (lookback_2 == 76) : print(counter)\n",
    "    ##\n",
    "    return Signal"
   ]
  },
  {
   "cell_type": "code",
   "execution_count": 3,
   "id": "684e9a3d",
   "metadata": {},
   "outputs": [],
   "source": [
    "def OPTI_MACO(df : pd.DataFrame) :\n",
    "\n",
    "    best_profitfactor = 0\n",
    "    best_lookback_1 = -1\n",
    "    best_lookback_2 = -1\n",
    "\n",
    "    returns = np.log(df['Close']).diff().squeeze()  \n",
    "\n",
    "    for lookback1 in range(9,169) :\n",
    "        for lookback2 in range(9,169) :\n",
    "            if (lookback1 < lookback2) : \n",
    "                \n",
    "                signal = MA_CROSSOVER(df,lookback1, lookback2)\n",
    "                SR = (signal * returns).dropna() \n",
    "                signal_profitfactor = SR[SR > 0].sum() / SR[SR < 0].abs().sum()\n",
    "            \n",
    "                if (signal_profitfactor > best_profitfactor) :\n",
    "                    best_profitfactor = signal_profitfactor\n",
    "                    best_lookback_1 = lookback1\n",
    "                    best_lookback_2 = lookback2\n",
    "\n",
    "                \n",
    "                #plt.plot(SR.cumsum(), label = f\" {lookback1} : {lookback2} \")\n",
    "                #plt.legend(loc=2)\n",
    "                #plt.show()\n",
    "                \n",
    "\n",
    "    return best_lookback_1, best_lookback_2, best_profitfactor\n"
   ]
  },
  {
   "cell_type": "code",
   "execution_count": null,
   "id": "18eee939",
   "metadata": {},
   "outputs": [
    {
     "name": "stdout",
     "output_type": "stream",
     "text": [
      "YF.download() has changed argument auto_adjust default to True\n"
     ]
    },
    {
     "name": "stderr",
     "output_type": "stream",
     "text": [
      "[*********************100%***********************]  1 of 1 completed\n"
     ]
    }
   ],
   "source": [
    "symbol = 'GLD'\n",
    "\n",
    "df = yf.download([symbol], start = '2016-01-31', end = '2020-01-31', interval=\"1d\")\n",
    "\n",
    "bestLB1, bestLB2, bestPF = OPTI_MACO(df)\n",
    "\n",
    "SIG = MA_CROSSOVER(df, bestLB1, bestLB2)\n",
    "\n",
    "df['returns'] = np.log(df['Close']).diff().shift(-1)\n",
    "df['system_returns'] = df['returns']*SIG\n",
    "plt.plot(np.exp(df['system_returns']).cumprod(), label = 'Rendement')\n",
    "plt.show()\n",
    "\n",
    "print(f\"best lookback 1 is : {bestLB1}\")\n",
    "print(f\"best lookback 2 is : {bestLB2}\")\n",
    "print(f\"best profit factor is : {bestPF}\")"
   ]
  },
  {
   "cell_type": "code",
   "execution_count": null,
   "id": "11792b8b",
   "metadata": {},
   "outputs": [
    {
     "name": "stdout",
     "output_type": "stream",
     "text": [
      "best lookback 1 is : 73\n",
      "best lookback 2 is : 76\n",
      "best profit factor is : 1.3485540555573976\n"
     ]
    }
   ],
   "source": [
    "symbol = 'BTC-USD'\n",
    "\n",
    "df = yf.download([symbol], start = '2016-01-31', end = '2020-01-31', interval=\"1d\")\n",
    "\n",
    "bestLB1, bestLB2, bestPF = OPTI_MACO(df)\n",
    "\n",
    "SIG = MA_CROSSOVER(df, bestLB1, bestLB2)\n",
    "\n",
    "df['returns'] = np.log(df['Close']).diff().shift(-1)\n",
    "df['system_returns'] = df['returns']*SIG\n",
    "plt.plot(np.exp(df['system_returns']).cumprod(), label = 'Rendement')\n",
    "plt.show()\n",
    "\n",
    "print(f\"best lookback 1 is : {bestLB1}\")\n",
    "print(f\"best lookback 2 is : {bestLB2}\")\n",
    "print(f\"best profit factor is : {bestPF}\")"
   ]
  },
  {
   "cell_type": "code",
   "execution_count": null,
   "id": "c5fc69bf",
   "metadata": {},
   "outputs": [],
   "source": []
  },
  {
   "cell_type": "markdown",
   "id": "7b8060c3",
   "metadata": {},
   "source": [
    "symbol = 'BTC-USD'\n",
    "d1 = yf.download(\n",
    "  [symbol],\n",
    "  start = \"2016-01-31\",\n",
    "  end = \"2020-01-31\",\n",
    "  interval=\"1d\"\n",
    ")\n",
    "\n",
    "s = MA_CROSSOVER(d1,9, 21)\n",
    "\n",
    "print(s)\n",
    "\n",
    "r = np.log(d1['Close']).diff().shift(-1).squeeze()\n",
    "\n",
    "print(r[r.isna()])\n",
    "\n",
    "sr1 = (s * r).dropna()\n",
    "\n",
    "print(sr1)\n",
    "\n",
    "signal_profitfactor = sr1[sr1 > 0].sum() / sr1[sr1 < 0].abs().sum()\n",
    "print(signal_profitfactor)\n",
    "\n"
   ]
  }
 ],
 "metadata": {
  "kernelspec": {
   "display_name": "venv_bot",
   "language": "python",
   "name": "python3"
  },
  "language_info": {
   "codemirror_mode": {
    "name": "ipython",
    "version": 3
   },
   "file_extension": ".py",
   "mimetype": "text/x-python",
   "name": "python",
   "nbconvert_exporter": "python",
   "pygments_lexer": "ipython3",
   "version": "3.9.6"
  }
 },
 "nbformat": 4,
 "nbformat_minor": 5
}
