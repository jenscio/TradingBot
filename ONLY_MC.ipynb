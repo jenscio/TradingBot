{
 "cells": [
  {
   "cell_type": "code",
<<<<<<< HEAD
   "execution_count": 1,
=======
   "execution_count": 2,
>>>>>>> fc7a06815f731caeb12c50ff3d38f40c797af570
   "id": "dbc05a83",
   "metadata": {},
   "outputs": [
    {
     "name": "stderr",
     "output_type": "stream",
     "text": [
<<<<<<< HEAD
      "/Library/Frameworks/Python.framework/Versions/3.10/lib/python3.10/site-packages/tqdm/auto.py:21: TqdmWarning: IProgress not found. Please update jupyter and ipywidgets. See https://ipywidgets.readthedocs.io/en/stable/user_install.html\n",
      "  from .autonotebook import tqdm as notebook_tqdm\n",
      "/Library/Frameworks/Python.framework/Versions/3.10/lib/python3.10/site-packages/backtesting/_plotting.py:55: UserWarning: Jupyter Notebook detected. Setting Bokeh output to notebook. This may not work in Jupyter clients without JavaScript support, such as old IDEs. Reset with `backtesting.set_bokeh_output(notebook=False)`.\n",
=======
      "/Users/matteogiori/trycloneinsider/TradingBot/.venv313/lib/python3.13/site-packages/backtesting/_plotting.py:55: UserWarning: Jupyter Notebook detected. Setting Bokeh output to notebook. This may not work in Jupyter clients without JavaScript support, such as old IDEs. Reset with `backtesting.set_bokeh_output(notebook=False)`.\n",
>>>>>>> fc7a06815f731caeb12c50ff3d38f40c797af570
      "  warnings.warn('Jupyter Notebook detected. '\n"
     ]
    },
    {
     "data": {
      "text/html": [
       "    <style>\n",
       "        .bk-notebook-logo {\n",
       "            display: block;\n",
       "            width: 20px;\n",
       "            height: 20px;\n",
       "            background-image: url(data:image/png;base64,iVBORw0KGgoAAAANSUhEUgAAABQAAAAUCAYAAACNiR0NAAAABHNCSVQICAgIfAhkiAAAAAlwSFlzAAALEgAACxIB0t1+/AAAABx0RVh0U29mdHdhcmUAQWRvYmUgRmlyZXdvcmtzIENTNui8sowAAAOkSURBVDiNjZRtaJVlGMd/1/08zzln5zjP1LWcU9N0NkN8m2CYjpgQYQXqSs0I84OLIC0hkEKoPtiH3gmKoiJDU7QpLgoLjLIQCpEsNJ1vqUOdO7ppbuec5+V+rj4ctwzd8IIbbi6u+8f1539dt3A78eXC7QizUF7gyV1fD1Yqg4JWz84yffhm0qkFqBogB9rM8tZdtwVsPUhWhGcFJngGeWrPzHm5oaMmkfEg1usvLFyc8jLRqDOMru7AyC8saQr7GG7f5fvDeH7Ej8CM66nIF+8yngt6HWaKh7k49Soy9nXurCi1o3qUbS3zWfrYeQDTB/Qj6kX6Ybhw4B+bOYoLKCC9H3Nu/leUTZ1JdRWkkn2ldcCamzrcf47KKXdAJllSlxAOkRgyHsGC/zRday5Qld9DyoM4/q/rUoy/CXh3jzOu3bHUVZeU+DEn8FInkPBFlu3+nW3Nw0mk6vCDiWg8CeJaxEwuHS3+z5RgY+YBR6V1Z1nxSOfoaPa4LASWxxdNp+VWTk7+4vzaou8v8PN+xo+KY2xsw6une2frhw05CTYOmQvsEhjhWjn0bmXPjpE1+kplmmkP3suftwTubK9Vq22qKmrBhpY4jvd5afdRA3wGjFAgcnTK2s4hY0/GPNIb0nErGMCRxWOOX64Z8RAC4oCXdklmEvcL8o0BfkNK4lUg9HTl+oPlQxdNo3Mg4Nv175e/1LDGzZen30MEjRUtmXSfiTVu1kK8W4txyV6BMKlbgk3lMwYCiusNy9fVfvvwMxv8Ynl6vxoByANLTWplvuj/nF9m2+PDtt1eiHPBr1oIfhCChQMBw6Aw0UulqTKZdfVvfG7VcfIqLG9bcldL/+pdWTLxLUy8Qq38heUIjh4XlzZxzQm19lLFlr8vdQ97rjZVOLf8nclzckbcD4wxXMidpX30sFd37Fv/GtwwhzhxGVAprjbg0gCAEeIgwCZyTV2Z1REEW8O4py0wsjeloKoMr6iCY6dP92H6Vw/oTyICIthibxjm/DfN9lVz8IqtqKYLUXfoKVMVQVVJOElGjrnnUt9T9wbgp8AyYKaGlqingHZU/uG2NTZSVqwHQTWkx9hxjkpWDaCg6Ckj5qebgBVbT3V3NNXMSiWSDdGV3hrtzla7J+duwPOToIg42ChPQOQjspnSlp1V+Gjdged7+8UN5CRAV7a5EdFNwCjEaBR27b3W890TE7g24NAP/mMDXRWrGoFPQI9ls/MWO2dWFAar/xcOIImbbpA3zgAAAABJRU5ErkJggg==);\n",
       "        }\n",
       "    </style>\n",
       "    <div>\n",
       "        <a href=\"https://bokeh.org\" target=\"_blank\" class=\"bk-notebook-logo\"></a>\n",
<<<<<<< HEAD
       "        <span id=\"c5a1e1f0-6227-45b0-a9c8-e9f5d44c3102\">Loading BokehJS ...</span>\n",
=======
       "        <span id=\"b0e1ad9d-6bc7-4308-b17a-1a20291d04d1\">Loading BokehJS ...</span>\n",
>>>>>>> fc7a06815f731caeb12c50ff3d38f40c797af570
       "    </div>\n"
      ]
     },
     "metadata": {},
     "output_type": "display_data"
    },
    {
     "data": {
<<<<<<< HEAD
      "application/javascript": "'use strict';\n(function(root) {\n  function now() {\n    return new Date();\n  }\n\n  const force = true;\n\n  if (typeof root._bokeh_onload_callbacks === \"undefined\" || force === true) {\n    root._bokeh_onload_callbacks = [];\n    root._bokeh_is_loading = undefined;\n  }\n\nconst JS_MIME_TYPE = 'application/javascript';\n  const HTML_MIME_TYPE = 'text/html';\n  const EXEC_MIME_TYPE = 'application/vnd.bokehjs_exec.v0+json';\n  const CLASS_NAME = 'output_bokeh rendered_html';\n\n  /**\n   * Render data to the DOM node\n   */\n  function render(props, node) {\n    const script = document.createElement(\"script\");\n    node.appendChild(script);\n  }\n\n  /**\n   * Handle when an output is cleared or removed\n   */\n  function handleClearOutput(event, handle) {\n    function drop(id) {\n      const view = Bokeh.index.get_by_id(id)\n      if (view != null) {\n        view.model.document.clear()\n        Bokeh.index.delete(view)\n      }\n    }\n\n    const cell = handle.cell;\n\n    const id = cell.output_area._bokeh_element_id;\n    const server_id = cell.output_area._bokeh_server_id;\n\n    // Clean up Bokeh references\n    if (id != null) {\n      drop(id)\n    }\n\n    if (server_id !== undefined) {\n      // Clean up Bokeh references\n      const cmd_clean = \"from bokeh.io.state import curstate; print(curstate().uuid_to_server['\" + server_id + \"'].get_sessions()[0].document.roots[0]._id)\";\n      cell.notebook.kernel.execute(cmd_clean, {\n        iopub: {\n          output: function(msg) {\n            const id = msg.content.text.trim()\n            drop(id)\n          }\n        }\n      });\n      // Destroy server and session\n      const cmd_destroy = \"import bokeh.io.notebook as ion; ion.destroy_server('\" + server_id + \"')\";\n      cell.notebook.kernel.execute(cmd_destroy);\n    }\n  }\n\n  /**\n   * Handle when a new output is added\n   */\n  function handleAddOutput(event, handle) {\n    const output_area = handle.output_area;\n    const output = handle.output;\n\n    // limit handleAddOutput to display_data with EXEC_MIME_TYPE content only\n    if ((output.output_type != \"display_data\") || (!Object.prototype.hasOwnProperty.call(output.data, EXEC_MIME_TYPE))) {\n      return\n    }\n\n    const toinsert = output_area.element.find(\".\" + CLASS_NAME.split(' ')[0]);\n\n    if (output.metadata[EXEC_MIME_TYPE][\"id\"] !== undefined) {\n      toinsert[toinsert.length - 1].firstChild.textContent = output.data[JS_MIME_TYPE];\n      // store reference to embed id on output_area\n      output_area._bokeh_element_id = output.metadata[EXEC_MIME_TYPE][\"id\"];\n    }\n    if (output.metadata[EXEC_MIME_TYPE][\"server_id\"] !== undefined) {\n      const bk_div = document.createElement(\"div\");\n      bk_div.innerHTML = output.data[HTML_MIME_TYPE];\n      const script_attrs = bk_div.children[0].attributes;\n      for (let i = 0; i < script_attrs.length; i++) {\n        toinsert[toinsert.length - 1].firstChild.setAttribute(script_attrs[i].name, script_attrs[i].value);\n        toinsert[toinsert.length - 1].firstChild.textContent = bk_div.children[0].textContent\n      }\n      // store reference to server id on output_area\n      output_area._bokeh_server_id = output.metadata[EXEC_MIME_TYPE][\"server_id\"];\n    }\n  }\n\n  function register_renderer(events, OutputArea) {\n\n    function append_mime(data, metadata, element) {\n      // create a DOM node to render to\n      const toinsert = this.create_output_subarea(\n        metadata,\n        CLASS_NAME,\n        EXEC_MIME_TYPE\n      );\n      this.keyboard_manager.register_events(toinsert);\n      // Render to node\n      const props = {data: data, metadata: metadata[EXEC_MIME_TYPE]};\n      render(props, toinsert[toinsert.length - 1]);\n      element.append(toinsert);\n      return toinsert\n    }\n\n    /* Handle when an output is cleared or removed */\n    events.on('clear_output.CodeCell', handleClearOutput);\n    events.on('delete.Cell', handleClearOutput);\n\n    /* Handle when a new output is added */\n    events.on('output_added.OutputArea', handleAddOutput);\n\n    /**\n     * Register the mime type and append_mime function with output_area\n     */\n    OutputArea.prototype.register_mime_type(EXEC_MIME_TYPE, append_mime, {\n      /* Is output safe? */\n      safe: true,\n      /* Index of renderer in `output_area.display_order` */\n      index: 0\n    });\n  }\n\n  // register the mime type if in Jupyter Notebook environment and previously unregistered\n  if (root.Jupyter !== undefined) {\n    const events = require('base/js/events');\n    const OutputArea = require('notebook/js/outputarea').OutputArea;\n\n    if (OutputArea.prototype.mime_types().indexOf(EXEC_MIME_TYPE) == -1) {\n      register_renderer(events, OutputArea);\n    }\n  }\n  if (typeof (root._bokeh_timeout) === \"undefined\" || force === true) {\n    root._bokeh_timeout = Date.now() + 5000;\n    root._bokeh_failed_load = false;\n  }\n\n  const NB_LOAD_WARNING = {'data': {'text/html':\n     \"<div style='background-color: #fdd'>\\n\"+\n     \"<p>\\n\"+\n     \"BokehJS does not appear to have successfully loaded. If loading BokehJS from CDN, this \\n\"+\n     \"may be due to a slow or bad network connection. Possible fixes:\\n\"+\n     \"</p>\\n\"+\n     \"<ul>\\n\"+\n     \"<li>re-rerun `output_notebook()` to attempt to load from CDN again, or</li>\\n\"+\n     \"<li>use INLINE resources instead, as so:</li>\\n\"+\n     \"</ul>\\n\"+\n     \"<code>\\n\"+\n     \"from bokeh.resources import INLINE\\n\"+\n     \"output_notebook(resources=INLINE)\\n\"+\n     \"</code>\\n\"+\n     \"</div>\"}};\n\n  function display_loaded(error = null) {\n    const el = document.getElementById(\"c5a1e1f0-6227-45b0-a9c8-e9f5d44c3102\");\n    if (el != null) {\n      const html = (() => {\n        if (typeof root.Bokeh === \"undefined\") {\n          if (error == null) {\n            return \"BokehJS is loading ...\";\n          } else {\n            return \"BokehJS failed to load.\";\n          }\n        } else {\n          const prefix = `BokehJS ${root.Bokeh.version}`;\n          if (error == null) {\n            return `${prefix} successfully loaded.`;\n          } else {\n            return `${prefix} <b>encountered errors</b> while loading and may not function as expected.`;\n          }\n        }\n      })();\n      el.innerHTML = html;\n\n      if (error != null) {\n        const wrapper = document.createElement(\"div\");\n        wrapper.style.overflow = \"auto\";\n        wrapper.style.height = \"5em\";\n        wrapper.style.resize = \"vertical\";\n        const content = document.createElement(\"div\");\n        content.style.fontFamily = \"monospace\";\n        content.style.whiteSpace = \"pre-wrap\";\n        content.style.backgroundColor = \"rgb(255, 221, 221)\";\n        content.textContent = error.stack ?? error.toString();\n        wrapper.append(content);\n        el.append(wrapper);\n      }\n    } else if (Date.now() < root._bokeh_timeout) {\n      setTimeout(() => display_loaded(error), 100);\n    }\n  }\n\n  function run_callbacks() {\n    try {\n      root._bokeh_onload_callbacks.forEach(function(callback) {\n        if (callback != null)\n          callback();\n      });\n    } finally {\n      delete root._bokeh_onload_callbacks\n    }\n    console.debug(\"Bokeh: all callbacks have finished\");\n  }\n\n  function load_libs(css_urls, js_urls, callback) {\n    if (css_urls == null) css_urls = [];\n    if (js_urls == null) js_urls = [];\n\n    root._bokeh_onload_callbacks.push(callback);\n    if (root._bokeh_is_loading > 0) {\n      console.debug(\"Bokeh: BokehJS is being loaded, scheduling callback at\", now());\n      return null;\n    }\n    if (js_urls == null || js_urls.length === 0) {\n      run_callbacks();\n      return null;\n    }\n    console.debug(\"Bokeh: BokehJS not loaded, scheduling load and callback at\", now());\n    root._bokeh_is_loading = css_urls.length + js_urls.length;\n\n    function on_load() {\n      root._bokeh_is_loading--;\n      if (root._bokeh_is_loading === 0) {\n        console.debug(\"Bokeh: all BokehJS libraries/stylesheets loaded\");\n        run_callbacks()\n      }\n    }\n\n    function on_error(url) {\n      console.error(\"failed to load \" + url);\n    }\n\n    for (let i = 0; i < css_urls.length; i++) {\n      const url = css_urls[i];\n      const element = document.createElement(\"link\");\n      element.onload = on_load;\n      element.onerror = on_error.bind(null, url);\n      element.rel = \"stylesheet\";\n      element.type = \"text/css\";\n      element.href = url;\n      console.debug(\"Bokeh: injecting link tag for BokehJS stylesheet: \", url);\n      document.body.appendChild(element);\n    }\n\n    for (let i = 0; i < js_urls.length; i++) {\n      const url = js_urls[i];\n      const element = document.createElement('script');\n      element.onload = on_load;\n      element.onerror = on_error.bind(null, url);\n      element.async = false;\n      element.src = url;\n      console.debug(\"Bokeh: injecting script tag for BokehJS library: \", url);\n      document.head.appendChild(element);\n    }\n  };\n\n  function inject_raw_css(css) {\n    const element = document.createElement(\"style\");\n    element.appendChild(document.createTextNode(css));\n    document.body.appendChild(element);\n  }\n\n  const js_urls = [\"https://cdn.bokeh.org/bokeh/release/bokeh-3.7.3.min.js\", \"https://cdn.bokeh.org/bokeh/release/bokeh-gl-3.7.3.min.js\", \"https://cdn.bokeh.org/bokeh/release/bokeh-widgets-3.7.3.min.js\", \"https://cdn.bokeh.org/bokeh/release/bokeh-tables-3.7.3.min.js\", \"https://cdn.bokeh.org/bokeh/release/bokeh-mathjax-3.7.3.min.js\"];\n  const css_urls = [];\n\n  const inline_js = [    function(Bokeh) {\n      Bokeh.set_log_level(\"info\");\n    },\nfunction(Bokeh) {\n    }\n  ];\n\n  function run_inline_js() {\n    if (root.Bokeh !== undefined || force === true) {\n      try {\n            for (let i = 0; i < inline_js.length; i++) {\n      inline_js[i].call(root, root.Bokeh);\n    }\n\n      } catch (error) {display_loaded(error);throw error;\n      }if (force === true) {\n        display_loaded();\n      }} else if (Date.now() < root._bokeh_timeout) {\n      setTimeout(run_inline_js, 100);\n    } else if (!root._bokeh_failed_load) {\n      console.log(\"Bokeh: BokehJS failed to load within specified timeout.\");\n      root._bokeh_failed_load = true;\n    } else if (force !== true) {\n      const cell = $(document.getElementById(\"c5a1e1f0-6227-45b0-a9c8-e9f5d44c3102\")).parents('.cell').data().cell;\n      cell.output_area.append_execute_result(NB_LOAD_WARNING)\n    }\n  }\n\n  if (root._bokeh_is_loading === 0) {\n    console.debug(\"Bokeh: BokehJS loaded, going straight to plotting\");\n    run_inline_js();\n  } else {\n    load_libs(css_urls, js_urls, function() {\n      console.debug(\"Bokeh: BokehJS plotting callback run at\", now());\n      run_inline_js();\n    });\n  }\n}(window));",
=======
      "application/javascript": "'use strict';\n(function(root) {\n  function now() {\n    return new Date();\n  }\n\n  const force = true;\n\n  if (typeof root._bokeh_onload_callbacks === \"undefined\" || force === true) {\n    root._bokeh_onload_callbacks = [];\n    root._bokeh_is_loading = undefined;\n  }\n\nconst JS_MIME_TYPE = 'application/javascript';\n  const HTML_MIME_TYPE = 'text/html';\n  const EXEC_MIME_TYPE = 'application/vnd.bokehjs_exec.v0+json';\n  const CLASS_NAME = 'output_bokeh rendered_html';\n\n  /**\n   * Render data to the DOM node\n   */\n  function render(props, node) {\n    const script = document.createElement(\"script\");\n    node.appendChild(script);\n  }\n\n  /**\n   * Handle when an output is cleared or removed\n   */\n  function handleClearOutput(event, handle) {\n    function drop(id) {\n      const view = Bokeh.index.get_by_id(id)\n      if (view != null) {\n        view.model.document.clear()\n        Bokeh.index.delete(view)\n      }\n    }\n\n    const cell = handle.cell;\n\n    const id = cell.output_area._bokeh_element_id;\n    const server_id = cell.output_area._bokeh_server_id;\n\n    // Clean up Bokeh references\n    if (id != null) {\n      drop(id)\n    }\n\n    if (server_id !== undefined) {\n      // Clean up Bokeh references\n      const cmd_clean = \"from bokeh.io.state import curstate; print(curstate().uuid_to_server['\" + server_id + \"'].get_sessions()[0].document.roots[0]._id)\";\n      cell.notebook.kernel.execute(cmd_clean, {\n        iopub: {\n          output: function(msg) {\n            const id = msg.content.text.trim()\n            drop(id)\n          }\n        }\n      });\n      // Destroy server and session\n      const cmd_destroy = \"import bokeh.io.notebook as ion; ion.destroy_server('\" + server_id + \"')\";\n      cell.notebook.kernel.execute(cmd_destroy);\n    }\n  }\n\n  /**\n   * Handle when a new output is added\n   */\n  function handleAddOutput(event, handle) {\n    const output_area = handle.output_area;\n    const output = handle.output;\n\n    // limit handleAddOutput to display_data with EXEC_MIME_TYPE content only\n    if ((output.output_type != \"display_data\") || (!Object.prototype.hasOwnProperty.call(output.data, EXEC_MIME_TYPE))) {\n      return\n    }\n\n    const toinsert = output_area.element.find(\".\" + CLASS_NAME.split(' ')[0]);\n\n    if (output.metadata[EXEC_MIME_TYPE][\"id\"] !== undefined) {\n      toinsert[toinsert.length - 1].firstChild.textContent = output.data[JS_MIME_TYPE];\n      // store reference to embed id on output_area\n      output_area._bokeh_element_id = output.metadata[EXEC_MIME_TYPE][\"id\"];\n    }\n    if (output.metadata[EXEC_MIME_TYPE][\"server_id\"] !== undefined) {\n      const bk_div = document.createElement(\"div\");\n      bk_div.innerHTML = output.data[HTML_MIME_TYPE];\n      const script_attrs = bk_div.children[0].attributes;\n      for (let i = 0; i < script_attrs.length; i++) {\n        toinsert[toinsert.length - 1].firstChild.setAttribute(script_attrs[i].name, script_attrs[i].value);\n        toinsert[toinsert.length - 1].firstChild.textContent = bk_div.children[0].textContent\n      }\n      // store reference to server id on output_area\n      output_area._bokeh_server_id = output.metadata[EXEC_MIME_TYPE][\"server_id\"];\n    }\n  }\n\n  function register_renderer(events, OutputArea) {\n\n    function append_mime(data, metadata, element) {\n      // create a DOM node to render to\n      const toinsert = this.create_output_subarea(\n        metadata,\n        CLASS_NAME,\n        EXEC_MIME_TYPE\n      );\n      this.keyboard_manager.register_events(toinsert);\n      // Render to node\n      const props = {data: data, metadata: metadata[EXEC_MIME_TYPE]};\n      render(props, toinsert[toinsert.length - 1]);\n      element.append(toinsert);\n      return toinsert\n    }\n\n    /* Handle when an output is cleared or removed */\n    events.on('clear_output.CodeCell', handleClearOutput);\n    events.on('delete.Cell', handleClearOutput);\n\n    /* Handle when a new output is added */\n    events.on('output_added.OutputArea', handleAddOutput);\n\n    /**\n     * Register the mime type and append_mime function with output_area\n     */\n    OutputArea.prototype.register_mime_type(EXEC_MIME_TYPE, append_mime, {\n      /* Is output safe? */\n      safe: true,\n      /* Index of renderer in `output_area.display_order` */\n      index: 0\n    });\n  }\n\n  // register the mime type if in Jupyter Notebook environment and previously unregistered\n  if (root.Jupyter !== undefined) {\n    const events = require('base/js/events');\n    const OutputArea = require('notebook/js/outputarea').OutputArea;\n\n    if (OutputArea.prototype.mime_types().indexOf(EXEC_MIME_TYPE) == -1) {\n      register_renderer(events, OutputArea);\n    }\n  }\n  if (typeof (root._bokeh_timeout) === \"undefined\" || force === true) {\n    root._bokeh_timeout = Date.now() + 5000;\n    root._bokeh_failed_load = false;\n  }\n\n  const NB_LOAD_WARNING = {'data': {'text/html':\n     \"<div style='background-color: #fdd'>\\n\"+\n     \"<p>\\n\"+\n     \"BokehJS does not appear to have successfully loaded. If loading BokehJS from CDN, this \\n\"+\n     \"may be due to a slow or bad network connection. Possible fixes:\\n\"+\n     \"</p>\\n\"+\n     \"<ul>\\n\"+\n     \"<li>re-rerun `output_notebook()` to attempt to load from CDN again, or</li>\\n\"+\n     \"<li>use INLINE resources instead, as so:</li>\\n\"+\n     \"</ul>\\n\"+\n     \"<code>\\n\"+\n     \"from bokeh.resources import INLINE\\n\"+\n     \"output_notebook(resources=INLINE)\\n\"+\n     \"</code>\\n\"+\n     \"</div>\"}};\n\n  function display_loaded(error = null) {\n    const el = document.getElementById(\"b0e1ad9d-6bc7-4308-b17a-1a20291d04d1\");\n    if (el != null) {\n      const html = (() => {\n        if (typeof root.Bokeh === \"undefined\") {\n          if (error == null) {\n            return \"BokehJS is loading ...\";\n          } else {\n            return \"BokehJS failed to load.\";\n          }\n        } else {\n          const prefix = `BokehJS ${root.Bokeh.version}`;\n          if (error == null) {\n            return `${prefix} successfully loaded.`;\n          } else {\n            return `${prefix} <b>encountered errors</b> while loading and may not function as expected.`;\n          }\n        }\n      })();\n      el.innerHTML = html;\n\n      if (error != null) {\n        const wrapper = document.createElement(\"div\");\n        wrapper.style.overflow = \"auto\";\n        wrapper.style.height = \"5em\";\n        wrapper.style.resize = \"vertical\";\n        const content = document.createElement(\"div\");\n        content.style.fontFamily = \"monospace\";\n        content.style.whiteSpace = \"pre-wrap\";\n        content.style.backgroundColor = \"rgb(255, 221, 221)\";\n        content.textContent = error.stack ?? error.toString();\n        wrapper.append(content);\n        el.append(wrapper);\n      }\n    } else if (Date.now() < root._bokeh_timeout) {\n      setTimeout(() => display_loaded(error), 100);\n    }\n  }\n\n  function run_callbacks() {\n    try {\n      root._bokeh_onload_callbacks.forEach(function(callback) {\n        if (callback != null)\n          callback();\n      });\n    } finally {\n      delete root._bokeh_onload_callbacks\n    }\n    console.debug(\"Bokeh: all callbacks have finished\");\n  }\n\n  function load_libs(css_urls, js_urls, callback) {\n    if (css_urls == null) css_urls = [];\n    if (js_urls == null) js_urls = [];\n\n    root._bokeh_onload_callbacks.push(callback);\n    if (root._bokeh_is_loading > 0) {\n      console.debug(\"Bokeh: BokehJS is being loaded, scheduling callback at\", now());\n      return null;\n    }\n    if (js_urls == null || js_urls.length === 0) {\n      run_callbacks();\n      return null;\n    }\n    console.debug(\"Bokeh: BokehJS not loaded, scheduling load and callback at\", now());\n    root._bokeh_is_loading = css_urls.length + js_urls.length;\n\n    function on_load() {\n      root._bokeh_is_loading--;\n      if (root._bokeh_is_loading === 0) {\n        console.debug(\"Bokeh: all BokehJS libraries/stylesheets loaded\");\n        run_callbacks()\n      }\n    }\n\n    function on_error(url) {\n      console.error(\"failed to load \" + url);\n    }\n\n    for (let i = 0; i < css_urls.length; i++) {\n      const url = css_urls[i];\n      const element = document.createElement(\"link\");\n      element.onload = on_load;\n      element.onerror = on_error.bind(null, url);\n      element.rel = \"stylesheet\";\n      element.type = \"text/css\";\n      element.href = url;\n      console.debug(\"Bokeh: injecting link tag for BokehJS stylesheet: \", url);\n      document.body.appendChild(element);\n    }\n\n    for (let i = 0; i < js_urls.length; i++) {\n      const url = js_urls[i];\n      const element = document.createElement('script');\n      element.onload = on_load;\n      element.onerror = on_error.bind(null, url);\n      element.async = false;\n      element.src = url;\n      console.debug(\"Bokeh: injecting script tag for BokehJS library: \", url);\n      document.head.appendChild(element);\n    }\n  };\n\n  function inject_raw_css(css) {\n    const element = document.createElement(\"style\");\n    element.appendChild(document.createTextNode(css));\n    document.body.appendChild(element);\n  }\n\n  const js_urls = [\"https://cdn.bokeh.org/bokeh/release/bokeh-3.7.3.min.js\", \"https://cdn.bokeh.org/bokeh/release/bokeh-gl-3.7.3.min.js\", \"https://cdn.bokeh.org/bokeh/release/bokeh-widgets-3.7.3.min.js\", \"https://cdn.bokeh.org/bokeh/release/bokeh-tables-3.7.3.min.js\", \"https://cdn.bokeh.org/bokeh/release/bokeh-mathjax-3.7.3.min.js\"];\n  const css_urls = [];\n\n  const inline_js = [    function(Bokeh) {\n      Bokeh.set_log_level(\"info\");\n    },\nfunction(Bokeh) {\n    }\n  ];\n\n  function run_inline_js() {\n    if (root.Bokeh !== undefined || force === true) {\n      try {\n            for (let i = 0; i < inline_js.length; i++) {\n      inline_js[i].call(root, root.Bokeh);\n    }\n\n      } catch (error) {display_loaded(error);throw error;\n      }if (force === true) {\n        display_loaded();\n      }} else if (Date.now() < root._bokeh_timeout) {\n      setTimeout(run_inline_js, 100);\n    } else if (!root._bokeh_failed_load) {\n      console.log(\"Bokeh: BokehJS failed to load within specified timeout.\");\n      root._bokeh_failed_load = true;\n    } else if (force !== true) {\n      const cell = $(document.getElementById(\"b0e1ad9d-6bc7-4308-b17a-1a20291d04d1\")).parents('.cell').data().cell;\n      cell.output_area.append_execute_result(NB_LOAD_WARNING)\n    }\n  }\n\n  if (root._bokeh_is_loading === 0) {\n    console.debug(\"Bokeh: BokehJS loaded, going straight to plotting\");\n    run_inline_js();\n  } else {\n    load_libs(css_urls, js_urls, function() {\n      console.debug(\"Bokeh: BokehJS plotting callback run at\", now());\n      run_inline_js();\n    });\n  }\n}(window));",
>>>>>>> fc7a06815f731caeb12c50ff3d38f40c797af570
      "application/vnd.bokehjs_load.v0+json": ""
     },
     "metadata": {},
     "output_type": "display_data"
    },
    {
     "name": "stdout",
     "output_type": "stream",
     "text": [
<<<<<<< HEAD
=======
      "                       Open    High      Low    Close  Volume\n",
      "time                                                         \n",
      "2018-01-02 14:30:00  156.50  157.88  156.170  157.840  875636\n",
      "2018-01-02 15:30:00  157.85  158.15  157.630  158.000  424637\n",
      "2018-01-02 16:30:00  158.01  158.06  157.895  157.990  161584\n",
      "2018-01-02 17:30:00  157.98  158.10  157.900  158.080  131613\n",
      "2018-01-02 18:30:00  158.08  158.33  158.070  158.265  251044\n",
>>>>>>> fc7a06815f731caeb12c50ff3d38f40c797af570
      "                        Open    High     Low    Close   Volume\n",
      "time                                                          \n",
      "2018-02-01 14:30:00  168.120  169.30  168.10  168.860   778080\n",
      "2018-02-01 15:30:00  168.890  169.56  168.77  169.000   369077\n",
      "2018-02-01 16:30:00  169.030  169.56  169.01  169.350   308644\n",
      "2018-02-01 17:30:00  169.350  169.72  169.33  169.610   233919\n",
      "2018-02-01 18:30:00  169.610  169.62  168.15  168.500   536976\n",
      "2018-02-01 19:30:00  168.530  168.84  168.16  168.180   472291\n",
      "2018-02-01 20:30:00  168.180  168.28  167.43  167.970   881835\n",
      "2018-02-02 14:30:00  167.350  167.69  165.47  166.550  1440870\n",
      "2018-02-02 15:30:00  166.550  166.98  166.29  166.455   468137\n",
      "2018-02-02 16:30:00  166.445  166.80  165.88  166.800   338315\n",
      "2018-02-02 17:30:00  166.800  166.85  165.71  166.030   444612\n",
      "2018-02-02 18:30:00  166.050  166.17  165.32  165.410   700824\n",
      "2018-02-02 19:30:00  165.420  165.96  164.69  165.170  1402530\n",
      "2018-02-02 20:30:00  165.180  165.32  164.48  164.560  1224748\n"
     ]
    }
   ],
   "source": [
<<<<<<< HEAD
    "import os, sys\n",
=======
    "import os\n",
>>>>>>> fc7a06815f731caeb12c50ff3d38f40c797af570
    "import time\n",
    "import math\n",
    "import numpy as np\n",
    "from IPython.utils import io\n",
    "import pandas as pd\n",
    "from tqdm import tqdm\n",
    "from dataclasses import dataclass\n",
    "from typing import List, Union \n",
    "import matplotlib.pyplot as plt\n",
    "import matplotlib\n",
    "from backtesting import Backtest, Strategy\n",
    "import multiprocessing as mp\n",
    "from backtesting.lib import crossover\n",
    "import backtesting\n",
    "import sambo\n",
    "import joblib\n",
    "import ta\n",
    "import torch\n",
    "import torch.nn as nn\n",
<<<<<<< HEAD
    "sys.path.insert(0, os.path.abspath('..'))  # from MontecarloPermutations/ up to repo root\n",
    "from PermutationFunctions.PERMUTATIONS import get_permutation\n",
    "from Strategy.strategy import ARSIstrat\n",
=======
    "from PERMUTATIONS import get_permutation\n",
    "from strategy import ARSIstrat\n",
>>>>>>> fc7a06815f731caeb12c50ff3d38f40c797af570
    "import MLP_WFSIG_functions as MLP"
   ]
  },
  {
   "cell_type": "code",
<<<<<<< HEAD
   "execution_count": 2,
=======
   "execution_count": 3,
>>>>>>> fc7a06815f731caeb12c50ff3d38f40c797af570
   "id": "3d0d1685",
   "metadata": {},
   "outputs": [],
   "source": [
<<<<<<< HEAD
    "csv_path = 'CSV_files/BATS_QQQ, 60_a45be.csv'\n",
=======
    "csv_path = 'BATS_QQQ, 60_a45be.csv'\n",
>>>>>>> fc7a06815f731caeb12c50ff3d38f40c797af570
    "\n",
    "full_df = MLP.load_data(csv_path, start='2018-01-01', end_excl='2024-01-01')\n",
    "df_train = full_df.loc['2018-01-01':'2021-12-31']\n",
    "df_test = full_df.loc['2023-01-01':'2023-12-31']"
   ]
  },
  {
   "cell_type": "code",
<<<<<<< HEAD
   "execution_count": 3,
=======
   "execution_count": 4,
>>>>>>> fc7a06815f731caeb12c50ff3d38f40c797af570
   "id": "65f0095c",
   "metadata": {},
   "outputs": [],
   "source": [
    "MIN_GAP_FS = 3\n",
    "MIN_GAP_SV = 7\n",
    "def _order_ok(p):\n",
    "    return (\n",
    "        (p.n_slow  - p.n_fast  >= MIN_GAP_FS) and\n",
    "        (p.n_vslow - p.n_slow  >= MIN_GAP_SV) and\n",
    "        (p.n_fast  < p.n_slow  < p.n_vslow)   and\n",
    "        (p.sig_len > 0) and (p.sl_pct > 0)\n",
    "    )"
   ]
  },
  {
   "cell_type": "code",
<<<<<<< HEAD
   "execution_count": 5,
=======
   "execution_count": null,
>>>>>>> fc7a06815f731caeb12c50ff3d38f40c797af570
   "id": "31760e23",
   "metadata": {},
   "outputs": [
    {
     "name": "stdout",
     "output_type": "stream",
     "text": [
<<<<<<< HEAD
      "In-Sample MCPT\n",
      "{'n_fast': 15, 'n_slow': 53, 'n_vslow': 60, 'sig_len': 8, 'sl_pct': 0.005199065836366029}\n",
      "Sharpe Ratio      1.920208\n",
      "Return [%]      393.741033\n",
      "# Trades              1145\n",
      "dtype: object\n"
     ]
    },
    {
     "name": "stderr",
     "output_type": "stream",
     "text": [
      "Permutations: 100%|██████████| 500/500 [14:26:12<00:00, 103.95s/it]  "
     ]
    },
    {
     "name": "stdout",
     "output_type": "stream",
     "text": [
      "In-sample MCPT P-Value: 0.0\n"
     ]
    },
    {
     "name": "stderr",
     "output_type": "stream",
     "text": [
      "\n"
     ]
    },
    {
     "data": {
      "image/png": "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",
      "text/plain": [
       "<Figure size 640x480 with 1 Axes>"
      ]
     },
     "metadata": {},
     "output_type": "display_data"
    }
   ],
   "source": [
    "n_permutations = 500\n",
=======
      "In-Sample MCPT\n"
     ]
    }
   ],
   "source": [
    "n_permutations = 100\n",
>>>>>>> fc7a06815f731caeb12c50ff3d38f40c797af570
    "perm_better_count1 = 0\n",
    "permuted_SRs = []\n",
    "print(\"In-Sample MCPT\")\n",
    "\n",
<<<<<<< HEAD
    "SL_GRID = [round(x, 5) for x in np.linspace(0.0001, 0.0200, int((0.0200 - 0.0001) / 0.00001) + 1)]\n",
=======
    "SL_GRID = [round(x, 3) for x in np.arange(0.001, 0.020 + 0.0005, 0.001)]\n",
>>>>>>> fc7a06815f731caeb12c50ff3d38f40c797af570
    "\n",
    "param_space = dict(\n",
    "    n_fast  = list(range(5, 26, 1)),\n",
    "    n_slow  = list(range(10, 56, 1)),\n",
    "    n_vslow = list(range(30, 121, 1)),\n",
    "    sig_len = list(range(5, 31, 1)),\n",
<<<<<<< HEAD
    "    sl_pct  = SL_GRID,                         # <<< discrete in 0.0001 steps\n",
    ")\n",
    "\n",
    "local_df_train = df_train.copy()\n",
    "local_bt_train = Backtest(local_df_train, ARSIstrat, cash=1_000_000, commission=0.0, spread=0.000025, finalize_trades=True) \n",
=======
    "    sl_pct  = SL_GRID,                         # <<< discrete in 0.001 steps\n",
    ")\n",
    "\n",
    "local_df_train = df_train.copy()\n",
    "local_bt_train = Backtest(local_df_train, ARSIstrat, cash=1_000_000, commission=0.0, spread=0.0001, finalize_trades=True) \n",
>>>>>>> fc7a06815f731caeb12c50ff3d38f40c797af570
    "\n",
    "with io.capture_output():\n",
    "    stats1, _ = local_bt_train.optimize(\n",
    "        **param_space,\n",
    "        maximize='Sharpe Ratio',\n",
    "        return_heatmap=True,\n",
    "        constraint=_order_ok,\n",
    "        method='sambo',\n",
<<<<<<< HEAD
    "        max_tries=5000,\n",
    "        random_state=81\n",
=======
    "        max_tries=2500,\n",
    "        random_state=42\n",
>>>>>>> fc7a06815f731caeb12c50ff3d38f40c797af570
    "    )\n",
    "\n",
    "best = stats1._strategy\n",
    "best_params = {\n",
    "    'n_fast' : int(best.n_fast),\n",
    "    'n_slow' : int(best.n_slow),\n",
    "    'n_vslow' : int(best.n_vslow),\n",
    "    'sig_len' : int(best.sig_len),\n",
<<<<<<< HEAD
    "    'sl_pct' : float(best.sl_pct)\n",
=======
    "    'sl_pct' : int(best.sl_pct)\n",
>>>>>>> fc7a06815f731caeb12c50ff3d38f40c797af570
    "    }\n",
    "\n",
    "print(best_params)\n",
    "\n",
    "\n",
    "print(stats1[['Sharpe Ratio', 'Return [%]', '# Trades']])\n",
    "\n",
    "local_SR_OPTI_0 = stats1['Sharpe Ratio']\n",
    "\n",
<<<<<<< HEAD
    "for perm_i in tqdm(range(1, n_permutations+1),  desc=\"Permutations\"):\n",
    "\n",
    "    train_perm = get_permutation(local_df_train)\n",
    "\n",
    "    train_perm_bt = Backtest(train_perm, ARSIstrat, cash=1_000_000, commission=0.0, spread=0.000025, finalize_trades=True) \n",
=======
    "for perm_i in tqdm(range(1, n_permutations+1)):\n",
    "\n",
    "    train_perm = get_permutation(local_df_train)\n",
    "\n",
    "    train_perm_bt = Backtest(train_perm, ARSIstrat, cash=1_000_000, commission=0.0, spread=0.0001, finalize_trades=True) \n",
>>>>>>> fc7a06815f731caeb12c50ff3d38f40c797af570
    "    with io.capture_output():\n",
    "        stats2, _ = train_perm_bt.optimize(\n",
    "            **param_space,\n",
    "            maximize='Sharpe Ratio',\n",
    "            return_heatmap=True,\n",
    "            constraint=_order_ok,\n",
    "            method='sambo',\n",
<<<<<<< HEAD
    "            max_tries=5000,\n",
    "            random_state=81\n",
=======
    "            max_tries=2500,\n",
    "            random_state=42\n",
>>>>>>> fc7a06815f731caeb12c50ff3d38f40c797af570
    "        )\n",
    "\n",
    "    \n",
    "    \n",
    "    best_perm_SR = stats2['Sharpe Ratio']\n",
    "\n",
    "    \n",
    "    if best_perm_SR >= local_SR_OPTI_0:\n",
    "        perm_better_count1 += 1\n",
    "\n",
    "    permuted_SRs.append(best_perm_SR)\n",
    "\n",
    "insample_mcpt_pval = perm_better_count1 / n_permutations\n",
    "\n",
    "\n",
    "\n",
    "\n",
    "print(f\"In-sample MCPT P-Value: {insample_mcpt_pval}\")\n",
    "plt.style.use('dark_background')\n",
    "pd.Series(permuted_SRs).hist(color='blue', label='Permutations')\n",
    "plt.axvline(local_SR_OPTI_0, color='red', label='Real')\n",
<<<<<<< HEAD
    "plt.xlabel(\"Sharpe\")\n",
=======
    "plt.xlabel(\"Profit Factor\")\n",
>>>>>>> fc7a06815f731caeb12c50ff3d38f40c797af570
    "plt.title(f\"In-sample MCPT. P-Value: {insample_mcpt_pval}\")\n",
    "plt.grid(False)\n",
    "plt.legend()\n",
    "plt.show()"
   ]
  }
 ],
 "metadata": {
  "kernelspec": {
<<<<<<< HEAD
   "display_name": "Python 3",
=======
   "display_name": ".venv313 (3.13.6)",
>>>>>>> fc7a06815f731caeb12c50ff3d38f40c797af570
   "language": "python",
   "name": "python3"
  },
  "language_info": {
   "codemirror_mode": {
    "name": "ipython",
    "version": 3
   },
   "file_extension": ".py",
   "mimetype": "text/x-python",
   "name": "python",
   "nbconvert_exporter": "python",
   "pygments_lexer": "ipython3",
<<<<<<< HEAD
   "version": "3.10.1"
=======
   "version": "3.13.6"
>>>>>>> fc7a06815f731caeb12c50ff3d38f40c797af570
  }
 },
 "nbformat": 4,
 "nbformat_minor": 5
}
