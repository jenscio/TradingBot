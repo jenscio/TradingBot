{
 "cells": [
  {
   "cell_type": "code",
   "execution_count": 2,
   "id": "dbc05a83",
   "metadata": {},
   "outputs": [
    {
     "name": "stderr",
     "output_type": "stream",
     "text": [
      "/Users/matteogiori/trycloneinsider/TradingBot/.venv313/lib/python3.13/site-packages/backtesting/_plotting.py:55: UserWarning: Jupyter Notebook detected. Setting Bokeh output to notebook. This may not work in Jupyter clients without JavaScript support, such as old IDEs. Reset with `backtesting.set_bokeh_output(notebook=False)`.\n",
      "  warnings.warn('Jupyter Notebook detected. '\n"
     ]
    },
    {
     "data": {
      "text/html": [
       "    <style>\n",
       "        .bk-notebook-logo {\n",
       "            display: block;\n",
       "            width: 20px;\n",
       "            height: 20px;\n",
       "            background-image: url(data:image/png;base64,iVBORw0KGgoAAAANSUhEUgAAABQAAAAUCAYAAACNiR0NAAAABHNCSVQICAgIfAhkiAAAAAlwSFlzAAALEgAACxIB0t1+/AAAABx0RVh0U29mdHdhcmUAQWRvYmUgRmlyZXdvcmtzIENTNui8sowAAAOkSURBVDiNjZRtaJVlGMd/1/08zzln5zjP1LWcU9N0NkN8m2CYjpgQYQXqSs0I84OLIC0hkEKoPtiH3gmKoiJDU7QpLgoLjLIQCpEsNJ1vqUOdO7ppbuec5+V+rj4ctwzd8IIbbi6u+8f1539dt3A78eXC7QizUF7gyV1fD1Yqg4JWz84yffhm0qkFqBogB9rM8tZdtwVsPUhWhGcFJngGeWrPzHm5oaMmkfEg1usvLFyc8jLRqDOMru7AyC8saQr7GG7f5fvDeH7Ej8CM66nIF+8yngt6HWaKh7k49Soy9nXurCi1o3qUbS3zWfrYeQDTB/Qj6kX6Ybhw4B+bOYoLKCC9H3Nu/leUTZ1JdRWkkn2ldcCamzrcf47KKXdAJllSlxAOkRgyHsGC/zRday5Qld9DyoM4/q/rUoy/CXh3jzOu3bHUVZeU+DEn8FInkPBFlu3+nW3Nw0mk6vCDiWg8CeJaxEwuHS3+z5RgY+YBR6V1Z1nxSOfoaPa4LASWxxdNp+VWTk7+4vzaou8v8PN+xo+KY2xsw6une2frhw05CTYOmQvsEhjhWjn0bmXPjpE1+kplmmkP3suftwTubK9Vq22qKmrBhpY4jvd5afdRA3wGjFAgcnTK2s4hY0/GPNIb0nErGMCRxWOOX64Z8RAC4oCXdklmEvcL8o0BfkNK4lUg9HTl+oPlQxdNo3Mg4Nv175e/1LDGzZen30MEjRUtmXSfiTVu1kK8W4txyV6BMKlbgk3lMwYCiusNy9fVfvvwMxv8Ynl6vxoByANLTWplvuj/nF9m2+PDtt1eiHPBr1oIfhCChQMBw6Aw0UulqTKZdfVvfG7VcfIqLG9bcldL/+pdWTLxLUy8Qq38heUIjh4XlzZxzQm19lLFlr8vdQ97rjZVOLf8nclzckbcD4wxXMidpX30sFd37Fv/GtwwhzhxGVAprjbg0gCAEeIgwCZyTV2Z1REEW8O4py0wsjeloKoMr6iCY6dP92H6Vw/oTyICIthibxjm/DfN9lVz8IqtqKYLUXfoKVMVQVVJOElGjrnnUt9T9wbgp8AyYKaGlqingHZU/uG2NTZSVqwHQTWkx9hxjkpWDaCg6Ckj5qebgBVbT3V3NNXMSiWSDdGV3hrtzla7J+duwPOToIg42ChPQOQjspnSlp1V+Gjdged7+8UN5CRAV7a5EdFNwCjEaBR27b3W890TE7g24NAP/mMDXRWrGoFPQI9ls/MWO2dWFAar/xcOIImbbpA3zgAAAABJRU5ErkJggg==);\n",
       "        }\n",
       "    </style>\n",
       "    <div>\n",
       "        <a href=\"https://bokeh.org\" target=\"_blank\" class=\"bk-notebook-logo\"></a>\n",
       "        <span id=\"b0e1ad9d-6bc7-4308-b17a-1a20291d04d1\">Loading BokehJS ...</span>\n",
       "    </div>\n"
      ]
     },
     "metadata": {},
     "output_type": "display_data"
    },
    {
     "data": {
      "application/javascript": "'use strict';\n(function(root) {\n  function now() {\n    return new Date();\n  }\n\n  const force = true;\n\n  if (typeof root._bokeh_onload_callbacks === \"undefined\" || force === true) {\n    root._bokeh_onload_callbacks = [];\n    root._bokeh_is_loading = undefined;\n  }\n\nconst JS_MIME_TYPE = 'application/javascript';\n  const HTML_MIME_TYPE = 'text/html';\n  const EXEC_MIME_TYPE = 'application/vnd.bokehjs_exec.v0+json';\n  const CLASS_NAME = 'output_bokeh rendered_html';\n\n  /**\n   * Render data to the DOM node\n   */\n  function render(props, node) {\n    const script = document.createElement(\"script\");\n    node.appendChild(script);\n  }\n\n  /**\n   * Handle when an output is cleared or removed\n   */\n  function handleClearOutput(event, handle) {\n    function drop(id) {\n      const view = Bokeh.index.get_by_id(id)\n      if (view != null) {\n        view.model.document.clear()\n        Bokeh.index.delete(view)\n      }\n    }\n\n    const cell = handle.cell;\n\n    const id = cell.output_area._bokeh_element_id;\n    const server_id = cell.output_area._bokeh_server_id;\n\n    // Clean up Bokeh references\n    if (id != null) {\n      drop(id)\n    }\n\n    if (server_id !== undefined) {\n      // Clean up Bokeh references\n      const cmd_clean = \"from bokeh.io.state import curstate; print(curstate().uuid_to_server['\" + server_id + \"'].get_sessions()[0].document.roots[0]._id)\";\n      cell.notebook.kernel.execute(cmd_clean, {\n        iopub: {\n          output: function(msg) {\n            const id = msg.content.text.trim()\n            drop(id)\n          }\n        }\n      });\n      // Destroy server and session\n      const cmd_destroy = \"import bokeh.io.notebook as ion; ion.destroy_server('\" + server_id + \"')\";\n      cell.notebook.kernel.execute(cmd_destroy);\n    }\n  }\n\n  /**\n   * Handle when a new output is added\n   */\n  function handleAddOutput(event, handle) {\n    const output_area = handle.output_area;\n    const output = handle.output;\n\n    // limit handleAddOutput to display_data with EXEC_MIME_TYPE content only\n    if ((output.output_type != \"display_data\") || (!Object.prototype.hasOwnProperty.call(output.data, EXEC_MIME_TYPE))) {\n      return\n    }\n\n    const toinsert = output_area.element.find(\".\" + CLASS_NAME.split(' ')[0]);\n\n    if (output.metadata[EXEC_MIME_TYPE][\"id\"] !== undefined) {\n      toinsert[toinsert.length - 1].firstChild.textContent = output.data[JS_MIME_TYPE];\n      // store reference to embed id on output_area\n      output_area._bokeh_element_id = output.metadata[EXEC_MIME_TYPE][\"id\"];\n    }\n    if (output.metadata[EXEC_MIME_TYPE][\"server_id\"] !== undefined) {\n      const bk_div = document.createElement(\"div\");\n      bk_div.innerHTML = output.data[HTML_MIME_TYPE];\n      const script_attrs = bk_div.children[0].attributes;\n      for (let i = 0; i < script_attrs.length; i++) {\n        toinsert[toinsert.length - 1].firstChild.setAttribute(script_attrs[i].name, script_attrs[i].value);\n        toinsert[toinsert.length - 1].firstChild.textContent = bk_div.children[0].textContent\n      }\n      // store reference to server id on output_area\n      output_area._bokeh_server_id = output.metadata[EXEC_MIME_TYPE][\"server_id\"];\n    }\n  }\n\n  function register_renderer(events, OutputArea) {\n\n    function append_mime(data, metadata, element) {\n      // create a DOM node to render to\n      const toinsert = this.create_output_subarea(\n        metadata,\n        CLASS_NAME,\n        EXEC_MIME_TYPE\n      );\n      this.keyboard_manager.register_events(toinsert);\n      // Render to node\n      const props = {data: data, metadata: metadata[EXEC_MIME_TYPE]};\n      render(props, toinsert[toinsert.length - 1]);\n      element.append(toinsert);\n      return toinsert\n    }\n\n    /* Handle when an output is cleared or removed */\n    events.on('clear_output.CodeCell', handleClearOutput);\n    events.on('delete.Cell', handleClearOutput);\n\n    /* Handle when a new output is added */\n    events.on('output_added.OutputArea', handleAddOutput);\n\n    /**\n     * Register the mime type and append_mime function with output_area\n     */\n    OutputArea.prototype.register_mime_type(EXEC_MIME_TYPE, append_mime, {\n      /* Is output safe? */\n      safe: true,\n      /* Index of renderer in `output_area.display_order` */\n      index: 0\n    });\n  }\n\n  // register the mime type if in Jupyter Notebook environment and previously unregistered\n  if (root.Jupyter !== undefined) {\n    const events = require('base/js/events');\n    const OutputArea = require('notebook/js/outputarea').OutputArea;\n\n    if (OutputArea.prototype.mime_types().indexOf(EXEC_MIME_TYPE) == -1) {\n      register_renderer(events, OutputArea);\n    }\n  }\n  if (typeof (root._bokeh_timeout) === \"undefined\" || force === true) {\n    root._bokeh_timeout = Date.now() + 5000;\n    root._bokeh_failed_load = false;\n  }\n\n  const NB_LOAD_WARNING = {'data': {'text/html':\n     \"<div style='background-color: #fdd'>\\n\"+\n     \"<p>\\n\"+\n     \"BokehJS does not appear to have successfully loaded. If loading BokehJS from CDN, this \\n\"+\n     \"may be due to a slow or bad network connection. Possible fixes:\\n\"+\n     \"</p>\\n\"+\n     \"<ul>\\n\"+\n     \"<li>re-rerun `output_notebook()` to attempt to load from CDN again, or</li>\\n\"+\n     \"<li>use INLINE resources instead, as so:</li>\\n\"+\n     \"</ul>\\n\"+\n     \"<code>\\n\"+\n     \"from bokeh.resources import INLINE\\n\"+\n     \"output_notebook(resources=INLINE)\\n\"+\n     \"</code>\\n\"+\n     \"</div>\"}};\n\n  function display_loaded(error = null) {\n    const el = document.getElementById(\"b0e1ad9d-6bc7-4308-b17a-1a20291d04d1\");\n    if (el != null) {\n      const html = (() => {\n        if (typeof root.Bokeh === \"undefined\") {\n          if (error == null) {\n            return \"BokehJS is loading ...\";\n          } else {\n            return \"BokehJS failed to load.\";\n          }\n        } else {\n          const prefix = `BokehJS ${root.Bokeh.version}`;\n          if (error == null) {\n            return `${prefix} successfully loaded.`;\n          } else {\n            return `${prefix} <b>encountered errors</b> while loading and may not function as expected.`;\n          }\n        }\n      })();\n      el.innerHTML = html;\n\n      if (error != null) {\n        const wrapper = document.createElement(\"div\");\n        wrapper.style.overflow = \"auto\";\n        wrapper.style.height = \"5em\";\n        wrapper.style.resize = \"vertical\";\n        const content = document.createElement(\"div\");\n        content.style.fontFamily = \"monospace\";\n        content.style.whiteSpace = \"pre-wrap\";\n        content.style.backgroundColor = \"rgb(255, 221, 221)\";\n        content.textContent = error.stack ?? error.toString();\n        wrapper.append(content);\n        el.append(wrapper);\n      }\n    } else if (Date.now() < root._bokeh_timeout) {\n      setTimeout(() => display_loaded(error), 100);\n    }\n  }\n\n  function run_callbacks() {\n    try {\n      root._bokeh_onload_callbacks.forEach(function(callback) {\n        if (callback != null)\n          callback();\n      });\n    } finally {\n      delete root._bokeh_onload_callbacks\n    }\n    console.debug(\"Bokeh: all callbacks have finished\");\n  }\n\n  function load_libs(css_urls, js_urls, callback) {\n    if (css_urls == null) css_urls = [];\n    if (js_urls == null) js_urls = [];\n\n    root._bokeh_onload_callbacks.push(callback);\n    if (root._bokeh_is_loading > 0) {\n      console.debug(\"Bokeh: BokehJS is being loaded, scheduling callback at\", now());\n      return null;\n    }\n    if (js_urls == null || js_urls.length === 0) {\n      run_callbacks();\n      return null;\n    }\n    console.debug(\"Bokeh: BokehJS not loaded, scheduling load and callback at\", now());\n    root._bokeh_is_loading = css_urls.length + js_urls.length;\n\n    function on_load() {\n      root._bokeh_is_loading--;\n      if (root._bokeh_is_loading === 0) {\n        console.debug(\"Bokeh: all BokehJS libraries/stylesheets loaded\");\n        run_callbacks()\n      }\n    }\n\n    function on_error(url) {\n      console.error(\"failed to load \" + url);\n    }\n\n    for (let i = 0; i < css_urls.length; i++) {\n      const url = css_urls[i];\n      const element = document.createElement(\"link\");\n      element.onload = on_load;\n      element.onerror = on_error.bind(null, url);\n      element.rel = \"stylesheet\";\n      element.type = \"text/css\";\n      element.href = url;\n      console.debug(\"Bokeh: injecting link tag for BokehJS stylesheet: \", url);\n      document.body.appendChild(element);\n    }\n\n    for (let i = 0; i < js_urls.length; i++) {\n      const url = js_urls[i];\n      const element = document.createElement('script');\n      element.onload = on_load;\n      element.onerror = on_error.bind(null, url);\n      element.async = false;\n      element.src = url;\n      console.debug(\"Bokeh: injecting script tag for BokehJS library: \", url);\n      document.head.appendChild(element);\n    }\n  };\n\n  function inject_raw_css(css) {\n    const element = document.createElement(\"style\");\n    element.appendChild(document.createTextNode(css));\n    document.body.appendChild(element);\n  }\n\n  const js_urls = [\"https://cdn.bokeh.org/bokeh/release/bokeh-3.7.3.min.js\", \"https://cdn.bokeh.org/bokeh/release/bokeh-gl-3.7.3.min.js\", \"https://cdn.bokeh.org/bokeh/release/bokeh-widgets-3.7.3.min.js\", \"https://cdn.bokeh.org/bokeh/release/bokeh-tables-3.7.3.min.js\", \"https://cdn.bokeh.org/bokeh/release/bokeh-mathjax-3.7.3.min.js\"];\n  const css_urls = [];\n\n  const inline_js = [    function(Bokeh) {\n      Bokeh.set_log_level(\"info\");\n    },\nfunction(Bokeh) {\n    }\n  ];\n\n  function run_inline_js() {\n    if (root.Bokeh !== undefined || force === true) {\n      try {\n            for (let i = 0; i < inline_js.length; i++) {\n      inline_js[i].call(root, root.Bokeh);\n    }\n\n      } catch (error) {display_loaded(error);throw error;\n      }if (force === true) {\n        display_loaded();\n      }} else if (Date.now() < root._bokeh_timeout) {\n      setTimeout(run_inline_js, 100);\n    } else if (!root._bokeh_failed_load) {\n      console.log(\"Bokeh: BokehJS failed to load within specified timeout.\");\n      root._bokeh_failed_load = true;\n    } else if (force !== true) {\n      const cell = $(document.getElementById(\"b0e1ad9d-6bc7-4308-b17a-1a20291d04d1\")).parents('.cell').data().cell;\n      cell.output_area.append_execute_result(NB_LOAD_WARNING)\n    }\n  }\n\n  if (root._bokeh_is_loading === 0) {\n    console.debug(\"Bokeh: BokehJS loaded, going straight to plotting\");\n    run_inline_js();\n  } else {\n    load_libs(css_urls, js_urls, function() {\n      console.debug(\"Bokeh: BokehJS plotting callback run at\", now());\n      run_inline_js();\n    });\n  }\n}(window));",
      "application/vnd.bokehjs_load.v0+json": ""
     },
     "metadata": {},
     "output_type": "display_data"
    },
    {
     "name": "stdout",
     "output_type": "stream",
     "text": [
      "                       Open    High      Low    Close  Volume\n",
      "time                                                         \n",
      "2018-01-02 14:30:00  156.50  157.88  156.170  157.840  875636\n",
      "2018-01-02 15:30:00  157.85  158.15  157.630  158.000  424637\n",
      "2018-01-02 16:30:00  158.01  158.06  157.895  157.990  161584\n",
      "2018-01-02 17:30:00  157.98  158.10  157.900  158.080  131613\n",
      "2018-01-02 18:30:00  158.08  158.33  158.070  158.265  251044\n",
      "                        Open    High     Low    Close   Volume\n",
      "time                                                          \n",
      "2018-02-01 14:30:00  168.120  169.30  168.10  168.860   778080\n",
      "2018-02-01 15:30:00  168.890  169.56  168.77  169.000   369077\n",
      "2018-02-01 16:30:00  169.030  169.56  169.01  169.350   308644\n",
      "2018-02-01 17:30:00  169.350  169.72  169.33  169.610   233919\n",
      "2018-02-01 18:30:00  169.610  169.62  168.15  168.500   536976\n",
      "2018-02-01 19:30:00  168.530  168.84  168.16  168.180   472291\n",
      "2018-02-01 20:30:00  168.180  168.28  167.43  167.970   881835\n",
      "2018-02-02 14:30:00  167.350  167.69  165.47  166.550  1440870\n",
      "2018-02-02 15:30:00  166.550  166.98  166.29  166.455   468137\n",
      "2018-02-02 16:30:00  166.445  166.80  165.88  166.800   338315\n",
      "2018-02-02 17:30:00  166.800  166.85  165.71  166.030   444612\n",
      "2018-02-02 18:30:00  166.050  166.17  165.32  165.410   700824\n",
      "2018-02-02 19:30:00  165.420  165.96  164.69  165.170  1402530\n",
      "2018-02-02 20:30:00  165.180  165.32  164.48  164.560  1224748\n"
     ]
    }
   ],
   "source": [
    "import os\n",
    "import time\n",
    "import math\n",
    "import numpy as np\n",
    "from IPython.utils import io\n",
    "import pandas as pd\n",
    "from tqdm import tqdm\n",
    "from dataclasses import dataclass\n",
    "from typing import List, Union \n",
    "import matplotlib.pyplot as plt\n",
    "import matplotlib\n",
    "from backtesting import Backtest, Strategy\n",
    "import multiprocessing as mp\n",
    "from backtesting.lib import crossover\n",
    "import backtesting\n",
    "import sambo\n",
    "import joblib\n",
    "import ta\n",
    "import torch\n",
    "import torch.nn as nn\n",
    "from PERMUTATIONS import get_permutation\n",
    "from strategy import ARSIstrat\n",
    "import MLP_WFSIG_functions as MLP"
   ]
  },
  {
   "cell_type": "code",
   "execution_count": 3,
   "id": "3d0d1685",
   "metadata": {},
   "outputs": [],
   "source": [
    "csv_path = 'BATS_QQQ, 60_a45be.csv'\n",
    "\n",
    "full_df = MLP.load_data(csv_path, start='2018-01-01', end_excl='2024-01-01')\n",
    "df_train = full_df.loc['2018-01-01':'2021-12-31']\n",
    "df_test = full_df.loc['2023-01-01':'2023-12-31']"
   ]
  },
  {
   "cell_type": "code",
   "execution_count": 4,
   "id": "65f0095c",
   "metadata": {},
   "outputs": [],
   "source": [
    "MIN_GAP_FS = 3\n",
    "MIN_GAP_SV = 7\n",
    "def _order_ok(p):\n",
    "    return (\n",
    "        (p.n_slow  - p.n_fast  >= MIN_GAP_FS) and\n",
    "        (p.n_vslow - p.n_slow  >= MIN_GAP_SV) and\n",
    "        (p.n_fast  < p.n_slow  < p.n_vslow)   and\n",
    "        (p.sig_len > 0) and (p.sl_pct > 0)\n",
    "    )"
   ]
  },
  {
   "cell_type": "code",
   "execution_count": null,
   "id": "31760e23",
   "metadata": {},
   "outputs": [
    {
     "name": "stdout",
     "output_type": "stream",
     "text": [
      "In-Sample MCPT\n"
     ]
    }
   ],
   "source": [
    "n_permutations = 100\n",
    "perm_better_count1 = 0\n",
    "permuted_SRs = []\n",
    "print(\"In-Sample MCPT\")\n",
    "\n",
    "SL_GRID = [round(x, 3) for x in np.arange(0.001, 0.020 + 0.0005, 0.001)]\n",
    "\n",
    "param_space = dict(\n",
    "    n_fast  = list(range(5, 26, 1)),\n",
    "    n_slow  = list(range(10, 56, 1)),\n",
    "    n_vslow = list(range(30, 121, 1)),\n",
    "    sig_len = list(range(5, 31, 1)),\n",
    "    sl_pct  = SL_GRID,                         # <<< discrete in 0.001 steps\n",
    ")\n",
    "\n",
    "local_df_train = df_train.copy()\n",
    "local_bt_train = Backtest(local_df_train, ARSIstrat, cash=1_000_000, commission=0.0, spread=0.0001, finalize_trades=True) \n",
    "\n",
    "with io.capture_output():\n",
    "    stats1, _ = local_bt_train.optimize(\n",
    "        **param_space,\n",
    "        maximize='Sharpe Ratio',\n",
    "        return_heatmap=True,\n",
    "        constraint=_order_ok,\n",
    "        method='sambo',\n",
    "        max_tries=2500,\n",
    "        random_state=42\n",
    "    )\n",
    "\n",
    "best = stats1._strategy\n",
    "best_params = {\n",
    "    'n_fast' : int(best.n_fast),\n",
    "    'n_slow' : int(best.n_slow),\n",
    "    'n_vslow' : int(best.n_vslow),\n",
    "    'sig_len' : int(best.sig_len),\n",
    "    'sl_pct' : int(best.sl_pct)\n",
    "    }\n",
    "\n",
    "print(best_params)\n",
    "\n",
    "\n",
    "print(stats1[['Sharpe Ratio', 'Return [%]', '# Trades']])\n",
    "\n",
    "local_SR_OPTI_0 = stats1['Sharpe Ratio']\n",
    "\n",
    "for perm_i in tqdm(range(1, n_permutations+1)):\n",
    "\n",
    "    train_perm = get_permutation(local_df_train)\n",
    "\n",
    "    train_perm_bt = Backtest(train_perm, ARSIstrat, cash=1_000_000, commission=0.0, spread=0.0001, finalize_trades=True) \n",
    "    with io.capture_output():\n",
    "        stats2, _ = train_perm_bt.optimize(\n",
    "            **param_space,\n",
    "            maximize='Sharpe Ratio',\n",
    "            return_heatmap=True,\n",
    "            constraint=_order_ok,\n",
    "            method='sambo',\n",
    "            max_tries=2500,\n",
    "            random_state=42\n",
    "        )\n",
    "\n",
    "    \n",
    "    \n",
    "    best_perm_SR = stats2['Sharpe Ratio']\n",
    "\n",
    "    \n",
    "    if best_perm_SR >= local_SR_OPTI_0:\n",
    "        perm_better_count1 += 1\n",
    "\n",
    "    permuted_SRs.append(best_perm_SR)\n",
    "\n",
    "insample_mcpt_pval = perm_better_count1 / n_permutations\n",
    "\n",
    "\n",
    "\n",
    "\n",
    "print(f\"In-sample MCPT P-Value: {insample_mcpt_pval}\")\n",
    "plt.style.use('dark_background')\n",
    "pd.Series(permuted_SRs).hist(color='blue', label='Permutations')\n",
    "plt.axvline(local_SR_OPTI_0, color='red', label='Real')\n",
    "plt.xlabel(\"Profit Factor\")\n",
    "plt.title(f\"In-sample MCPT. P-Value: {insample_mcpt_pval}\")\n",
    "plt.grid(False)\n",
    "plt.legend()\n",
    "plt.show()"
   ]
  }
 ],
 "metadata": {
  "kernelspec": {
   "display_name": ".venv313 (3.13.6)",
   "language": "python",
   "name": "python3"
  },
  "language_info": {
   "codemirror_mode": {
    "name": "ipython",
    "version": 3
   },
   "file_extension": ".py",
   "mimetype": "text/x-python",
   "name": "python",
   "nbconvert_exporter": "python",
   "pygments_lexer": "ipython3",
   "version": "3.13.6"
  }
 },
 "nbformat": 4,
 "nbformat_minor": 5
}
