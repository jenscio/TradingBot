{
 "cells": [
  {
   "cell_type": "code",
   "execution_count": 16,
   "id": "6d7a48a8",
   "metadata": {},
   "outputs": [],
   "source": [
    "import os\n",
    "import time\n",
    "import math\n",
    "import numpy as np\n",
    "from IPython.utils import io\n",
    "import pandas as pd\n",
    "from tqdm import tqdm\n",
    "from dataclasses import dataclass\n",
    "from typing import List, Union \n",
    "import matplotlib.pyplot as plt\n",
    "import matplotlib\n",
    "from backtesting import Backtest, Strategy\n",
    "from backtesting.lib import crossover\n",
    "import ta\n",
    "import torch\n",
    "import torch.nn as nn"
   ]
  },
  {
   "cell_type": "code",
   "execution_count": 17,
   "id": "404e2af5",
   "metadata": {},
   "outputs": [],
   "source": [
    "from PERMUTATIONS import get_permutation\n",
    "from strategy import ARSIstrat"
   ]
  },
  {
   "cell_type": "code",
   "execution_count": 18,
   "id": "33d74751",
   "metadata": {},
   "outputs": [],
   "source": [
    "def load_data(csv_path: str, start='2018-01-01', end_excl='2024-01-01'):\n",
    "    df = pd.read_csv(csv_path)\n",
    "    df['time'] = pd.to_datetime(df['time'].astype(int), unit='s')\n",
    "    df.set_index('time', inplace=True)\n",
    "    df.sort_index(inplace=True)\n",
    "    df = df.loc[(df.index >= start) & (df.index < end_excl)].copy()\n",
    "    df = df.rename(columns={'open': 'Open', 'high': 'High', 'low': 'Low', 'close': 'Close', 'volume': 'Volume'})\n",
    "    return df"
   ]
  },
  {
   "cell_type": "code",
   "execution_count": 19,
   "id": "e14fb5bb",
   "metadata": {},
   "outputs": [],
   "source": [
    "def make_strat(p):\n",
    "    class Tuned(ARSIstrat):\n",
    "        sl_pct = float(p['sl_pct'])\n",
    "        n_fast = int(p['n_fast'])\n",
    "        n_slow = int(p['n_slow'])\n",
    "        n_vslow = int(p['n_vslow'])\n",
    "        sig_len = int(p['sig_len'])\n",
    "    return Tuned"
   ]
  },
  {
   "cell_type": "code",
   "execution_count": 20,
   "id": "6257ddbc",
   "metadata": {},
   "outputs": [],
   "source": [
    "def run_bt(data: pd.DataFrame, params: dict, spread: float = 0.0001):\n",
    "    Strat = make_strat(params)\n",
    "    bt = Backtest(data, Strat, cash=1_000_000, commission=0.0, spread=spread, finalize_trades=True)\n",
    "    \n",
    "    with io.capture_output():\n",
    "        stats = bt.run()\n",
    "    \n",
    "\n",
    "    sharpe = float(stats.get('Sharpe Ratio', 0.0))\n",
    "    # turnover proxy\n",
    "    trades = int(getattr(stats, '_trades', pd.DataFrame()).shape[0]) if hasattr(stats, '_trades') else 0\n",
    "    days = max(1, (data.index[-1] - data.index[0]).days)\n",
    "    tpd = trades / days\n",
    "    score = sharpe - 0.02 * tpd\n",
    "    return score, tpd, stats"
   ]
  },
  {
   "cell_type": "code",
   "execution_count": 21,
   "id": "1fd0faf2",
   "metadata": {},
   "outputs": [],
   "source": [
    "SPACE = {\n",
    "    'sl_pct': (0.001, 0.02, 'float'),  # 0.1% .. 2%\n",
    "    'n_fast': (5, 25, 'int'),\n",
    "    'n_slow': (10, 55, 'int'),\n",
    "    'n_vslow': (30, 120, 'int'),\n",
    "    'sig_len': (5, 30, 'int'),\n",
    "}\n",
    "ORDER = list(SPACE.keys())\n",
    "\n",
    "\n",
    "def encode(params_dict):\n",
    "    z = []\n",
    "    for k in ORDER:\n",
    "        lo, hi, typ = SPACE[k]\n",
    "        v = float(params_dict[k])\n",
    "        v = (v - lo) / (hi - lo)\n",
    "        z.append(np.clip(v, 0, 1))\n",
    "    return np.array(z, dtype=np.float32)\n",
    "\n",
    "\n",
    "def decode(z):\n",
    "    out = {}\n",
    "    for i, k in enumerate(ORDER):\n",
    "        lo, hi, typ = SPACE[k]\n",
    "        v = lo + float(np.clip(z[i], 0, 1)) * (hi - lo)\n",
    "        if typ == 'int':\n",
    "            v = int(round(v))\n",
    "            v = int(min(max(v, int(lo)), int(hi)))\n",
    "        else:\n",
    "            v = float(v)\n",
    "        out[k] = v\n",
    "    return out\n",
    "\n",
    "\n",
    "def sample_params(n):\n",
    "    Ps = []\n",
    "    for _ in range(n):\n",
    "        d = {}\n",
    "        for k, (lo, hi, typ) in SPACE.items():\n",
    "            if typ == 'int':\n",
    "                d[k] = int(np.random.randint(int(lo), int(hi) + 1))\n",
    "            else:\n",
    "                d[k] = float(np.random.uniform(lo, hi))\n",
    "        Ps.append(d)\n",
    "    return Ps"
   ]
  },
  {
   "cell_type": "code",
   "execution_count": 22,
   "id": "4d10fc33",
   "metadata": {},
   "outputs": [],
   "source": [
    "class Surrogate(nn.Module):\n",
    "    def __init__(self, d, p_dropout=0.15):\n",
    "        super().__init__()\n",
    "        self.net = nn.Sequential(\n",
    "            nn.Linear(d, 64), nn.ReLU(),\n",
    "            nn.Linear(64, 64), nn.ReLU(),\n",
    "            nn.Dropout(p_dropout),\n",
    "            nn.Linear(64, 1)\n",
    "        )\n",
    "\n",
    "    def forward(self, x):\n",
    "        return self.net(x).squeeze(-1)\n",
    "\n",
    "\n",
    "def fit_surrogate(X, y, steps=2000, lr=1e-3, wd=1e-3, val_frac=0.2, patience=200):\n",
    "    from copy import deepcopy\n",
    "    X = np.array(X, dtype=np.float32); y = np.array(y, dtype=np.float32)\n",
    "    n = len(X)\n",
    "    if n < 10:\n",
    "        raise ValueError(\"Need at least 10 samples to fit surrogate\")\n",
    "    idx = np.random.permutation(n)\n",
    "    k = int(n * (1 - val_frac))\n",
    "    tr, va = idx[:k], idx[k:]\n",
    "    Xt = torch.tensor(X[tr]); yt = torch.tensor(y[tr])\n",
    "    Xv = torch.tensor(X[va]); yv = torch.tensor(y[va])\n",
    "\n",
    "    model = Surrogate(X.shape[1])\n",
    "    opt = torch.optim.Adam(model.parameters(), lr=lr, weight_decay=wd)\n",
    "    loss = nn.MSELoss()\n",
    "\n",
    "    best = (1e9, None)\n",
    "    bad = 0\n",
    "    for _ in range(steps):\n",
    "        model.train(); opt.zero_grad()\n",
    "        pred = model(Xt); l = loss(pred, yt); l.backward(); opt.step()\n",
    "        model.eval()\n",
    "        with torch.no_grad():\n",
    "            v = loss(model(Xv), yv).item()\n",
    "            if v < best[0]:\n",
    "                best = (v, deepcopy(model.state_dict())); bad = 0\n",
    "            else:\n",
    "                bad += 1\n",
    "            if bad > patience:\n",
    "                break\n",
    "    model.load_state_dict(best[1])\n",
    "    model.eval()\n",
    "    return model\n",
    "\n",
    "\n",
    "def argmax_on_surrogate(model, starts, iters=400, lr=0.05):\n",
    "    best_z, best_pred = None, -1e9\n",
    "    for z0 in starts:\n",
    "        z = torch.tensor(z0.copy(), dtype=torch.float32, requires_grad=True)\n",
    "        opt = torch.optim.Adam([z], lr=lr)\n",
    "        for _ in range(iters):\n",
    "            opt.zero_grad()\n",
    "            z_c = torch.clamp(z, 0.0, 1.0)\n",
    "            pred = model(z_c)\n",
    "            loss = -pred\n",
    "            loss.backward(); opt.step()\n",
    "        with torch.no_grad():\n",
    "            z_c = torch.clamp(z, 0.0, 1.0)\n",
    "            pred = model(z_c).item()\n",
    "            if pred > best_pred:\n",
    "                best_pred, best_z = pred, z_c.detach().numpy()\n",
    "    return best_z, best_pred"
   ]
  },
  {
   "cell_type": "code",
   "execution_count": 23,
   "id": "b4bfd83c",
   "metadata": {},
   "outputs": [],
   "source": [
    "SPLITS = [\n",
    "    ('2018-01-01', '2020-12-31', '2021-01-01', '2021-06-30'),\n",
    "    ('2018-07-01', '2021-06-30', '2021-07-01', '2021-12-31'),\n",
    "    ('2019-01-01', '2021-12-31', '2022-01-01', '2022-06-30'),\n",
    "    ('2019-07-01', '2022-06-30', '2022-07-01', '2022-12-31'),\n",
    "]\n",
    "\n",
    "\n",
    "def slice_df(df, s, e):\n",
    "    return df.loc[s:e]\n",
    "\n",
    "\n",
    "def robust_validation_score(df_full, p):\n",
    "    sharpes, tpds = [] , []\n",
    "    for (tr_s, tr_e, val_s, val_e) in SPLITS:\n",
    "        train = slice_df(df_full, tr_s, tr_e)\n",
    "        if len(train) > 0:\n",
    "            train = train.iloc[:-5]  # embargo 5 bars\n",
    "        valid = slice_df(df_full, val_s, val_e)\n",
    "        # friction jitter\n",
    "        for sp in [0.00008, 0.0001, 0.00012]:\n",
    "            s, t, _ = run_bt(valid, p, spread=sp)\n",
    "            sharpes.append(s)\n",
    "            tpds.append(t)\n",
    "    sharpes = np.array(sharpes, float)\n",
    "    tpds = np.array(tpds, float)\n",
    "    q25 = float(np.quantile(sharpes, 0.25))\n",
    "    std = float(np.std(sharpes))\n",
    "    tpd = float(np.median(tpds))\n",
    "    return q25 - 0.5 * std - 0.02 * tpd"
   ]
  },
  {
   "cell_type": "code",
   "execution_count": 24,
   "id": "98771663",
   "metadata": {},
   "outputs": [],
   "source": [
    "np.random.seed(42)\n",
    "\n",
    "csv_path = 'BATS_QQQ, 60_a45be.csv'\n",
    "full_df = load_data(csv_path, start='2018-01-01', end_excl='2024-01-01')\n",
    "\n",
    "# Define periods\n",
    "df_train = full_df.loc['2018-01-01':'2021-12-31']\n",
    "df_test = full_df.loc['2023-01-01':'2023-12-31']"
   ]
  },
  {
   "cell_type": "code",
   "execution_count": 25,
   "id": "378a1aa2",
   "metadata": {},
   "outputs": [],
   "source": [
    "def run_model_for_params(ohlc: pd.DataFrame,K : int):\n",
    "    \n",
    "    # 1) \n",
    "    N_INIT = 60\n",
    "    pool = sample_params(N_INIT)\n",
    "    X, y = [], []\n",
    "    t0 = time.perf_counter()\n",
    "    for p in pool:\n",
    "        s_train, _, _ = run_bt(ohlc, p)\n",
    "        X.append(encode(p)); y.append(s_train)\n",
    "    #print(f\"Initial evals: {len(y)} done in {time.perf_counter()-t0:.1f}s. Best train={max(y):.3f}\")\n",
    "\n",
    "    # 2)\n",
    "    N_ROUNDS = 3\n",
    "    TOP_K = 8\n",
    "    N_STARTS = 16\n",
    "    for r in range(N_ROUNDS):\n",
    "        surr = fit_surrogate(X, y, steps=1500, lr=1e-3, wd=1e-3, val_frac=0.2, patience=150)\n",
    "        starts = [np.random.rand(len(ORDER)) for _ in range(N_STARTS - 4)]\n",
    "        # seed from best-so-far\n",
    "        top_idx = np.argsort(y)[-4:]\n",
    "        starts += [X[i] for i in top_idx]\n",
    "        cand = []\n",
    "        for z0 in starts:\n",
    "            z_star, _ = argmax_on_surrogate(surr, [z0], iters=250, lr=0.05)\n",
    "            cand.append(z_star)\n",
    "        # dedupe\n",
    "        uniq = []\n",
    "        for z in cand:\n",
    "            if all(np.linalg.norm(z - u) > 0.05 for u in uniq):\n",
    "                uniq.append(z)\n",
    "        preds = surr(torch.tensor(np.array(uniq), dtype=torch.float32)).detach().numpy()\n",
    "        order = np.argsort(preds)[::-1][:TOP_K]\n",
    "        added = 0\n",
    "        for idx in order:\n",
    "            p = decode(uniq[idx])\n",
    "            s_train, _, _ = run_bt(df_train, p)\n",
    "            X.append(encode(p)); y.append(s_train)\n",
    "            added += 1\n",
    "        #print(f\"Round {r+1}: added {added}, best train={max(y):.3f}\")\n",
    "\n",
    "    # 3)\n",
    "    candidates = [decode(x) for x in X]\n",
    "    val_scores = []\n",
    "    for p in candidates:\n",
    "        vs = robust_validation_score(full_df, p)\n",
    "        val_scores.append(vs)\n",
    "    idxs = np.argsort(val_scores)[::-1]\n",
    "    K_FINAL = K\n",
    "    finalists = [candidates[i] for i in idxs[:K_FINAL]]\n",
    "    scores = [val_scores[i] for i in idxs[:K_FINAL]]\n",
    "    #print(\"Top finalists by robust validation:\")\n",
    "    #for i, p in enumerate(finalists, 1):\n",
    "        #print(f\"{i}. {p} | robust_score={val_scores[idxs[i-1]]:.3f}\")\n",
    "    return finalists, scores\n",
    "\n",
    "        "
   ]
  },
  {
   "cell_type": "code",
   "execution_count": 26,
   "id": "bebb4840",
   "metadata": {},
   "outputs": [],
   "source": [
    "def winner_SR(ohlc: pd.DataFrame):\n",
    "    _, best_SR = run_model_for_params(ohlc,1)\n",
    "    return best_SR"
   ]
  },
  {
   "cell_type": "code",
   "execution_count": 27,
   "id": "aa0963aa",
   "metadata": {},
   "outputs": [],
   "source": [
    "best_finalists, best_SRs = run_model_for_params(df_train, 25)"
   ]
  },
  {
   "cell_type": "code",
   "execution_count": 28,
   "id": "e2059f78",
   "metadata": {},
   "outputs": [
    {
     "name": "stdout",
     "output_type": "stream",
     "text": [
      "[{'sl_pct': 0.004858163237571716, 'n_fast': 17, 'n_slow': 41, 'n_vslow': 100, 'sig_len': 23}, {'sl_pct': 0.004397631511092186, 'n_fast': 12, 'n_slow': 16, 'n_vslow': 96, 'sig_len': 21}, {'sl_pct': 0.0017682381980121135, 'n_fast': 19, 'n_slow': 24, 'n_vslow': 119, 'sig_len': 14}, {'sl_pct': 0.004972360804677009, 'n_fast': 14, 'n_slow': 44, 'n_vslow': 36, 'sig_len': 20}, {'sl_pct': 0.00406320433318615, 'n_fast': 6, 'n_slow': 51, 'n_vslow': 74, 'sig_len': 29}, {'sl_pct': 0.004128461137413979, 'n_fast': 13, 'n_slow': 46, 'n_vslow': 80, 'sig_len': 14}, {'sl_pct': 0.0026813575997948645, 'n_fast': 12, 'n_slow': 30, 'n_vslow': 109, 'sig_len': 17}, {'sl_pct': 0.003964354246854782, 'n_fast': 23, 'n_slow': 32, 'n_vslow': 104, 'sig_len': 15}, {'sl_pct': 0.007162555426359176, 'n_fast': 11, 'n_slow': 42, 'n_vslow': 30, 'sig_len': 29}, {'sl_pct': 0.0042399582862854, 'n_fast': 11, 'n_slow': 27, 'n_vslow': 33, 'sig_len': 29}, {'sl_pct': 0.004342579841613769, 'n_fast': 8, 'n_slow': 42, 'n_vslow': 43, 'sig_len': 25}, {'sl_pct': 0.008116262286901474, 'n_fast': 19, 'n_slow': 52, 'n_vslow': 101, 'sig_len': 25}, {'sl_pct': 0.006155631810426712, 'n_fast': 25, 'n_slow': 33, 'n_vslow': 55, 'sig_len': 29}, {'sl_pct': 0.0030043909549713134, 'n_fast': 16, 'n_slow': 53, 'n_vslow': 113, 'sig_len': 15}, {'sl_pct': 0.001886647630482912, 'n_fast': 20, 'n_slow': 24, 'n_vslow': 91, 'sig_len': 19}, {'sl_pct': 0.005147058442234993, 'n_fast': 7, 'n_slow': 55, 'n_vslow': 61, 'sig_len': 5}, {'sl_pct': 0.004775598049163818, 'n_fast': 15, 'n_slow': 26, 'n_vslow': 37, 'sig_len': 7}, {'sl_pct': 0.0016533818766474723, 'n_fast': 18, 'n_slow': 26, 'n_vslow': 65, 'sig_len': 22}, {'sl_pct': 0.00559905007481575, 'n_fast': 8, 'n_slow': 20, 'n_vslow': 85, 'sig_len': 21}, {'sl_pct': 0.001, 'n_fast': 25, 'n_slow': 10, 'n_vslow': 51, 'sig_len': 30}, {'sl_pct': 0.0038434452712535856, 'n_fast': 5, 'n_slow': 10, 'n_vslow': 115, 'sig_len': 30}, {'sl_pct': 0.004070945456624031, 'n_fast': 10, 'n_slow': 49, 'n_vslow': 113, 'sig_len': 7}, {'sl_pct': 0.008073372691869736, 'n_fast': 7, 'n_slow': 34, 'n_vslow': 47, 'sig_len': 18}, {'sl_pct': 0.0013151687551289798, 'n_fast': 7, 'n_slow': 28, 'n_vslow': 49, 'sig_len': 11}, {'sl_pct': 0.00741468808054924, 'n_fast': 19, 'n_slow': 41, 'n_vslow': 117, 'sig_len': 13}]\n",
      "[0.6074807158937355, 0.011410083125403972, -0.20873972994311005, -0.3367759962358928, -0.34234254473065895, -0.4121660084952864, -0.5303127936617757, -0.5634543241333324, -0.5668959724536655, -0.6557572398889485, -0.6689510259537645, -0.6986987082552274, -0.7518237172595231, -0.7567973862658484, -0.7805837191053991, -0.8037048346239144, -0.8406622753925566, -0.858339409708112, -0.9295856583787607, -0.968722110395492, -0.9767470795083772, -0.9882777948967129, -0.9890329074682411, -1.0272791744348009, -1.048884821142863]\n"
     ]
    }
   ],
   "source": [
    "print(best_finalists)\n",
    "print(best_SRs)"
   ]
  },
  {
   "cell_type": "code",
   "execution_count": 29,
   "id": "76f025ab",
   "metadata": {},
   "outputs": [
    {
     "name": "stdout",
     "output_type": "stream",
     "text": [
      "In-sample Robust Sarpe Ratio :  0.6074807158937355 ,  Best n_fast :  17 ,  Best n_slow :  41 ,  Best n_vslow :  100 ,  Best stop loss   0.004858163237571716 ,  Best Signal lenght :  23\n"
     ]
    }
   ],
   "source": [
    "SR_OPTI_0 = best_SRs[0]\n",
    "PARAM_OPTI_0 = best_finalists[0]\n",
    "SL_0 = PARAM_OPTI_0['sl_pct']\n",
    "N_Fast = PARAM_OPTI_0['n_fast']\n",
    "N_Slow = PARAM_OPTI_0['n_slow']\n",
    "N_VSlow = PARAM_OPTI_0['n_vslow']\n",
    "S_Lenght = PARAM_OPTI_0['sig_len']\n",
    "print(\"In-sample Robust Sarpe Ratio : \", SR_OPTI_0, \",  Best n_fast : \", N_Fast, \",  Best n_slow : \", N_Slow, \",  Best n_vslow : \", N_VSlow, \",  Best stop loss  \", SL_0, \",  Best Signal lenght : \", S_Lenght)\n"
   ]
  },
  {
   "cell_type": "code",
   "execution_count": null,
   "id": "562961b4",
   "metadata": {},
   "outputs": [
    {
     "name": "stdout",
     "output_type": "stream",
     "text": [
      "In-Sample MCPT\n"
     ]
    },
    {
     "name": "stderr",
     "output_type": "stream",
     "text": [
      "  2%|▏         | 17/999 [09:54<10:11:56, 37.39s/it]"
     ]
    }
   ],
   "source": [
    "n_permutations = 1000\n",
    "perm_better_count = 1\n",
    "permuted_SRs = []\n",
    "print(\"In-Sample MCPT\")\n",
    "\n",
    "local_df_train = df_train.copy()\n",
    "local_SR_OPTI_0 = SR_OPTI_0\n",
    "\n",
    "\n",
    "for perm_i in tqdm(range(1, n_permutations)):\n",
    "\n",
    "    train_perm = get_permutation(local_df_train)\n",
    "    best_perm_SR = float(winner_SR(train_perm)[0])\n",
    "    \n",
    "    if best_perm_SR >= local_SR_OPTI_0:\n",
    "        perm_better_count += 1\n",
    "\n",
    "    permuted_SRs.append(best_perm_SR)\n",
    "\n",
    "insample_mcpt_pval = perm_better_count / n_permutations\n",
    "print(f\"In-sample MCPT P-Value: {insample_mcpt_pval}\")\n",
    "plt.style.use('dark_background')\n",
    "pd.Series(permuted_SRs).hist(color='blue', label='Permutations')\n",
    "plt.axvline(local_SR_OPTI_0, color='red', label='Real')\n",
    "plt.xlabel(\"Profit Factor\")\n",
    "plt.title(f\"In-sample MCPT. P-Value: {insample_mcpt_pval}\")\n",
    "plt.grid(False)\n",
    "plt.legend()\n",
    "plt.show()"
   ]
  },
  {
   "cell_type": "code",
   "execution_count": null,
   "id": "b8baea2b",
   "metadata": {},
   "outputs": [],
   "source": []
  },
  {
   "cell_type": "code",
   "execution_count": null,
   "id": "435e8f95",
   "metadata": {},
   "outputs": [],
   "source": []
  },
  {
   "cell_type": "code",
   "execution_count": null,
   "id": "0333ec2f",
   "metadata": {},
   "outputs": [],
   "source": []
  },
  {
   "cell_type": "code",
   "execution_count": null,
   "id": "7cf4904a",
   "metadata": {},
   "outputs": [],
   "source": []
  },
  {
   "cell_type": "code",
   "execution_count": null,
   "id": "e0d6b62b",
   "metadata": {},
   "outputs": [],
   "source": []
  },
  {
   "cell_type": "code",
   "execution_count": null,
   "id": "2030b34a",
   "metadata": {},
   "outputs": [],
   "source": []
  },
  {
   "cell_type": "code",
   "execution_count": null,
   "id": "0a61f97d",
   "metadata": {},
   "outputs": [],
   "source": []
  },
  {
   "cell_type": "code",
   "execution_count": null,
   "id": "326c1bd9",
   "metadata": {},
   "outputs": [],
   "source": []
  },
  {
   "cell_type": "code",
   "execution_count": null,
   "id": "dd7c09b2",
   "metadata": {},
   "outputs": [],
   "source": [
    "# 5) Final untouched test on 2023\n",
    "test_score, _, test_stats = run_bt(df_test, insample_mcpt_pval)\n",
    "print(\"\\n=== Final Test (2023) ===\")\n",
    "print(f\"Test score (Sharpe-penalty): {test_score:.3f}\")\n",
    "print(test_stats)"
   ]
  }
 ],
 "metadata": {
  "kernelspec": {
   "display_name": ".venv313 (3.13.6)",
   "language": "python",
   "name": "python3"
  },
  "language_info": {
   "codemirror_mode": {
    "name": "ipython",
    "version": 3
   },
   "file_extension": ".py",
   "mimetype": "text/x-python",
   "name": "python",
   "nbconvert_exporter": "python",
   "pygments_lexer": "ipython3",
   "version": "3.13.6"
  }
 },
 "nbformat": 4,
 "nbformat_minor": 5
}
