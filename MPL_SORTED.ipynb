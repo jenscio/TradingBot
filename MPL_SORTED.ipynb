{
 "cells": [
  {
   "cell_type": "code",
   "execution_count": 1,
   "id": "6d7a48a8",
   "metadata": {},
   "outputs": [
    {
     "name": "stderr",
     "output_type": "stream",
     "text": [
      "/Users/matteogiori/trycloneinsider/TradingBot/.venv313/lib/python3.13/site-packages/backtesting/_plotting.py:55: UserWarning: Jupyter Notebook detected. Setting Bokeh output to notebook. This may not work in Jupyter clients without JavaScript support, such as old IDEs. Reset with `backtesting.set_bokeh_output(notebook=False)`.\n",
      "  warnings.warn('Jupyter Notebook detected. '\n"
     ]
    },
    {
     "data": {
      "text/html": [
       "    <style>\n",
       "        .bk-notebook-logo {\n",
       "            display: block;\n",
       "            width: 20px;\n",
       "            height: 20px;\n",
       "            background-image: url(data:image/png;base64,iVBORw0KGgoAAAANSUhEUgAAABQAAAAUCAYAAACNiR0NAAAABHNCSVQICAgIfAhkiAAAAAlwSFlzAAALEgAACxIB0t1+/AAAABx0RVh0U29mdHdhcmUAQWRvYmUgRmlyZXdvcmtzIENTNui8sowAAAOkSURBVDiNjZRtaJVlGMd/1/08zzln5zjP1LWcU9N0NkN8m2CYjpgQYQXqSs0I84OLIC0hkEKoPtiH3gmKoiJDU7QpLgoLjLIQCpEsNJ1vqUOdO7ppbuec5+V+rj4ctwzd8IIbbi6u+8f1539dt3A78eXC7QizUF7gyV1fD1Yqg4JWz84yffhm0qkFqBogB9rM8tZdtwVsPUhWhGcFJngGeWrPzHm5oaMmkfEg1usvLFyc8jLRqDOMru7AyC8saQr7GG7f5fvDeH7Ej8CM66nIF+8yngt6HWaKh7k49Soy9nXurCi1o3qUbS3zWfrYeQDTB/Qj6kX6Ybhw4B+bOYoLKCC9H3Nu/leUTZ1JdRWkkn2ldcCamzrcf47KKXdAJllSlxAOkRgyHsGC/zRday5Qld9DyoM4/q/rUoy/CXh3jzOu3bHUVZeU+DEn8FInkPBFlu3+nW3Nw0mk6vCDiWg8CeJaxEwuHS3+z5RgY+YBR6V1Z1nxSOfoaPa4LASWxxdNp+VWTk7+4vzaou8v8PN+xo+KY2xsw6une2frhw05CTYOmQvsEhjhWjn0bmXPjpE1+kplmmkP3suftwTubK9Vq22qKmrBhpY4jvd5afdRA3wGjFAgcnTK2s4hY0/GPNIb0nErGMCRxWOOX64Z8RAC4oCXdklmEvcL8o0BfkNK4lUg9HTl+oPlQxdNo3Mg4Nv175e/1LDGzZen30MEjRUtmXSfiTVu1kK8W4txyV6BMKlbgk3lMwYCiusNy9fVfvvwMxv8Ynl6vxoByANLTWplvuj/nF9m2+PDtt1eiHPBr1oIfhCChQMBw6Aw0UulqTKZdfVvfG7VcfIqLG9bcldL/+pdWTLxLUy8Qq38heUIjh4XlzZxzQm19lLFlr8vdQ97rjZVOLf8nclzckbcD4wxXMidpX30sFd37Fv/GtwwhzhxGVAprjbg0gCAEeIgwCZyTV2Z1REEW8O4py0wsjeloKoMr6iCY6dP92H6Vw/oTyICIthibxjm/DfN9lVz8IqtqKYLUXfoKVMVQVVJOElGjrnnUt9T9wbgp8AyYKaGlqingHZU/uG2NTZSVqwHQTWkx9hxjkpWDaCg6Ckj5qebgBVbT3V3NNXMSiWSDdGV3hrtzla7J+duwPOToIg42ChPQOQjspnSlp1V+Gjdged7+8UN5CRAV7a5EdFNwCjEaBR27b3W890TE7g24NAP/mMDXRWrGoFPQI9ls/MWO2dWFAar/xcOIImbbpA3zgAAAABJRU5ErkJggg==);\n",
       "        }\n",
       "    </style>\n",
       "    <div>\n",
       "        <a href=\"https://bokeh.org\" target=\"_blank\" class=\"bk-notebook-logo\"></a>\n",
       "        <span id=\"b55a659e-e15a-43d5-9cd4-2de065cdcc24\">Loading BokehJS ...</span>\n",
       "    </div>\n"
      ]
     },
     "metadata": {},
     "output_type": "display_data"
    },
    {
     "data": {
      "application/javascript": "'use strict';\n(function(root) {\n  function now() {\n    return new Date();\n  }\n\n  const force = true;\n\n  if (typeof root._bokeh_onload_callbacks === \"undefined\" || force === true) {\n    root._bokeh_onload_callbacks = [];\n    root._bokeh_is_loading = undefined;\n  }\n\nconst JS_MIME_TYPE = 'application/javascript';\n  const HTML_MIME_TYPE = 'text/html';\n  const EXEC_MIME_TYPE = 'application/vnd.bokehjs_exec.v0+json';\n  const CLASS_NAME = 'output_bokeh rendered_html';\n\n  /**\n   * Render data to the DOM node\n   */\n  function render(props, node) {\n    const script = document.createElement(\"script\");\n    node.appendChild(script);\n  }\n\n  /**\n   * Handle when an output is cleared or removed\n   */\n  function handleClearOutput(event, handle) {\n    function drop(id) {\n      const view = Bokeh.index.get_by_id(id)\n      if (view != null) {\n        view.model.document.clear()\n        Bokeh.index.delete(view)\n      }\n    }\n\n    const cell = handle.cell;\n\n    const id = cell.output_area._bokeh_element_id;\n    const server_id = cell.output_area._bokeh_server_id;\n\n    // Clean up Bokeh references\n    if (id != null) {\n      drop(id)\n    }\n\n    if (server_id !== undefined) {\n      // Clean up Bokeh references\n      const cmd_clean = \"from bokeh.io.state import curstate; print(curstate().uuid_to_server['\" + server_id + \"'].get_sessions()[0].document.roots[0]._id)\";\n      cell.notebook.kernel.execute(cmd_clean, {\n        iopub: {\n          output: function(msg) {\n            const id = msg.content.text.trim()\n            drop(id)\n          }\n        }\n      });\n      // Destroy server and session\n      const cmd_destroy = \"import bokeh.io.notebook as ion; ion.destroy_server('\" + server_id + \"')\";\n      cell.notebook.kernel.execute(cmd_destroy);\n    }\n  }\n\n  /**\n   * Handle when a new output is added\n   */\n  function handleAddOutput(event, handle) {\n    const output_area = handle.output_area;\n    const output = handle.output;\n\n    // limit handleAddOutput to display_data with EXEC_MIME_TYPE content only\n    if ((output.output_type != \"display_data\") || (!Object.prototype.hasOwnProperty.call(output.data, EXEC_MIME_TYPE))) {\n      return\n    }\n\n    const toinsert = output_area.element.find(\".\" + CLASS_NAME.split(' ')[0]);\n\n    if (output.metadata[EXEC_MIME_TYPE][\"id\"] !== undefined) {\n      toinsert[toinsert.length - 1].firstChild.textContent = output.data[JS_MIME_TYPE];\n      // store reference to embed id on output_area\n      output_area._bokeh_element_id = output.metadata[EXEC_MIME_TYPE][\"id\"];\n    }\n    if (output.metadata[EXEC_MIME_TYPE][\"server_id\"] !== undefined) {\n      const bk_div = document.createElement(\"div\");\n      bk_div.innerHTML = output.data[HTML_MIME_TYPE];\n      const script_attrs = bk_div.children[0].attributes;\n      for (let i = 0; i < script_attrs.length; i++) {\n        toinsert[toinsert.length - 1].firstChild.setAttribute(script_attrs[i].name, script_attrs[i].value);\n        toinsert[toinsert.length - 1].firstChild.textContent = bk_div.children[0].textContent\n      }\n      // store reference to server id on output_area\n      output_area._bokeh_server_id = output.metadata[EXEC_MIME_TYPE][\"server_id\"];\n    }\n  }\n\n  function register_renderer(events, OutputArea) {\n\n    function append_mime(data, metadata, element) {\n      // create a DOM node to render to\n      const toinsert = this.create_output_subarea(\n        metadata,\n        CLASS_NAME,\n        EXEC_MIME_TYPE\n      );\n      this.keyboard_manager.register_events(toinsert);\n      // Render to node\n      const props = {data: data, metadata: metadata[EXEC_MIME_TYPE]};\n      render(props, toinsert[toinsert.length - 1]);\n      element.append(toinsert);\n      return toinsert\n    }\n\n    /* Handle when an output is cleared or removed */\n    events.on('clear_output.CodeCell', handleClearOutput);\n    events.on('delete.Cell', handleClearOutput);\n\n    /* Handle when a new output is added */\n    events.on('output_added.OutputArea', handleAddOutput);\n\n    /**\n     * Register the mime type and append_mime function with output_area\n     */\n    OutputArea.prototype.register_mime_type(EXEC_MIME_TYPE, append_mime, {\n      /* Is output safe? */\n      safe: true,\n      /* Index of renderer in `output_area.display_order` */\n      index: 0\n    });\n  }\n\n  // register the mime type if in Jupyter Notebook environment and previously unregistered\n  if (root.Jupyter !== undefined) {\n    const events = require('base/js/events');\n    const OutputArea = require('notebook/js/outputarea').OutputArea;\n\n    if (OutputArea.prototype.mime_types().indexOf(EXEC_MIME_TYPE) == -1) {\n      register_renderer(events, OutputArea);\n    }\n  }\n  if (typeof (root._bokeh_timeout) === \"undefined\" || force === true) {\n    root._bokeh_timeout = Date.now() + 5000;\n    root._bokeh_failed_load = false;\n  }\n\n  const NB_LOAD_WARNING = {'data': {'text/html':\n     \"<div style='background-color: #fdd'>\\n\"+\n     \"<p>\\n\"+\n     \"BokehJS does not appear to have successfully loaded. If loading BokehJS from CDN, this \\n\"+\n     \"may be due to a slow or bad network connection. Possible fixes:\\n\"+\n     \"</p>\\n\"+\n     \"<ul>\\n\"+\n     \"<li>re-rerun `output_notebook()` to attempt to load from CDN again, or</li>\\n\"+\n     \"<li>use INLINE resources instead, as so:</li>\\n\"+\n     \"</ul>\\n\"+\n     \"<code>\\n\"+\n     \"from bokeh.resources import INLINE\\n\"+\n     \"output_notebook(resources=INLINE)\\n\"+\n     \"</code>\\n\"+\n     \"</div>\"}};\n\n  function display_loaded(error = null) {\n    const el = document.getElementById(\"b55a659e-e15a-43d5-9cd4-2de065cdcc24\");\n    if (el != null) {\n      const html = (() => {\n        if (typeof root.Bokeh === \"undefined\") {\n          if (error == null) {\n            return \"BokehJS is loading ...\";\n          } else {\n            return \"BokehJS failed to load.\";\n          }\n        } else {\n          const prefix = `BokehJS ${root.Bokeh.version}`;\n          if (error == null) {\n            return `${prefix} successfully loaded.`;\n          } else {\n            return `${prefix} <b>encountered errors</b> while loading and may not function as expected.`;\n          }\n        }\n      })();\n      el.innerHTML = html;\n\n      if (error != null) {\n        const wrapper = document.createElement(\"div\");\n        wrapper.style.overflow = \"auto\";\n        wrapper.style.height = \"5em\";\n        wrapper.style.resize = \"vertical\";\n        const content = document.createElement(\"div\");\n        content.style.fontFamily = \"monospace\";\n        content.style.whiteSpace = \"pre-wrap\";\n        content.style.backgroundColor = \"rgb(255, 221, 221)\";\n        content.textContent = error.stack ?? error.toString();\n        wrapper.append(content);\n        el.append(wrapper);\n      }\n    } else if (Date.now() < root._bokeh_timeout) {\n      setTimeout(() => display_loaded(error), 100);\n    }\n  }\n\n  function run_callbacks() {\n    try {\n      root._bokeh_onload_callbacks.forEach(function(callback) {\n        if (callback != null)\n          callback();\n      });\n    } finally {\n      delete root._bokeh_onload_callbacks\n    }\n    console.debug(\"Bokeh: all callbacks have finished\");\n  }\n\n  function load_libs(css_urls, js_urls, callback) {\n    if (css_urls == null) css_urls = [];\n    if (js_urls == null) js_urls = [];\n\n    root._bokeh_onload_callbacks.push(callback);\n    if (root._bokeh_is_loading > 0) {\n      console.debug(\"Bokeh: BokehJS is being loaded, scheduling callback at\", now());\n      return null;\n    }\n    if (js_urls == null || js_urls.length === 0) {\n      run_callbacks();\n      return null;\n    }\n    console.debug(\"Bokeh: BokehJS not loaded, scheduling load and callback at\", now());\n    root._bokeh_is_loading = css_urls.length + js_urls.length;\n\n    function on_load() {\n      root._bokeh_is_loading--;\n      if (root._bokeh_is_loading === 0) {\n        console.debug(\"Bokeh: all BokehJS libraries/stylesheets loaded\");\n        run_callbacks()\n      }\n    }\n\n    function on_error(url) {\n      console.error(\"failed to load \" + url);\n    }\n\n    for (let i = 0; i < css_urls.length; i++) {\n      const url = css_urls[i];\n      const element = document.createElement(\"link\");\n      element.onload = on_load;\n      element.onerror = on_error.bind(null, url);\n      element.rel = \"stylesheet\";\n      element.type = \"text/css\";\n      element.href = url;\n      console.debug(\"Bokeh: injecting link tag for BokehJS stylesheet: \", url);\n      document.body.appendChild(element);\n    }\n\n    for (let i = 0; i < js_urls.length; i++) {\n      const url = js_urls[i];\n      const element = document.createElement('script');\n      element.onload = on_load;\n      element.onerror = on_error.bind(null, url);\n      element.async = false;\n      element.src = url;\n      console.debug(\"Bokeh: injecting script tag for BokehJS library: \", url);\n      document.head.appendChild(element);\n    }\n  };\n\n  function inject_raw_css(css) {\n    const element = document.createElement(\"style\");\n    element.appendChild(document.createTextNode(css));\n    document.body.appendChild(element);\n  }\n\n  const js_urls = [\"https://cdn.bokeh.org/bokeh/release/bokeh-3.7.3.min.js\", \"https://cdn.bokeh.org/bokeh/release/bokeh-gl-3.7.3.min.js\", \"https://cdn.bokeh.org/bokeh/release/bokeh-widgets-3.7.3.min.js\", \"https://cdn.bokeh.org/bokeh/release/bokeh-tables-3.7.3.min.js\", \"https://cdn.bokeh.org/bokeh/release/bokeh-mathjax-3.7.3.min.js\"];\n  const css_urls = [];\n\n  const inline_js = [    function(Bokeh) {\n      Bokeh.set_log_level(\"info\");\n    },\nfunction(Bokeh) {\n    }\n  ];\n\n  function run_inline_js() {\n    if (root.Bokeh !== undefined || force === true) {\n      try {\n            for (let i = 0; i < inline_js.length; i++) {\n      inline_js[i].call(root, root.Bokeh);\n    }\n\n      } catch (error) {display_loaded(error);throw error;\n      }if (force === true) {\n        display_loaded();\n      }} else if (Date.now() < root._bokeh_timeout) {\n      setTimeout(run_inline_js, 100);\n    } else if (!root._bokeh_failed_load) {\n      console.log(\"Bokeh: BokehJS failed to load within specified timeout.\");\n      root._bokeh_failed_load = true;\n    } else if (force !== true) {\n      const cell = $(document.getElementById(\"b55a659e-e15a-43d5-9cd4-2de065cdcc24\")).parents('.cell').data().cell;\n      cell.output_area.append_execute_result(NB_LOAD_WARNING)\n    }\n  }\n\n  if (root._bokeh_is_loading === 0) {\n    console.debug(\"Bokeh: BokehJS loaded, going straight to plotting\");\n    run_inline_js();\n  } else {\n    load_libs(css_urls, js_urls, function() {\n      console.debug(\"Bokeh: BokehJS plotting callback run at\", now());\n      run_inline_js();\n    });\n  }\n}(window));",
      "application/vnd.bokehjs_load.v0+json": ""
     },
     "metadata": {},
     "output_type": "display_data"
    }
   ],
   "source": [
    "import os\n",
    "import time\n",
    "import math\n",
    "import numpy as np\n",
    "from IPython.utils import io\n",
    "import pandas as pd\n",
    "from tqdm import tqdm\n",
    "from dataclasses import dataclass\n",
    "from typing import List, Union \n",
    "import matplotlib.pyplot as plt\n",
    "import matplotlib\n",
    "from backtesting import Backtest, Strategy\n",
    "from backtesting.lib import crossover\n",
    "import ta\n",
    "import torch\n",
    "import torch.nn as nn"
   ]
  },
  {
   "cell_type": "code",
   "execution_count": 2,
   "id": "404e2af5",
   "metadata": {},
   "outputs": [
    {
     "name": "stdout",
     "output_type": "stream",
     "text": [
      "                       Open    High      Low    Close  Volume\n",
      "time                                                         \n",
      "2018-01-02 14:30:00  156.50  157.88  156.170  157.840  875636\n",
      "2018-01-02 15:30:00  157.85  158.15  157.630  158.000  424637\n",
      "2018-01-02 16:30:00  158.01  158.06  157.895  157.990  161584\n",
      "2018-01-02 17:30:00  157.98  158.10  157.900  158.080  131613\n",
      "2018-01-02 18:30:00  158.08  158.33  158.070  158.265  251044\n"
     ]
    }
   ],
   "source": [
    "from PERMUTATIONS import get_permutation\n",
    "from strategy import ARSIstrat"
   ]
  },
  {
   "cell_type": "code",
   "execution_count": 3,
   "id": "33d74751",
   "metadata": {},
   "outputs": [],
   "source": [
    "def load_data(csv_path: str, start='2018-01-01', end_excl='2024-01-01'):\n",
    "    df = pd.read_csv(csv_path)\n",
    "    df['time'] = pd.to_datetime(df['time'].astype(int), unit='s')\n",
    "    df.set_index('time', inplace=True)\n",
    "    df.sort_index(inplace=True)\n",
    "    df = df.loc[(df.index >= start) & (df.index < end_excl)].copy()\n",
    "    df = df.rename(columns={'open': 'Open', 'high': 'High', 'low': 'Low', 'close': 'Close', 'volume': 'Volume'})\n",
    "    return df"
   ]
  },
  {
   "cell_type": "code",
   "execution_count": 4,
   "id": "e14fb5bb",
   "metadata": {},
   "outputs": [],
   "source": [
    "def make_strat(p):\n",
    "    class Tuned(ARSIstrat):\n",
    "        sl_pct = float(p['sl_pct'])\n",
    "        n_fast = int(p['n_fast'])\n",
    "        n_slow = int(p['n_slow'])\n",
    "        n_vslow = int(p['n_vslow'])\n",
    "        sig_len = int(p['sig_len'])\n",
    "    return Tuned"
   ]
  },
  {
   "cell_type": "code",
   "execution_count": 5,
   "id": "6257ddbc",
   "metadata": {},
   "outputs": [],
   "source": [
    "def run_bt(data: pd.DataFrame, params: dict, spread: float = 0.0001):\n",
    "    Strat = make_strat(params)\n",
    "    bt = Backtest(data, Strat, cash=1_000_000, commission=0.0, spread=spread, finalize_trades=True)\n",
    "    \n",
    "    with io.capture_output():\n",
    "        stats = bt.run()\n",
    "    \n",
    "\n",
    "    sharpe = float(stats.get('Sharpe Ratio', 0.0))\n",
    "    # turnover proxy\n",
    "    trades = int(getattr(stats, '_trades', pd.DataFrame()).shape[0]) if hasattr(stats, '_trades') else 0\n",
    "    days = max(1, (data.index[-1] - data.index[0]).days)\n",
    "    tpd = trades / days\n",
    "    score = sharpe - 0.02 * tpd\n",
    "    return score, tpd, stats"
   ]
  },
  {
   "cell_type": "code",
   "execution_count": 6,
   "id": "1fd0faf2",
   "metadata": {},
   "outputs": [],
   "source": [
    "SPACE = {\n",
    "    'sl_pct': (0.001, 0.02, 'float'),  # 0.1% .. 2%\n",
    "    'n_fast': (5, 25, 'int'),\n",
    "    'n_slow': (10, 55, 'int'),\n",
    "    'n_vslow': (30, 120, 'int'),\n",
    "    'sig_len': (5, 30, 'int'),\n",
    "}\n",
    "ORDER = list(SPACE.keys())\n",
    "\n",
    "\n",
    "def encode(params_dict):\n",
    "    z = []\n",
    "    for k in ORDER:\n",
    "        lo, hi, typ = SPACE[k]\n",
    "        v = float(params_dict[k])\n",
    "        v = (v - lo) / (hi - lo)\n",
    "        z.append(np.clip(v, 0, 1))\n",
    "    return np.array(z, dtype=np.float32)\n",
    "\n",
    "\n",
    "def decode(z):\n",
    "    out = {}\n",
    "    for i, k in enumerate(ORDER):\n",
    "        lo, hi, typ = SPACE[k]\n",
    "        v = lo + float(np.clip(z[i], 0, 1)) * (hi - lo)\n",
    "        if typ == 'int':\n",
    "            v = int(round(v))\n",
    "            v = int(min(max(v, int(lo)), int(hi)))\n",
    "        else:\n",
    "            v = float(v)\n",
    "        out[k] = v\n",
    "    return out\n",
    "\n",
    "\n",
    "def sample_params(n):\n",
    "    Ps = []\n",
    "    for _ in range(n):\n",
    "        d = {}\n",
    "        for k, (lo, hi, typ) in SPACE.items():\n",
    "            if typ == 'int':\n",
    "                d[k] = int(np.random.randint(int(lo), int(hi) + 1))\n",
    "            else:\n",
    "                d[k] = float(np.random.uniform(lo, hi))\n",
    "        Ps.append(d)\n",
    "    return Ps"
   ]
  },
  {
   "cell_type": "code",
   "execution_count": 7,
   "id": "4d10fc33",
   "metadata": {},
   "outputs": [],
   "source": [
    "class Surrogate(nn.Module):\n",
    "    def __init__(self, d, p_dropout=0.15):\n",
    "        super().__init__()\n",
    "        self.net = nn.Sequential(\n",
    "            nn.Linear(d, 64), nn.ReLU(),\n",
    "            nn.Linear(64, 64), nn.ReLU(),\n",
    "            nn.Dropout(p_dropout),\n",
    "            nn.Linear(64, 1)\n",
    "        )\n",
    "\n",
    "    def forward(self, x):\n",
    "        return self.net(x).squeeze(-1)\n",
    "\n",
    "\n",
    "def fit_surrogate(X, y, steps=2000, lr=1e-3, wd=1e-3, val_frac=0.2, patience=200):\n",
    "    from copy import deepcopy\n",
    "    X = np.array(X, dtype=np.float32); y = np.array(y, dtype=np.float32)\n",
    "    n = len(X)\n",
    "    if n < 10:\n",
    "        raise ValueError(\"Need at least 10 samples to fit surrogate\")\n",
    "    idx = np.random.permutation(n)\n",
    "    k = int(n * (1 - val_frac))\n",
    "    tr, va = idx[:k], idx[k:]\n",
    "    Xt = torch.tensor(X[tr]); yt = torch.tensor(y[tr])\n",
    "    Xv = torch.tensor(X[va]); yv = torch.tensor(y[va])\n",
    "\n",
    "    model = Surrogate(X.shape[1])\n",
    "    opt = torch.optim.Adam(model.parameters(), lr=lr, weight_decay=wd)\n",
    "    loss = nn.MSELoss()\n",
    "\n",
    "    best = (1e9, None)\n",
    "    bad = 0\n",
    "    for _ in range(steps):\n",
    "        model.train(); opt.zero_grad()\n",
    "        pred = model(Xt); l = loss(pred, yt); l.backward(); opt.step()\n",
    "        model.eval()\n",
    "        with torch.no_grad():\n",
    "            v = loss(model(Xv), yv).item()\n",
    "            if v < best[0]:\n",
    "                best = (v, deepcopy(model.state_dict())); bad = 0\n",
    "            else:\n",
    "                bad += 1\n",
    "            if bad > patience:\n",
    "                break\n",
    "    model.load_state_dict(best[1])\n",
    "    model.eval()\n",
    "    return model\n",
    "\n",
    "\n",
    "def argmax_on_surrogate(model, starts, iters=400, lr=0.05):\n",
    "    best_z, best_pred = None, -1e9\n",
    "    for z0 in starts:\n",
    "        z = torch.tensor(z0.copy(), dtype=torch.float32, requires_grad=True)\n",
    "        opt = torch.optim.Adam([z], lr=lr)\n",
    "        for _ in range(iters):\n",
    "            opt.zero_grad()\n",
    "            z_c = torch.clamp(z, 0.0, 1.0)\n",
    "            pred = model(z_c)\n",
    "            loss = -pred\n",
    "            loss.backward(); opt.step()\n",
    "        with torch.no_grad():\n",
    "            z_c = torch.clamp(z, 0.0, 1.0)\n",
    "            pred = model(z_c).item()\n",
    "            if pred > best_pred:\n",
    "                best_pred, best_z = pred, z_c.detach().numpy()\n",
    "    return best_z, best_pred"
   ]
  },
  {
   "cell_type": "code",
   "execution_count": 8,
   "id": "b4bfd83c",
   "metadata": {},
   "outputs": [],
   "source": [
    "SPLITS = [\n",
    "    ('2018-01-01', '2020-12-31', '2021-01-01', '2021-06-30'),\n",
    "    ('2018-07-01', '2021-06-30', '2021-07-01', '2021-12-31'),\n",
    "    ('2019-01-01', '2021-12-31', '2022-01-01', '2022-06-30'),\n",
    "    ('2019-07-01', '2022-06-30', '2022-07-01', '2022-12-31'),\n",
    "]\n",
    "\n",
    "\n",
    "def slice_df(df, s, e):\n",
    "    return df.loc[s:e]\n",
    "\n",
    "\n",
    "def robust_validation_score(df_full, p):\n",
    "    sharpes, tpds = [] , []\n",
    "    for (tr_s, tr_e, val_s, val_e) in SPLITS:\n",
    "        train = slice_df(df_full, tr_s, tr_e)\n",
    "        if len(train) > 0:\n",
    "            train = train.iloc[:-5]  # embargo 5 bars\n",
    "        valid = slice_df(df_full, val_s, val_e)\n",
    "        # friction jitter\n",
    "        for sp in [0.00008, 0.0001, 0.00012]:\n",
    "            s, t, _ = run_bt(valid, p, spread=sp)\n",
    "            sharpes.append(s)\n",
    "            tpds.append(t)\n",
    "    sharpes = np.array(sharpes, float)\n",
    "    tpds = np.array(tpds, float)\n",
    "    q25 = float(np.quantile(sharpes, 0.25))\n",
    "    std = float(np.std(sharpes))\n",
    "    tpd = float(np.median(tpds))\n",
    "    return q25 - 0.5 * std - 0.02 * tpd"
   ]
  },
  {
   "cell_type": "code",
   "execution_count": 9,
   "id": "98771663",
   "metadata": {},
   "outputs": [],
   "source": [
    "np.random.seed(42)\n",
    "\n",
    "csv_path = 'BATS_QQQ, 60_a45be.csv'\n",
    "full_df = load_data(csv_path, start='2018-01-01', end_excl='2024-01-01')\n",
    "\n",
    "# Define periods\n",
    "df_train = full_df.loc['2018-01-01':'2021-12-31']\n",
    "df_test = full_df.loc['2023-01-01':'2023-12-31']"
   ]
  },
  {
   "cell_type": "code",
   "execution_count": 10,
   "id": "378a1aa2",
   "metadata": {},
   "outputs": [],
   "source": [
    "def run_model_for_params(ohlc: pd.DataFrame,K : int):\n",
    "    \n",
    "    # 1) \n",
    "    N_INIT = 60\n",
    "    pool = sample_params(N_INIT)\n",
    "    X, y = [], []\n",
    "    t0 = time.perf_counter()\n",
    "    for p in pool:\n",
    "        s_train, _, _ = run_bt(ohlc, p)\n",
    "        X.append(encode(p)); y.append(s_train)\n",
    "    #print(f\"Initial evals: {len(y)} done in {time.perf_counter()-t0:.1f}s. Best train={max(y):.3f}\")\n",
    "\n",
    "    # 2)\n",
    "    N_ROUNDS = 3\n",
    "    TOP_K = 8\n",
    "    N_STARTS = 16\n",
    "    for r in range(N_ROUNDS):\n",
    "        surr = fit_surrogate(X, y, steps=1500, lr=1e-3, wd=1e-3, val_frac=0.2, patience=150)\n",
    "        starts = [np.random.rand(len(ORDER)) for _ in range(N_STARTS - 4)]\n",
    "        # seed from best-so-far\n",
    "        top_idx = np.argsort(y)[-4:]\n",
    "        starts += [X[i] for i in top_idx]\n",
    "        cand = []\n",
    "        for z0 in starts:\n",
    "            z_star, _ = argmax_on_surrogate(surr, [z0], iters=250, lr=0.05)\n",
    "            cand.append(z_star)\n",
    "        # dedupe\n",
    "        uniq = []\n",
    "        for z in cand:\n",
    "            if all(np.linalg.norm(z - u) > 0.05 for u in uniq):\n",
    "                uniq.append(z)\n",
    "        preds = surr(torch.tensor(np.array(uniq), dtype=torch.float32)).detach().numpy()\n",
    "        order = np.argsort(preds)[::-1][:TOP_K]\n",
    "        added = 0\n",
    "        for idx in order:\n",
    "            p = decode(uniq[idx])\n",
    "            s_train, _, _ = run_bt(df_train, p)\n",
    "            X.append(encode(p)); y.append(s_train)\n",
    "            added += 1\n",
    "        #print(f\"Round {r+1}: added {added}, best train={max(y):.3f}\")\n",
    "\n",
    "    # 3)\n",
    "    candidates = [decode(x) for x in X]\n",
    "    val_scores = []\n",
    "    for p in candidates:\n",
    "        vs = robust_validation_score(full_df, p)\n",
    "        val_scores.append(vs)\n",
    "    idxs = np.argsort(val_scores)[::-1]\n",
    "    K_FINAL = K\n",
    "    finalists = [candidates[i] for i in idxs[:K_FINAL]]\n",
    "    scores = [val_scores[i] for i in idxs[:K_FINAL]]\n",
    "    #print(\"Top finalists by robust validation:\")\n",
    "    #for i, p in enumerate(finalists, 1):\n",
    "        #print(f\"{i}. {p} | robust_score={val_scores[idxs[i-1]]:.3f}\")\n",
    "    return finalists, scores\n",
    "\n",
    "        "
   ]
  },
  {
   "cell_type": "code",
   "execution_count": 11,
   "id": "bebb4840",
   "metadata": {},
   "outputs": [],
   "source": [
    "def winner_SR(ohlc: pd.DataFrame):\n",
    "    _, best_SR = run_model_for_params(ohlc,1)\n",
    "    return best_SR"
   ]
  },
  {
   "cell_type": "code",
   "execution_count": 12,
   "id": "aa0963aa",
   "metadata": {},
   "outputs": [],
   "source": [
    "best_finalists, best_SRs = run_model_for_params(df_train, 25)"
   ]
  },
  {
   "cell_type": "code",
   "execution_count": 13,
   "id": "e2059f78",
   "metadata": {},
   "outputs": [
    {
     "name": "stdout",
     "output_type": "stream",
     "text": [
      "[{'sl_pct': 0.004858163237571716, 'n_fast': 17, 'n_slow': 41, 'n_vslow': 100, 'sig_len': 23}, {'sl_pct': 0.004397631511092186, 'n_fast': 12, 'n_slow': 16, 'n_vslow': 96, 'sig_len': 21}, {'sl_pct': 0.007757114589214325, 'n_fast': 22, 'n_slow': 55, 'n_vslow': 89, 'sig_len': 30}, {'sl_pct': 0.0017682381980121135, 'n_fast': 19, 'n_slow': 24, 'n_vslow': 119, 'sig_len': 14}, {'sl_pct': 0.008485425710678101, 'n_fast': 22, 'n_slow': 55, 'n_vslow': 93, 'sig_len': 30}, {'sl_pct': 0.004972360804677009, 'n_fast': 14, 'n_slow': 44, 'n_vslow': 36, 'sig_len': 20}, {'sl_pct': 0.00406320433318615, 'n_fast': 6, 'n_slow': 51, 'n_vslow': 74, 'sig_len': 29}, {'sl_pct': 0.004128461137413979, 'n_fast': 13, 'n_slow': 46, 'n_vslow': 80, 'sig_len': 14}, {'sl_pct': 0.007827163517475127, 'n_fast': 21, 'n_slow': 55, 'n_vslow': 90, 'sig_len': 28}, {'sl_pct': 0.0026813575997948645, 'n_fast': 12, 'n_slow': 30, 'n_vslow': 109, 'sig_len': 17}, {'sl_pct': 0.003964354246854782, 'n_fast': 23, 'n_slow': 32, 'n_vslow': 104, 'sig_len': 15}, {'sl_pct': 0.007162555426359176, 'n_fast': 11, 'n_slow': 42, 'n_vslow': 30, 'sig_len': 29}, {'sl_pct': 0.008713751763105392, 'n_fast': 23, 'n_slow': 55, 'n_vslow': 97, 'sig_len': 30}, {'sl_pct': 0.0042399582862854, 'n_fast': 11, 'n_slow': 27, 'n_vslow': 33, 'sig_len': 29}, {'sl_pct': 0.004342579841613769, 'n_fast': 8, 'n_slow': 42, 'n_vslow': 43, 'sig_len': 25}, {'sl_pct': 0.008116262286901474, 'n_fast': 19, 'n_slow': 52, 'n_vslow': 101, 'sig_len': 25}, {'sl_pct': 0.006155631810426712, 'n_fast': 25, 'n_slow': 33, 'n_vslow': 55, 'sig_len': 29}, {'sl_pct': 0.0030043909549713134, 'n_fast': 16, 'n_slow': 53, 'n_vslow': 113, 'sig_len': 15}, {'sl_pct': 0.001886647630482912, 'n_fast': 20, 'n_slow': 24, 'n_vslow': 91, 'sig_len': 19}, {'sl_pct': 0.004775598049163818, 'n_fast': 15, 'n_slow': 26, 'n_vslow': 37, 'sig_len': 7}, {'sl_pct': 0.0016533818766474723, 'n_fast': 18, 'n_slow': 26, 'n_vslow': 65, 'sig_len': 22}, {'sl_pct': 0.008503851294517518, 'n_fast': 25, 'n_slow': 55, 'n_vslow': 97, 'sig_len': 30}, {'sl_pct': 0.0021901995688676833, 'n_fast': 5, 'n_slow': 44, 'n_vslow': 30, 'sig_len': 30}, {'sl_pct': 0.00559905007481575, 'n_fast': 8, 'n_slow': 20, 'n_vslow': 85, 'sig_len': 21}, {'sl_pct': 0.004070945456624031, 'n_fast': 10, 'n_slow': 49, 'n_vslow': 113, 'sig_len': 7}]\n",
      "[0.6074807158937355, 0.011410083125403972, -0.17807718454074423, -0.20873972994311005, -0.32756571338570406, -0.3367759962358928, -0.34234254473065895, -0.4121660084952864, -0.5274537956760845, -0.5303127936617757, -0.5634543241333324, -0.5668959724536655, -0.6147758895631275, -0.6557572398889485, -0.6689510259537645, -0.6986987082552274, -0.7518237172595231, -0.7567973862658484, -0.7805837191053991, -0.8406622753925566, -0.858339409708112, -0.8749130983407041, -0.8997352905864561, -0.9295856583787607, -0.9882777948967129]\n",
      "[1.508101028245401, 1.5226544118016947, 1.3575246024187944, 0.9324784144265472, 1.266911264437248, 1.2973726520678577, 1.4091140839616085, 1.5324229860245537, 1.3204989615158476, 1.1770354803710197, 1.4360721016910372, 1.2226233810744436, 1.400425892311714, 1.4499621096059496, 1.582935518724423, 1.4168638795873643, 1.471205211620353, 1.2585308843521668, 0.8429491350144666, 1.2767775431728172, 0.6944356607682017, 1.3759814520202176, 0.821420456775696, 1.3800008683866676, 1.42284189851071]\n"
     ]
    }
   ],
   "source": [
    "print(best_finalists)\n",
    "print(best_SRs)\n",
    "notrobustSR = []\n",
    "for t in best_finalists:\n",
    "    MBNRSR, _ , _ = run_bt(df_train,t)\n",
    "    notrobustSR.append(MBNRSR)\n",
    "print(notrobustSR)"
   ]
  },
  {
   "cell_type": "code",
   "execution_count": 14,
   "id": "76f025ab",
   "metadata": {},
   "outputs": [
    {
     "name": "stdout",
     "output_type": "stream",
     "text": [
      "In-sample Robust Sarpe Ratio :  0.6074807158937355 ,  Best n_fast :  17 ,  Best n_slow :  41 ,  Best n_vslow :  100 ,  Best stop loss   0.004858163237571716 ,  Best Signal lenght :  23\n"
     ]
    }
   ],
   "source": [
    "SR_OPTI_0 = best_SRs[0]\n",
    "PARAM_OPTI_0 = best_finalists[0]\n",
    "SL_0 = PARAM_OPTI_0['sl_pct']\n",
    "N_Fast = PARAM_OPTI_0['n_fast']\n",
    "N_Slow = PARAM_OPTI_0['n_slow']\n",
    "N_VSlow = PARAM_OPTI_0['n_vslow']\n",
    "S_Lenght = PARAM_OPTI_0['sig_len']\n",
    "print(\"In-sample Robust Sarpe Ratio : \", SR_OPTI_0, \",  Best n_fast : \", N_Fast, \",  Best n_slow : \", N_Slow, \",  Best n_vslow : \", N_VSlow, \",  Best stop loss  \", SL_0, \",  Best Signal lenght : \", S_Lenght)\n"
   ]
  },
  {
   "cell_type": "code",
   "execution_count": 15,
   "id": "562961b4",
   "metadata": {},
   "outputs": [
    {
     "name": "stdout",
     "output_type": "stream",
     "text": [
      "In-Sample MCPT\n"
     ]
    },
    {
     "name": "stderr",
     "output_type": "stream",
     "text": [
      "100%|██████████| 20/20 [12:18<00:00, 36.90s/it]"
     ]
    },
    {
     "name": "stdout",
     "output_type": "stream",
     "text": [
      "Les 25 meilleurs set de param on donner des p-val : [np.float64(0.05), np.float64(0.05), np.float64(0.05), np.float64(0.05), np.float64(0.05), np.float64(0.05), np.float64(0.05), np.float64(0.05), np.float64(0.05), np.float64(0.05), np.float64(0.05), np.float64(0.05), np.float64(0.05), np.float64(0.05), np.float64(0.05), np.float64(0.05), np.float64(0.05), np.float64(0.05), np.float64(0.05), np.float64(0.05), np.float64(0.05), np.float64(0.05), np.float64(0.05), np.float64(0.05), np.float64(0.05)]\n",
      "In-sample MCPT P-Value: 0.05\n"
     ]
    },
    {
     "name": "stderr",
     "output_type": "stream",
     "text": [
      "\n"
     ]
    },
    {
     "data": {
      "image/png": "[encoded data removed]",
      "text/plain": [
       "<Figure size 640x480 with 1 Axes>"
      ]
     },
     "metadata": {},
     "output_type": "display_data"
    }
   ],
   "source": [
    "n_permutations = 20\n",
    "perm_better_count1 = 1\n",
    "perm_better_counts = np.ones(25)\n",
    "permuted_SRs = []\n",
    "permuted_25best_SR = []\n",
    "p_vals_25best = []\n",
    "print(\"In-Sample MCPT\")\n",
    "\n",
    "local_df_train = df_train.copy()\n",
    "local_SR_OPTI_0 = SR_OPTI_0\n",
    "local_finalists = best_finalists.copy()\n",
    "\n",
    "for perm_i in tqdm(range(1, n_permutations+1)):\n",
    "\n",
    "    train_perm = get_permutation(local_df_train)\n",
    "\n",
    "    RVSs = []\n",
    "    for l in local_finalists :\n",
    "        RVSs.append(run_bt(train_perm, l)[0])\n",
    "    \n",
    "    for i in range(25) :\n",
    "        if RVSs[i] >= notrobustSR[i] :\n",
    "            perm_better_counts[i] += 1\n",
    "\n",
    "\n",
    "    best_perm_SR = float(winner_SR(train_perm)[0])\n",
    "\n",
    "    \n",
    "    if best_perm_SR >= local_SR_OPTI_0:\n",
    "        perm_better_count1 += 1\n",
    "\n",
    "    permuted_SRs.append(best_perm_SR)\n",
    "\n",
    "insample_mcpt_pval = perm_better_count1 / n_permutations\n",
    "\n",
    "insample_mcpt_pval_25_best = []\n",
    "\n",
    "for t in range(25) :\n",
    "    insample_mcpt_pval_25_best.append(perm_better_counts[i] / n_permutations)\n",
    "\n",
    "print(f\"Les 25 meilleurs set de param on donner des p-val : {insample_mcpt_pval_25_best}\")\n",
    "print(f\"In-sample MCPT P-Value: {insample_mcpt_pval}\")\n",
    "plt.style.use('dark_background')\n",
    "pd.Series(permuted_SRs).hist(color='blue', label='Permutations')\n",
    "plt.axvline(local_SR_OPTI_0, color='red', label='Real')\n",
    "plt.xlabel(\"Profit Factor\")\n",
    "plt.title(f\"In-sample MCPT. P-Value: {insample_mcpt_pval}\")\n",
    "plt.grid(False)\n",
    "plt.legend()\n",
    "plt.show()"
   ]
  },
  {
   "cell_type": "code",
   "execution_count": 16,
   "id": "dd7c09b2",
   "metadata": {},
   "outputs": [
    {
     "ename": "TypeError",
     "evalue": "'float' object is not subscriptable",
     "output_type": "error",
     "traceback": [
      "\u001b[31m---------------------------------------------------------------------------\u001b[39m",
      "\u001b[31mTypeError\u001b[39m                                 Traceback (most recent call last)",
      "\u001b[36mCell\u001b[39m\u001b[36m \u001b[39m\u001b[32mIn[16]\u001b[39m\u001b[32m, line 2\u001b[39m\n\u001b[32m      1\u001b[39m \u001b[38;5;66;03m# 5) Final untouched test on 2023\u001b[39;00m\n\u001b[32m----> \u001b[39m\u001b[32m2\u001b[39m test_score, _, test_stats = \u001b[43mrun_bt\u001b[49m\u001b[43m(\u001b[49m\u001b[43mdf_test\u001b[49m\u001b[43m,\u001b[49m\u001b[43m \u001b[49m\u001b[43minsample_mcpt_pval\u001b[49m\u001b[43m)\u001b[49m\n\u001b[32m      3\u001b[39m \u001b[38;5;28mprint\u001b[39m(\u001b[33m\"\u001b[39m\u001b[38;5;130;01m\\n\u001b[39;00m\u001b[33m=== Final Test (2023) ===\u001b[39m\u001b[33m\"\u001b[39m)\n\u001b[32m      4\u001b[39m \u001b[38;5;28mprint\u001b[39m(\u001b[33mf\u001b[39m\u001b[33m\"\u001b[39m\u001b[33mTest score (Sharpe-penalty): \u001b[39m\u001b[38;5;132;01m{\u001b[39;00mtest_score\u001b[38;5;132;01m:\u001b[39;00m\u001b[33m.3f\u001b[39m\u001b[38;5;132;01m}\u001b[39;00m\u001b[33m\"\u001b[39m)\n",
      "\u001b[36mCell\u001b[39m\u001b[36m \u001b[39m\u001b[32mIn[5]\u001b[39m\u001b[32m, line 2\u001b[39m, in \u001b[36mrun_bt\u001b[39m\u001b[34m(data, params, spread)\u001b[39m\n\u001b[32m      1\u001b[39m \u001b[38;5;28;01mdef\u001b[39;00m\u001b[38;5;250m \u001b[39m\u001b[34mrun_bt\u001b[39m(data: pd.DataFrame, params: \u001b[38;5;28mdict\u001b[39m, spread: \u001b[38;5;28mfloat\u001b[39m = \u001b[32m0.0001\u001b[39m):\n\u001b[32m----> \u001b[39m\u001b[32m2\u001b[39m     Strat = \u001b[43mmake_strat\u001b[49m\u001b[43m(\u001b[49m\u001b[43mparams\u001b[49m\u001b[43m)\u001b[49m\n\u001b[32m      3\u001b[39m     bt = Backtest(data, Strat, cash=\u001b[32m1_000_000\u001b[39m, commission=\u001b[32m0.0\u001b[39m, spread=spread, finalize_trades=\u001b[38;5;28;01mTrue\u001b[39;00m)\n\u001b[32m      5\u001b[39m     \u001b[38;5;28;01mwith\u001b[39;00m io.capture_output():\n",
      "\u001b[36mCell\u001b[39m\u001b[36m \u001b[39m\u001b[32mIn[4]\u001b[39m\u001b[32m, line 2\u001b[39m, in \u001b[36mmake_strat\u001b[39m\u001b[34m(p)\u001b[39m\n\u001b[32m      1\u001b[39m \u001b[38;5;28;01mdef\u001b[39;00m\u001b[38;5;250m \u001b[39m\u001b[34mmake_strat\u001b[39m(p):\n\u001b[32m----> \u001b[39m\u001b[32m2\u001b[39m \u001b[43m    \u001b[49m\u001b[38;5;28;43;01mclass\u001b[39;49;00m\u001b[38;5;250;43m \u001b[39;49m\u001b[34;43;01mTuned\u001b[39;49;00m\u001b[43m(\u001b[49m\u001b[43mARSIstrat\u001b[49m\u001b[43m)\u001b[49m\u001b[43m:\u001b[49m\n\u001b[32m      3\u001b[39m \u001b[43m        \u001b[49m\u001b[43msl_pct\u001b[49m\u001b[43m \u001b[49m\u001b[43m=\u001b[49m\u001b[43m \u001b[49m\u001b[38;5;28;43mfloat\u001b[39;49m\u001b[43m(\u001b[49m\u001b[43mp\u001b[49m\u001b[43m[\u001b[49m\u001b[33;43m'\u001b[39;49m\u001b[33;43msl_pct\u001b[39;49m\u001b[33;43m'\u001b[39;49m\u001b[43m]\u001b[49m\u001b[43m)\u001b[49m\n\u001b[32m      4\u001b[39m \u001b[43m        \u001b[49m\u001b[43mn_fast\u001b[49m\u001b[43m \u001b[49m\u001b[43m=\u001b[49m\u001b[43m \u001b[49m\u001b[38;5;28;43mint\u001b[39;49m\u001b[43m(\u001b[49m\u001b[43mp\u001b[49m\u001b[43m[\u001b[49m\u001b[33;43m'\u001b[39;49m\u001b[33;43mn_fast\u001b[39;49m\u001b[33;43m'\u001b[39;49m\u001b[43m]\u001b[49m\u001b[43m)\u001b[49m\n",
      "\u001b[36mCell\u001b[39m\u001b[36m \u001b[39m\u001b[32mIn[4]\u001b[39m\u001b[32m, line 3\u001b[39m, in \u001b[36mmake_strat.<locals>.Tuned\u001b[39m\u001b[34m()\u001b[39m\n\u001b[32m      2\u001b[39m \u001b[38;5;28;01mclass\u001b[39;00m\u001b[38;5;250m \u001b[39m\u001b[34;01mTuned\u001b[39;00m(ARSIstrat):\n\u001b[32m----> \u001b[39m\u001b[32m3\u001b[39m     sl_pct = \u001b[38;5;28mfloat\u001b[39m(\u001b[43mp\u001b[49m\u001b[43m[\u001b[49m\u001b[33;43m'\u001b[39;49m\u001b[33;43msl_pct\u001b[39;49m\u001b[33;43m'\u001b[39;49m\u001b[43m]\u001b[49m)\n\u001b[32m      4\u001b[39m     n_fast = \u001b[38;5;28mint\u001b[39m(p[\u001b[33m'\u001b[39m\u001b[33mn_fast\u001b[39m\u001b[33m'\u001b[39m])\n\u001b[32m      5\u001b[39m     n_slow = \u001b[38;5;28mint\u001b[39m(p[\u001b[33m'\u001b[39m\u001b[33mn_slow\u001b[39m\u001b[33m'\u001b[39m])\n",
      "\u001b[31mTypeError\u001b[39m: 'float' object is not subscriptable"
     ]
    }
   ],
   "source": [
    "# 5) Final untouched test on 2023\n",
    "test_score, _, test_stats = run_bt(df_test, insample_mcpt_pval)\n",
    "print(\"\\n=== Final Test (2023) ===\")\n",
    "print(f\"Test score (Sharpe-penalty): {test_score:.3f}\")\n",
    "print(test_stats)"
   ]
  }
 ],
 "metadata": {
  "kernelspec": {
   "display_name": ".venv313 (3.13.6)",
   "language": "python",
   "name": "python3"
  },
  "language_info": {
   "codemirror_mode": {
    "name": "ipython",
    "version": 3
   },
   "file_extension": ".py",
   "mimetype": "text/x-python",
   "name": "python",
   "nbconvert_exporter": "python",
   "pygments_lexer": "ipython3",
   "version": "3.13.6"
  }
 },
 "nbformat": 4,
 "nbformat_minor": 5
}
