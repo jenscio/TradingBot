{
 "cells": [
  {
   "cell_type": "code",
   "execution_count": null,
   "id": "3bbe8894",
   "metadata": {},
   "outputs": [],
   "source": [
    "import yfinance as yf\n",
    "import pandas as pd\n",
    "import numpy as np\n",
    "import numpy as np\n",
    "from IPython.utils import io\n",
    "import ta\n",
    "import matplotlib.pyplot as plt\n",
    "import matplotlib\n",
    "from backtesting import Backtest, Strategy\n",
    "from backtesting.lib import crossover\n",
    "import multiprocessing as mp\n",
    "import backtesting as btng\n",
    "from strategy import ARSIstrat\n",
    "from typing import List, Union \n",
    "from tqdm import tqdm\n",
    "from PERMUTATIONS import get_permutation"
   ]
  },
  {
   "cell_type": "code",
   "execution_count": null,
   "id": "a565b050",
   "metadata": {},
   "outputs": [],
   "source": [
    "new_df = pd.read_csv('BATS_QQQ, 60_a45be.csv')\n",
    "start = '2018-01-01'\n",
    "end_excl = '2024-01-01'   # exclusive upper bound (covers all of 2018–2022)\n",
    "new_df['time'] = pd.to_datetime(new_df['time'].astype(int), unit='s')\n",
    "new_df.set_index('time', inplace=True)\n",
    "new_df.sort_index(inplace=True)\n",
    "new_df = new_df.loc[(new_df.index >= start) & (new_df.index < end_excl)].copy()\n",
    "new_df = new_df.rename(columns={\n",
    "    'open':'Open', 'high':'High', 'low':'Low', 'close':'Close', 'volume':'Volume'\n",
    "})\n",
    "\n",
    "bt = Backtest(new_df, ARSIstrat, cash=1_000_000, commission=0.0, spread=0.0001, finalize_trades=True)  \n",
    "with io.capture_output():  \n",
    "    stats = bt.run()\n",
    "print(stats)\n",
    "bt.plot() "
   ]
  },
  {
   "cell_type": "code",
   "execution_count": null,
   "id": "7927f917",
   "metadata": {},
   "outputs": [],
   "source": [
    "stats, heatmap = bt.optimize(\n",
    "        n_fast=range(5, 16),          # 5..15\n",
    "        n_slow=range(10, 41, 2),      # 10..40 step 2\n",
    "        n_vslow=range(40, 121, 5),    # 40..120 step 5 (the \"very slow\" you asked to include)\n",
    "        maximize='Sharpe Ratio',\n",
    "        return_heatmap=True,\n",
    "        constraint=lambda p: p.n_fast < p.n_slow < p.n_vslow,\n",
    "        #method='random', max_tries=1500, random_state=42,  # uncomment to speed up search\n",
    "    )\n",
    "\n",
    "Sharpe_Ratio, Return, Trades = stats[['Sharpe Ratio', 'Return [%]', '# Trades']].values\n",
    "print(stats[['Sharpe Ratio', 'Return [%]', '# Trades']])\n"
   ]
  },
  {
   "cell_type": "code",
   "execution_count": null,
   "id": "f39e59bd",
   "metadata": {},
   "outputs": [],
   "source": [
    "best = stats._strategy\n",
    "BNF = best.n_fast\n",
    "BNS = best.n_slow\n",
    "BNVS = best.n_vslow\n",
    "params = {\n",
    "    'n_fast':  int(BNF),\n",
    "    'n_slow':  int(BNS),\n",
    "    'n_vslow': int(BNVS),\n",
    "    'sig_len': int(getattr(best, 'sig_len', 14)),\n",
    "    'sl_pct':  float(getattr(best, 'sl_pct', 0.01)),\n",
    "}\n",
    "\n",
    "print(params)"
   ]
  },
  {
   "cell_type": "code",
   "execution_count": null,
   "id": "ec76f1c6",
   "metadata": {},
   "outputs": [],
   "source": [
    "Sharpe_Ratio_OPTI_real, Return_OPTI_real, Trades = stats[['Sharpe Ratio', 'Return [%]', '# Trades']].values\n",
    "print(\"In-sample Sarpe Ratio\", Sharpe_Ratio_OPTI_real, \"Best n_fast\", BNF, \"Best n_slow\", BNS, \"Best n_vslow\", BNVS)\n",
    "\n",
    "\n",
    "n_permutations = 1000\n",
    "perm_better_count = 1\n",
    "permuted_pfs = []\n",
    "print(\"In-Sample MCPT\")\n",
    "\n",
    "for perm_i in tqdm(range(1, n_permutations)):\n",
    "\n",
    "    train_perm = get_permutation(new_df)\n",
    "\n",
    "    train_bt = Backtest(train_perm, ARSIstrat, cash=1_000_000, commission=0.0, spread=0.0001, finalize_trades=True) \n",
    "\n",
    "    stat_perm, _ = train_bt.optimize(\n",
    "        n_fast=range(5, 16),          \n",
    "        n_slow=range(10, 41, 2),      \n",
    "        n_vslow=range(40, 121, 5),   \n",
    "        maximize='Sharpe Ratio',\n",
    "        return_heatmap=True,\n",
    "        constraint=lambda p: p.n_fast < p.n_slow < p.n_vslow,\n",
    "    )\n",
    "\n",
    "    best_SR_perm, _, _ = stat_perm[['Sharpe Ratio', 'Return [%]', '# Trades']].values\n",
    "\n",
    "    if best_SR_perm >= Sharpe_Ratio_OPTI_real:\n",
    "        perm_better_count += 1\n",
    "\n",
    "    permuted_pfs.append(best_SR_perm)\n",
    "\n",
    "insample_mcpt_pval = perm_better_count / n_permutations\n",
    "print(f\"In-sample MCPT P-Value: {insample_mcpt_pval}\")\n",
    "\n",
    "plt.style.use('dark_background')\n",
    "pd.Series(permuted_pfs).hist(color='blue', label='Permutations')\n",
    "plt.axvline(Sharpe_Ratio_OPTI_real, color='red', label='Real')\n",
    "plt.xlabel(\"Profit Factor\")\n",
    "plt.title(f\"In-sample MCPT. P-Value: {insample_mcpt_pval}\")\n",
    "plt.grid(False)\n",
    "plt.legend()\n",
    "plt.show()"
   ]
  }
 ],
 "metadata": {
  "kernelspec": {
   "display_name": ".venv313 (3.13.6)",
   "language": "python",
   "name": "python3"
  },
  "language_info": {
   "codemirror_mode": {
    "name": "ipython",
    "version": 3
   },
   "file_extension": ".py",
   "mimetype": "text/x-python",
   "name": "python",
   "nbconvert_exporter": "python",
   "pygments_lexer": "ipython3",
   "version": "3.13.6"
  }
 },
 "nbformat": 4,
 "nbformat_minor": 5
}
